{
 "cells": [
  {
   "cell_type": "markdown",
   "id": "9ea086d2",
   "metadata": {},
   "source": [
    "# Amazon electronics dataset exploration"
   ]
  },
  {
   "cell_type": "markdown",
   "id": "9bfe36f0",
   "metadata": {},
   "source": [
    "## 2018 Amazon Review Data"
   ]
  },
  {
   "cell_type": "markdown",
   "id": "5f3461d2",
   "metadata": {},
   "source": [
    "A subset of the Amazon Review Data (2018), the electronics category data is roughly 20M engagements from Amazon users.  \n",
    "\n",
    "*Source*: Justifying recommendations using distantly-labeled reviews and fined-grained aspects\n",
    "Jianmo Ni, Jiacheng Li, Julian McAuley\n",
    "Empirical Methods in Natural Language Processing (EMNLP), 2019, https://nijianmo.github.io/amazon/index.html"
   ]
  },
  {
   "cell_type": "code",
   "execution_count": 3,
   "id": "080e6438",
   "metadata": {},
   "outputs": [
    {
     "name": "stdout",
     "output_type": "stream",
     "text": [
      "Electronics.csv\n"
     ]
    }
   ],
   "source": [
    "!ls ../data"
   ]
  },
  {
   "cell_type": "code",
   "execution_count": 6,
   "id": "0e68b5cc",
   "metadata": {},
   "outputs": [],
   "source": [
    "import pandas as pd\n",
    "df = pd.read_csv('../data/Electronics.csv')"
   ]
  },
  {
   "cell_type": "markdown",
   "id": "3ea0dedc",
   "metadata": {},
   "source": [
    "Ratings only: These datasets include no metadata or reviews, but only (item,user,rating,timestamp) tuples. Thus they are suitable for use with mymedialite (or similar) packages."
   ]
  },
  {
   "cell_type": "code",
   "execution_count": 13,
   "id": "36c0f4a9",
   "metadata": {},
   "outputs": [],
   "source": [
    "df.columns = [\"item\", \"user\", \"rating\", \"timestamp\"]"
   ]
  },
  {
   "cell_type": "code",
   "execution_count": 14,
   "id": "f569df19",
   "metadata": {},
   "outputs": [
    {
     "data": {
      "text/html": [
       "<div>\n",
       "<style scoped>\n",
       "    .dataframe tbody tr th:only-of-type {\n",
       "        vertical-align: middle;\n",
       "    }\n",
       "\n",
       "    .dataframe tbody tr th {\n",
       "        vertical-align: top;\n",
       "    }\n",
       "\n",
       "    .dataframe thead th {\n",
       "        text-align: right;\n",
       "    }\n",
       "</style>\n",
       "<table border=\"1\" class=\"dataframe\">\n",
       "  <thead>\n",
       "    <tr style=\"text-align: right;\">\n",
       "      <th></th>\n",
       "      <th>item</th>\n",
       "      <th>user</th>\n",
       "      <th>rating</th>\n",
       "      <th>timestamp</th>\n",
       "    </tr>\n",
       "  </thead>\n",
       "  <tbody>\n",
       "    <tr>\n",
       "      <th>0</th>\n",
       "      <td>0060009810</td>\n",
       "      <td>A3P0KRKOBQK1KN</td>\n",
       "      <td>5.0</td>\n",
       "      <td>1025913600</td>\n",
       "    </tr>\n",
       "    <tr>\n",
       "      <th>1</th>\n",
       "      <td>0060009810</td>\n",
       "      <td>A192HO2ICJ75VU</td>\n",
       "      <td>5.0</td>\n",
       "      <td>1025654400</td>\n",
       "    </tr>\n",
       "    <tr>\n",
       "      <th>2</th>\n",
       "      <td>0060009810</td>\n",
       "      <td>A2T278FKFL3BLT</td>\n",
       "      <td>4.0</td>\n",
       "      <td>1025395200</td>\n",
       "    </tr>\n",
       "    <tr>\n",
       "      <th>3</th>\n",
       "      <td>0060009810</td>\n",
       "      <td>A2ZUXVTW8RXBXW</td>\n",
       "      <td>5.0</td>\n",
       "      <td>1025222400</td>\n",
       "    </tr>\n",
       "    <tr>\n",
       "      <th>4</th>\n",
       "      <td>0060009810</td>\n",
       "      <td>A21JDG4HA6OLPF</td>\n",
       "      <td>4.0</td>\n",
       "      <td>1024963200</td>\n",
       "    </tr>\n",
       "  </tbody>\n",
       "</table>\n",
       "</div>"
      ],
      "text/plain": [
       "         item            user  rating   timestamp\n",
       "0  0060009810  A3P0KRKOBQK1KN     5.0  1025913600\n",
       "1  0060009810  A192HO2ICJ75VU     5.0  1025654400\n",
       "2  0060009810  A2T278FKFL3BLT     4.0  1025395200\n",
       "3  0060009810  A2ZUXVTW8RXBXW     5.0  1025222400\n",
       "4  0060009810  A21JDG4HA6OLPF     4.0  1024963200"
      ]
     },
     "execution_count": 14,
     "metadata": {},
     "output_type": "execute_result"
    }
   ],
   "source": [
    "df.head()"
   ]
  },
  {
   "cell_type": "code",
   "execution_count": 10,
   "id": "6127ba20",
   "metadata": {},
   "outputs": [
    {
     "data": {
      "text/plain": [
       "20994352"
      ]
     },
     "execution_count": 10,
     "metadata": {},
     "output_type": "execute_result"
    }
   ],
   "source": [
    "len(df)"
   ]
  },
  {
   "cell_type": "markdown",
   "id": "f848cfe3",
   "metadata": {},
   "source": [
    "Hmm... are the four columns sufficient for our system? Can we infer a purchase based on the presence of a rating? Do we assume a user with no rating for a product failed to purchase? Yeesh... that doesn't seem supportable. I guess the prediction here is not whether they bought it but whether they were motivated to source a review. Here the review becomes the reward, not the sale ... go off and read the paper: https://cseweb.ucsd.edu/~jmcauley/pdfs/emnlp19a.pdf"
   ]
  },
  {
   "cell_type": "code",
   "execution_count": 17,
   "id": "94334a12",
   "metadata": {},
   "outputs": [
    {
     "data": {
      "text/html": [
       "<div>\n",
       "<style scoped>\n",
       "    .dataframe tbody tr th:only-of-type {\n",
       "        vertical-align: middle;\n",
       "    }\n",
       "\n",
       "    .dataframe tbody tr th {\n",
       "        vertical-align: top;\n",
       "    }\n",
       "\n",
       "    .dataframe thead th {\n",
       "        text-align: right;\n",
       "    }\n",
       "</style>\n",
       "<table border=\"1\" class=\"dataframe\">\n",
       "  <thead>\n",
       "    <tr style=\"text-align: right;\">\n",
       "      <th></th>\n",
       "      <th>rating</th>\n",
       "      <th>timestamp</th>\n",
       "    </tr>\n",
       "  </thead>\n",
       "  <tbody>\n",
       "    <tr>\n",
       "      <th>count</th>\n",
       "      <td>2.099435e+07</td>\n",
       "      <td>2.099435e+07</td>\n",
       "    </tr>\n",
       "    <tr>\n",
       "      <th>mean</th>\n",
       "      <td>4.073685e+00</td>\n",
       "      <td>1.425967e+09</td>\n",
       "    </tr>\n",
       "    <tr>\n",
       "      <th>std</th>\n",
       "      <td>1.385792e+00</td>\n",
       "      <td>7.769201e+07</td>\n",
       "    </tr>\n",
       "    <tr>\n",
       "      <th>min</th>\n",
       "      <td>1.000000e+00</td>\n",
       "      <td>8.811936e+08</td>\n",
       "    </tr>\n",
       "    <tr>\n",
       "      <th>25%</th>\n",
       "      <td>4.000000e+00</td>\n",
       "      <td>1.394064e+09</td>\n",
       "    </tr>\n",
       "    <tr>\n",
       "      <th>50%</th>\n",
       "      <td>5.000000e+00</td>\n",
       "      <td>1.440634e+09</td>\n",
       "    </tr>\n",
       "    <tr>\n",
       "      <th>75%</th>\n",
       "      <td>5.000000e+00</td>\n",
       "      <td>1.478736e+09</td>\n",
       "    </tr>\n",
       "    <tr>\n",
       "      <th>max</th>\n",
       "      <td>5.000000e+00</td>\n",
       "      <td>1.538698e+09</td>\n",
       "    </tr>\n",
       "  </tbody>\n",
       "</table>\n",
       "</div>"
      ],
      "text/plain": [
       "             rating     timestamp\n",
       "count  2.099435e+07  2.099435e+07\n",
       "mean   4.073685e+00  1.425967e+09\n",
       "std    1.385792e+00  7.769201e+07\n",
       "min    1.000000e+00  8.811936e+08\n",
       "25%    4.000000e+00  1.394064e+09\n",
       "50%    5.000000e+00  1.440634e+09\n",
       "75%    5.000000e+00  1.478736e+09\n",
       "max    5.000000e+00  1.538698e+09"
      ]
     },
     "execution_count": 17,
     "metadata": {},
     "output_type": "execute_result"
    }
   ],
   "source": [
    "df.describe()"
   ]
  },
  {
   "cell_type": "code",
   "execution_count": 16,
   "id": "2c3c02f6",
   "metadata": {},
   "outputs": [
    {
     "data": {
      "text/plain": [
       "item\n",
       "B010OYASRG    28539\n",
       "B00L0YLRUW    20873\n",
       "B00DIF2BO2    17045\n",
       "B006GWO5WK    16130\n",
       "B003L1ZYYW    16056\n",
       "              ...  \n",
       "B00GXO0W5K        1\n",
       "B00GXOIMF2        1\n",
       "B00A8ZGSOE        1\n",
       "B003ZTYGMG        1\n",
       "B01HJF4DUG        1\n",
       "Name: count, Length: 756489, dtype: int64"
      ]
     },
     "execution_count": 16,
     "metadata": {},
     "output_type": "execute_result"
    }
   ],
   "source": [
    "df.item.value_counts()"
   ]
  },
  {
   "cell_type": "code",
   "execution_count": null,
   "id": "f2a95b26",
   "metadata": {},
   "outputs": [],
   "source": []
  },
  {
   "cell_type": "markdown",
   "id": "9c026314",
   "metadata": {},
   "source": [
    "## 2023 Amazon Reviews Data"
   ]
  },
  {
   "cell_type": "code",
   "execution_count": 19,
   "id": "9cb8aa88",
   "metadata": {},
   "outputs": [
    {
     "name": "stdout",
     "output_type": "stream",
     "text": [
      "Electronics.csv        meta_Electronics.jsonl\n"
     ]
    }
   ],
   "source": [
    "!ls ../data"
   ]
  },
  {
   "cell_type": "markdown",
   "id": "f123f848",
   "metadata": {},
   "source": [
    "2023 publication, see https://amazon-reviews-2023.github.io/"
   ]
  },
  {
   "cell_type": "code",
   "execution_count": 4,
   "id": "44c2ffc6",
   "metadata": {},
   "outputs": [],
   "source": [
    "import json \n",
    "import pandas as pd\n",
    "\n",
    "df = pd.read_json(\"../data/meta_Electronics.jsonl\", lines=True, nrows=10000) "
   ]
  },
  {
   "cell_type": "code",
   "execution_count": 7,
   "id": "844fb19e",
   "metadata": {},
   "outputs": [
    {
     "data": {
      "text/html": [
       "<div>\n",
       "<style scoped>\n",
       "    .dataframe tbody tr th:only-of-type {\n",
       "        vertical-align: middle;\n",
       "    }\n",
       "\n",
       "    .dataframe tbody tr th {\n",
       "        vertical-align: top;\n",
       "    }\n",
       "\n",
       "    .dataframe thead th {\n",
       "        text-align: right;\n",
       "    }\n",
       "</style>\n",
       "<table border=\"1\" class=\"dataframe\">\n",
       "  <thead>\n",
       "    <tr style=\"text-align: right;\">\n",
       "      <th></th>\n",
       "      <th>main_category</th>\n",
       "      <th>title</th>\n",
       "      <th>average_rating</th>\n",
       "      <th>rating_number</th>\n",
       "      <th>features</th>\n",
       "      <th>description</th>\n",
       "      <th>price</th>\n",
       "      <th>images</th>\n",
       "      <th>videos</th>\n",
       "      <th>store</th>\n",
       "      <th>categories</th>\n",
       "      <th>details</th>\n",
       "      <th>parent_asin</th>\n",
       "      <th>bought_together</th>\n",
       "      <th>subtitle</th>\n",
       "      <th>author</th>\n",
       "    </tr>\n",
       "  </thead>\n",
       "  <tbody>\n",
       "    <tr>\n",
       "      <th>9990</th>\n",
       "      <td>Computers</td>\n",
       "      <td>Micro USB to Type C OTG Cable 90 Degree Video ...</td>\n",
       "      <td>4.6</td>\n",
       "      <td>3</td>\n",
       "      <td>[]</td>\n",
       "      <td>[]</td>\n",
       "      <td>NaN</td>\n",
       "      <td>[{'thumb': 'https://m.media-amazon.com/images/...</td>\n",
       "      <td>[]</td>\n",
       "      <td>AKindle</td>\n",
       "      <td>[Electronics, Computers &amp; Accessories, Compute...</td>\n",
       "      <td>{'Brand': 'AKindle', 'Connector Type': 'Micro ...</td>\n",
       "      <td>B08HLS97QX</td>\n",
       "      <td>NaN</td>\n",
       "      <td>NaN</td>\n",
       "      <td>NaN</td>\n",
       "    </tr>\n",
       "    <tr>\n",
       "      <th>9991</th>\n",
       "      <td>None</td>\n",
       "      <td>Nutone IS69WH Intercom Door Speaker</td>\n",
       "      <td>3.0</td>\n",
       "      <td>1</td>\n",
       "      <td>[]</td>\n",
       "      <td>[Brand new in box This door speaker is designe...</td>\n",
       "      <td>NaN</td>\n",
       "      <td>[{'thumb': 'https://m.media-amazon.com/images/...</td>\n",
       "      <td>[]</td>\n",
       "      <td>Nutone</td>\n",
       "      <td>[Electronics, Security &amp; Surveillance, Home Se...</td>\n",
       "      <td>{'Manufacturer': 'Nutone', 'Item model number'...</td>\n",
       "      <td>B008U9OCVG</td>\n",
       "      <td>NaN</td>\n",
       "      <td>NaN</td>\n",
       "      <td>NaN</td>\n",
       "    </tr>\n",
       "    <tr>\n",
       "      <th>9992</th>\n",
       "      <td>All Electronics</td>\n",
       "      <td>CableCreation 3.5mm Aux Cable, 3.5mm Male to M...</td>\n",
       "      <td>4.6</td>\n",
       "      <td>1185</td>\n",
       "      <td>[►[Incredibly Quality]: Premium zinc alloy cas...</td>\n",
       "      <td>[]</td>\n",
       "      <td>9.99</td>\n",
       "      <td>[{'thumb': 'https://m.media-amazon.com/images/...</td>\n",
       "      <td>[{'title': '3.5mm Nylon Braided Cord', 'url': ...</td>\n",
       "      <td>CableCreation</td>\n",
       "      <td>[Electronics, Home Audio, Home Audio Accessori...</td>\n",
       "      <td>{'Brand': 'CableCreation', 'Connector Type': '...</td>\n",
       "      <td>B07LCJ4SXG</td>\n",
       "      <td>NaN</td>\n",
       "      <td>NaN</td>\n",
       "      <td>NaN</td>\n",
       "    </tr>\n",
       "    <tr>\n",
       "      <th>9993</th>\n",
       "      <td>Automotive</td>\n",
       "      <td>Red Hound Auto Screen Saver 2pc Compatible wit...</td>\n",
       "      <td>3.6</td>\n",
       "      <td>9</td>\n",
       "      <td>[Easy, Wet Installation! Deluxe kit includes p...</td>\n",
       "      <td>[Deluxe Red Hound Auto Clear Screen Protector:...</td>\n",
       "      <td>19.98</td>\n",
       "      <td>[{'thumb': 'https://m.media-amazon.com/images/...</td>\n",
       "      <td>[]</td>\n",
       "      <td>Red Hound Auto</td>\n",
       "      <td>[Electronics, GPS, Finders &amp; Accessories, GPS ...</td>\n",
       "      <td>{'Manufacturer': 'Red Hound Auto', 'Brand': 'R...</td>\n",
       "      <td>B07YMZ1S51</td>\n",
       "      <td>NaN</td>\n",
       "      <td>NaN</td>\n",
       "      <td>NaN</td>\n",
       "    </tr>\n",
       "    <tr>\n",
       "      <th>9994</th>\n",
       "      <td>All Electronics</td>\n",
       "      <td>SZJELEN SP21 2Pin-12Pin Aviation Cable Connect...</td>\n",
       "      <td>4.3</td>\n",
       "      <td>67</td>\n",
       "      <td>[Product Name : 4Pin Waterproof Connector; Mod...</td>\n",
       "      <td>[Aviation Cable Connector + Socket, IP67 Water...</td>\n",
       "      <td>10.59</td>\n",
       "      <td>[{'thumb': 'https://m.media-amazon.com/images/...</td>\n",
       "      <td>[{'title': 'dc power jack Stripping actual mea...</td>\n",
       "      <td>SZJELEN</td>\n",
       "      <td>[Electronics, Home Audio, Home Audio Accessori...</td>\n",
       "      <td>{'Package Dimensions': '4.84 x 3.94 x 1.14 inc...</td>\n",
       "      <td>B07C681YVZ</td>\n",
       "      <td>NaN</td>\n",
       "      <td>NaN</td>\n",
       "      <td>NaN</td>\n",
       "    </tr>\n",
       "    <tr>\n",
       "      <th>9995</th>\n",
       "      <td>Cell Phones &amp; Accessories</td>\n",
       "      <td>Artyond Case For 6\" Kindle Paperwhite (10th Ge...</td>\n",
       "      <td>4.6</td>\n",
       "      <td>1095</td>\n",
       "      <td>[[Compatible Model] Designed exclusively for A...</td>\n",
       "      <td>[Feature:, [Auto Sleep/Wake Feature] [Full Pro...</td>\n",
       "      <td>18.99</td>\n",
       "      <td>[{'thumb': 'https://m.media-amazon.com/images/...</td>\n",
       "      <td>[{'title': 'Fintie Slimshell Case for All-New ...</td>\n",
       "      <td>Artyond</td>\n",
       "      <td>[Electronics, eBook Readers &amp; Accessories, Cov...</td>\n",
       "      <td>{'Product Dimensions': '6.3 x 5.12 x 0.79 inch...</td>\n",
       "      <td>B0B3TK7C48</td>\n",
       "      <td>NaN</td>\n",
       "      <td>NaN</td>\n",
       "      <td>NaN</td>\n",
       "    </tr>\n",
       "    <tr>\n",
       "      <th>9996</th>\n",
       "      <td>All Electronics</td>\n",
       "      <td>UpBright New 6V AC/DC Adapter Compatible with ...</td>\n",
       "      <td>4.5</td>\n",
       "      <td>2</td>\n",
       "      <td>[World Wide Input Voltage 100-240VAC 50/60Hz.O...</td>\n",
       "      <td>[UpBright NEW 6V AC / DC Adapter Compatible wi...</td>\n",
       "      <td>9.99</td>\n",
       "      <td>[{'thumb': 'https://m.media-amazon.com/images/...</td>\n",
       "      <td>[]</td>\n",
       "      <td>UPBRIGHT</td>\n",
       "      <td>[Electronics, Camera &amp; Photo, Accessories, Bat...</td>\n",
       "      <td>{'Item model number': 'Summer Infant 29040 292...</td>\n",
       "      <td>B00P5T4O58</td>\n",
       "      <td>NaN</td>\n",
       "      <td>NaN</td>\n",
       "      <td>NaN</td>\n",
       "    </tr>\n",
       "    <tr>\n",
       "      <th>9997</th>\n",
       "      <td>All Electronics</td>\n",
       "      <td>HappyZone Silicone Skin Case Cover for SanDisk...</td>\n",
       "      <td>4.4</td>\n",
       "      <td>405</td>\n",
       "      <td>[Custom made designed for Sandisk Clip Sport 2...</td>\n",
       "      <td>[This item compatible with SanDisk Clip Sport ...</td>\n",
       "      <td>NaN</td>\n",
       "      <td>[{'thumb': 'https://m.media-amazon.com/images/...</td>\n",
       "      <td>[]</td>\n",
       "      <td>HappyZone</td>\n",
       "      <td>[Electronics, Portable Audio &amp; Video, MP3 &amp; MP...</td>\n",
       "      <td>{'Package Dimensions': '6 x 5.4 x 0.6 inches',...</td>\n",
       "      <td>B00LOD3UZ4</td>\n",
       "      <td>NaN</td>\n",
       "      <td>NaN</td>\n",
       "      <td>NaN</td>\n",
       "    </tr>\n",
       "    <tr>\n",
       "      <th>9998</th>\n",
       "      <td>All Electronics</td>\n",
       "      <td>2 Pack Apple Earbuds [Apple MFi Certified] Hea...</td>\n",
       "      <td>4.2</td>\n",
       "      <td>56</td>\n",
       "      <td>[]</td>\n",
       "      <td>[Headphones]</td>\n",
       "      <td>NaN</td>\n",
       "      <td>[{'thumb': 'https://m.media-amazon.com/images/...</td>\n",
       "      <td>[]</td>\n",
       "      <td>Hyperian</td>\n",
       "      <td>[Electronics, Headphones, Earbuds &amp; Accessorie...</td>\n",
       "      <td>{'Product Dimensions': '2 x 0.8 x 0.4 inches',...</td>\n",
       "      <td>B09BZ616M1</td>\n",
       "      <td>NaN</td>\n",
       "      <td>NaN</td>\n",
       "      <td>NaN</td>\n",
       "    </tr>\n",
       "    <tr>\n",
       "      <th>9999</th>\n",
       "      <td>All Electronics</td>\n",
       "      <td>Gladiator Joe Monitor Arm/Mount - VESA Adapter...</td>\n",
       "      <td>4.5</td>\n",
       "      <td>110</td>\n",
       "      <td>[Part of our Dark Series, this elegant Monitor...</td>\n",
       "      <td>[Part of our Dark Series, this elegant Monitor...</td>\n",
       "      <td>29.99</td>\n",
       "      <td>[{'thumb': 'https://m.media-amazon.com/images/...</td>\n",
       "      <td>[{'title': 'Intel NUC Monitor Mount with Human...</td>\n",
       "      <td>Gladiator Joe</td>\n",
       "      <td>[Electronics, Computers &amp; Accessories, Compute...</td>\n",
       "      <td>{'Brand Name': 'Gladiator Joe', 'Item Weight':...</td>\n",
       "      <td>B07QC94ZZ3</td>\n",
       "      <td>NaN</td>\n",
       "      <td>NaN</td>\n",
       "      <td>NaN</td>\n",
       "    </tr>\n",
       "  </tbody>\n",
       "</table>\n",
       "</div>"
      ],
      "text/plain": [
       "                  main_category  \\\n",
       "9990                  Computers   \n",
       "9991                       None   \n",
       "9992            All Electronics   \n",
       "9993                 Automotive   \n",
       "9994            All Electronics   \n",
       "9995  Cell Phones & Accessories   \n",
       "9996            All Electronics   \n",
       "9997            All Electronics   \n",
       "9998            All Electronics   \n",
       "9999            All Electronics   \n",
       "\n",
       "                                                  title  average_rating  \\\n",
       "9990  Micro USB to Type C OTG Cable 90 Degree Video ...             4.6   \n",
       "9991                Nutone IS69WH Intercom Door Speaker             3.0   \n",
       "9992  CableCreation 3.5mm Aux Cable, 3.5mm Male to M...             4.6   \n",
       "9993  Red Hound Auto Screen Saver 2pc Compatible wit...             3.6   \n",
       "9994  SZJELEN SP21 2Pin-12Pin Aviation Cable Connect...             4.3   \n",
       "9995  Artyond Case For 6\" Kindle Paperwhite (10th Ge...             4.6   \n",
       "9996  UpBright New 6V AC/DC Adapter Compatible with ...             4.5   \n",
       "9997  HappyZone Silicone Skin Case Cover for SanDisk...             4.4   \n",
       "9998  2 Pack Apple Earbuds [Apple MFi Certified] Hea...             4.2   \n",
       "9999  Gladiator Joe Monitor Arm/Mount - VESA Adapter...             4.5   \n",
       "\n",
       "      rating_number                                           features  \\\n",
       "9990              3                                                 []   \n",
       "9991              1                                                 []   \n",
       "9992           1185  [►[Incredibly Quality]: Premium zinc alloy cas...   \n",
       "9993              9  [Easy, Wet Installation! Deluxe kit includes p...   \n",
       "9994             67  [Product Name : 4Pin Waterproof Connector; Mod...   \n",
       "9995           1095  [[Compatible Model] Designed exclusively for A...   \n",
       "9996              2  [World Wide Input Voltage 100-240VAC 50/60Hz.O...   \n",
       "9997            405  [Custom made designed for Sandisk Clip Sport 2...   \n",
       "9998             56                                                 []   \n",
       "9999            110  [Part of our Dark Series, this elegant Monitor...   \n",
       "\n",
       "                                            description  price  \\\n",
       "9990                                                 []    NaN   \n",
       "9991  [Brand new in box This door speaker is designe...    NaN   \n",
       "9992                                                 []   9.99   \n",
       "9993  [Deluxe Red Hound Auto Clear Screen Protector:...  19.98   \n",
       "9994  [Aviation Cable Connector + Socket, IP67 Water...  10.59   \n",
       "9995  [Feature:, [Auto Sleep/Wake Feature] [Full Pro...  18.99   \n",
       "9996  [UpBright NEW 6V AC / DC Adapter Compatible wi...   9.99   \n",
       "9997  [This item compatible with SanDisk Clip Sport ...    NaN   \n",
       "9998                                       [Headphones]    NaN   \n",
       "9999  [Part of our Dark Series, this elegant Monitor...  29.99   \n",
       "\n",
       "                                                 images  \\\n",
       "9990  [{'thumb': 'https://m.media-amazon.com/images/...   \n",
       "9991  [{'thumb': 'https://m.media-amazon.com/images/...   \n",
       "9992  [{'thumb': 'https://m.media-amazon.com/images/...   \n",
       "9993  [{'thumb': 'https://m.media-amazon.com/images/...   \n",
       "9994  [{'thumb': 'https://m.media-amazon.com/images/...   \n",
       "9995  [{'thumb': 'https://m.media-amazon.com/images/...   \n",
       "9996  [{'thumb': 'https://m.media-amazon.com/images/...   \n",
       "9997  [{'thumb': 'https://m.media-amazon.com/images/...   \n",
       "9998  [{'thumb': 'https://m.media-amazon.com/images/...   \n",
       "9999  [{'thumb': 'https://m.media-amazon.com/images/...   \n",
       "\n",
       "                                                 videos           store  \\\n",
       "9990                                                 []         AKindle   \n",
       "9991                                                 []          Nutone   \n",
       "9992  [{'title': '3.5mm Nylon Braided Cord', 'url': ...   CableCreation   \n",
       "9993                                                 []  Red Hound Auto   \n",
       "9994  [{'title': 'dc power jack Stripping actual mea...         SZJELEN   \n",
       "9995  [{'title': 'Fintie Slimshell Case for All-New ...         Artyond   \n",
       "9996                                                 []        UPBRIGHT   \n",
       "9997                                                 []       HappyZone   \n",
       "9998                                                 []        Hyperian   \n",
       "9999  [{'title': 'Intel NUC Monitor Mount with Human...   Gladiator Joe   \n",
       "\n",
       "                                             categories  \\\n",
       "9990  [Electronics, Computers & Accessories, Compute...   \n",
       "9991  [Electronics, Security & Surveillance, Home Se...   \n",
       "9992  [Electronics, Home Audio, Home Audio Accessori...   \n",
       "9993  [Electronics, GPS, Finders & Accessories, GPS ...   \n",
       "9994  [Electronics, Home Audio, Home Audio Accessori...   \n",
       "9995  [Electronics, eBook Readers & Accessories, Cov...   \n",
       "9996  [Electronics, Camera & Photo, Accessories, Bat...   \n",
       "9997  [Electronics, Portable Audio & Video, MP3 & MP...   \n",
       "9998  [Electronics, Headphones, Earbuds & Accessorie...   \n",
       "9999  [Electronics, Computers & Accessories, Compute...   \n",
       "\n",
       "                                                details parent_asin  \\\n",
       "9990  {'Brand': 'AKindle', 'Connector Type': 'Micro ...  B08HLS97QX   \n",
       "9991  {'Manufacturer': 'Nutone', 'Item model number'...  B008U9OCVG   \n",
       "9992  {'Brand': 'CableCreation', 'Connector Type': '...  B07LCJ4SXG   \n",
       "9993  {'Manufacturer': 'Red Hound Auto', 'Brand': 'R...  B07YMZ1S51   \n",
       "9994  {'Package Dimensions': '4.84 x 3.94 x 1.14 inc...  B07C681YVZ   \n",
       "9995  {'Product Dimensions': '6.3 x 5.12 x 0.79 inch...  B0B3TK7C48   \n",
       "9996  {'Item model number': 'Summer Infant 29040 292...  B00P5T4O58   \n",
       "9997  {'Package Dimensions': '6 x 5.4 x 0.6 inches',...  B00LOD3UZ4   \n",
       "9998  {'Product Dimensions': '2 x 0.8 x 0.4 inches',...  B09BZ616M1   \n",
       "9999  {'Brand Name': 'Gladiator Joe', 'Item Weight':...  B07QC94ZZ3   \n",
       "\n",
       "      bought_together subtitle author  \n",
       "9990              NaN      NaN    NaN  \n",
       "9991              NaN      NaN    NaN  \n",
       "9992              NaN      NaN    NaN  \n",
       "9993              NaN      NaN    NaN  \n",
       "9994              NaN      NaN    NaN  \n",
       "9995              NaN      NaN    NaN  \n",
       "9996              NaN      NaN    NaN  \n",
       "9997              NaN      NaN    NaN  \n",
       "9998              NaN      NaN    NaN  \n",
       "9999              NaN      NaN    NaN  "
      ]
     },
     "execution_count": 7,
     "metadata": {},
     "output_type": "execute_result"
    }
   ],
   "source": [
    "df.tail(10)"
   ]
  },
  {
   "cell_type": "code",
   "execution_count": 8,
   "id": "5aad09d8",
   "metadata": {},
   "outputs": [
    {
     "data": {
      "text/plain": [
       "main_category                                        All Electronics\n",
       "title              Gladiator Joe Monitor Arm/Mount - VESA Adapter...\n",
       "average_rating                                                   4.5\n",
       "rating_number                                                    110\n",
       "features           [Part of our Dark Series, this elegant Monitor...\n",
       "description        [Part of our Dark Series, this elegant Monitor...\n",
       "price                                                          29.99\n",
       "images             [{'thumb': 'https://m.media-amazon.com/images/...\n",
       "videos             [{'title': 'Intel NUC Monitor Mount with Human...\n",
       "store                                                  Gladiator Joe\n",
       "categories         [Electronics, Computers & Accessories, Compute...\n",
       "details            {'Brand Name': 'Gladiator Joe', 'Item Weight':...\n",
       "parent_asin                                               B07QC94ZZ3\n",
       "bought_together                                                  NaN\n",
       "subtitle                                                         NaN\n",
       "author                                                           NaN\n",
       "Name: 9999, dtype: object"
      ]
     },
     "execution_count": 8,
     "metadata": {},
     "output_type": "execute_result"
    }
   ],
   "source": [
    "df.iloc[-1]"
   ]
  },
  {
   "cell_type": "code",
   "execution_count": 11,
   "id": "dc83b02e",
   "metadata": {},
   "outputs": [
    {
     "data": {
      "text/plain": [
       "[{'thumb': 'https://m.media-amazon.com/images/I/21xceOa15HL._AC_US40_.jpg',\n",
       "  'large': 'https://m.media-amazon.com/images/I/21xceOa15HL._AC_.jpg',\n",
       "  'variant': 'MAIN',\n",
       "  'hi_res': 'https://m.media-amazon.com/images/I/51RmmrYG1iL._AC_SL1500_.jpg'},\n",
       " {'thumb': 'https://m.media-amazon.com/images/I/41THPF43FsL._AC_US40_.jpg',\n",
       "  'large': 'https://m.media-amazon.com/images/I/41THPF43FsL._AC_.jpg',\n",
       "  'variant': 'PT01',\n",
       "  'hi_res': 'https://m.media-amazon.com/images/I/512bSEnzQGL._AC_SL1000_.jpg'},\n",
       " {'thumb': 'https://m.media-amazon.com/images/I/21ddI8GKwFL._AC_US40_.jpg',\n",
       "  'large': 'https://m.media-amazon.com/images/I/21ddI8GKwFL._AC_.jpg',\n",
       "  'variant': 'PT02',\n",
       "  'hi_res': 'https://m.media-amazon.com/images/I/41klRPJHHWL._AC_SL1500_.jpg'},\n",
       " {'thumb': 'https://m.media-amazon.com/images/I/31szAi45SzL._AC_US40_.jpg',\n",
       "  'large': 'https://m.media-amazon.com/images/I/31szAi45SzL._AC_.jpg',\n",
       "  'variant': 'PT03',\n",
       "  'hi_res': 'https://m.media-amazon.com/images/I/71ZIQF2ObSL._AC_SL1500_.jpg'},\n",
       " {'thumb': 'https://m.media-amazon.com/images/I/41aGUGvoZWL._AC_US40_.jpg',\n",
       "  'large': 'https://m.media-amazon.com/images/I/41aGUGvoZWL._AC_.jpg',\n",
       "  'variant': 'PT04',\n",
       "  'hi_res': 'https://m.media-amazon.com/images/I/71vPHHLs-EL._AC_SL1500_.jpg'},\n",
       " {'thumb': 'https://m.media-amazon.com/images/I/41gqeKbp6JL._AC_US40_.jpg',\n",
       "  'large': 'https://m.media-amazon.com/images/I/41gqeKbp6JL._AC_.jpg',\n",
       "  'variant': 'PT05',\n",
       "  'hi_res': 'https://m.media-amazon.com/images/I/81ueLY7CtZL._AC_SL1500_.jpg'}]"
      ]
     },
     "execution_count": 11,
     "metadata": {},
     "output_type": "execute_result"
    }
   ],
   "source": [
    "df.iloc[-1].images"
   ]
  },
  {
   "cell_type": "markdown",
   "id": "05fca12b",
   "metadata": {},
   "source": [
    "## Model Design "
   ]
  },
  {
   "cell_type": "markdown",
   "id": "1790e376",
   "metadata": {},
   "source": [
    "Managing text-based reviews at this scale could be a challenge, and I'd like to steer clear of LLMs for this effort. We could do an embedding on the review and use that for similarity, but we have pretty rich item data. Perhaps let's ignore the collaborative aspect here and build a shopping interface that: \n",
    "- surfaces the most popular items, and encourages you to add items to your shopping cart for a big discount/promo\n",
    "- based on clicks and cart items, improves the recommendations and surfaces new products\n",
    "\n",
    "This suggests a dynamic aspect to modeling I haven't encountered before. Is this an opportunity for online learning? What would be the inputs and outputs? How would we train a model to accept a list of items and then emit candidate items? .. "
   ]
  },
  {
   "cell_type": "markdown",
   "id": "9366399c",
   "metadata": {},
   "source": []
  }
 ],
 "metadata": {
  "kernelspec": {
   "display_name": "venv",
   "language": "python",
   "name": "python3"
  },
  "language_info": {
   "codemirror_mode": {
    "name": "ipython",
    "version": 3
   },
   "file_extension": ".py",
   "mimetype": "text/x-python",
   "name": "python",
   "nbconvert_exporter": "python",
   "pygments_lexer": "ipython3",
   "version": "3.13.5"
  }
 },
 "nbformat": 4,
 "nbformat_minor": 5
}
