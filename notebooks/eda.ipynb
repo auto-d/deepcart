{
 "cells": [
  {
   "cell_type": "markdown",
   "id": "9ea086d2",
   "metadata": {},
   "source": [
    "# Amazon electronics dataset exploration"
   ]
  },
  {
   "cell_type": "markdown",
   "id": "9bfe36f0",
   "metadata": {},
   "source": [
    "## 2018 Amazon Review Data"
   ]
  },
  {
   "cell_type": "markdown",
   "id": "5f3461d2",
   "metadata": {},
   "source": [
    "A subset of the Amazon Review Data (2018), the electronics category data is roughly 20M engagements from Amazon users.  \n",
    "\n",
    "*Source*: Justifying recommendations using distantly-labeled reviews and fined-grained aspects\n",
    "Jianmo Ni, Jiacheng Li, Julian McAuley\n",
    "Empirical Methods in Natural Language Processing (EMNLP), 2019, https://nijianmo.github.io/amazon/index.html"
   ]
  },
  {
   "cell_type": "code",
   "execution_count": null,
   "id": "080e6438",
   "metadata": {},
   "outputs": [],
   "source": [
    "!ls ../data/2018"
   ]
  },
  {
   "cell_type": "code",
   "execution_count": null,
   "id": "0e68b5cc",
   "metadata": {},
   "outputs": [],
   "source": [
    "import pandas as pd\n",
    "df = pd.read_csv('../data/2018/Electronics.csv', nrows=100000, names=[\"item\", \"user\", \"rating\", \"timestamp\"])"
   ]
  },
  {
   "cell_type": "markdown",
   "id": "3ea0dedc",
   "metadata": {},
   "source": [
    "Ratings only: These datasets include no metadata or reviews, but only (item,user,rating,timestamp) tuples. Thus they are suitable for use with mymedialite (or similar) packages."
   ]
  },
  {
   "cell_type": "code",
   "execution_count": null,
   "id": "f569df19",
   "metadata": {},
   "outputs": [],
   "source": [
    "df.head()"
   ]
  },
  {
   "cell_type": "code",
   "execution_count": null,
   "id": "6127ba20",
   "metadata": {},
   "outputs": [],
   "source": [
    "len(df)"
   ]
  },
  {
   "cell_type": "markdown",
   "id": "f848cfe3",
   "metadata": {},
   "source": [
    "Hmm... are the four columns sufficient for our system? Can we infer a purchase based on the presence of a rating? Do we assume a user with no rating for a product failed to purchase? Yeesh... that doesn't seem supportable. I guess the prediction here is not whether they bought it but whether they were motivated to source a review. Here the review becomes the reward, not the sale ... go off and read the paper: https://cseweb.ucsd.edu/~jmcauley/pdfs/emnlp19a.pdf"
   ]
  },
  {
   "cell_type": "code",
   "execution_count": null,
   "id": "94334a12",
   "metadata": {},
   "outputs": [],
   "source": [
    "df.describe()"
   ]
  },
  {
   "cell_type": "code",
   "execution_count": null,
   "id": "2c3c02f6",
   "metadata": {},
   "outputs": [],
   "source": [
    "df.item.value_counts()"
   ]
  },
  {
   "cell_type": "markdown",
   "id": "9c026314",
   "metadata": {},
   "source": [
    "## 2023 Amazon Reviews Data"
   ]
  },
  {
   "cell_type": "markdown",
   "id": "863ccb77",
   "metadata": {},
   "source": [
    "### Preprocessing"
   ]
  },
  {
   "cell_type": "code",
   "execution_count": null,
   "id": "9cb8aa88",
   "metadata": {},
   "outputs": [],
   "source": [
    "!ls -lh ../data/2023"
   ]
  },
  {
   "cell_type": "markdown",
   "id": "f123f848",
   "metadata": {},
   "source": [
    "2023 publication, see https://amazon-reviews-2023.github.io/"
   ]
  },
  {
   "cell_type": "code",
   "execution_count": 1,
   "id": "44c2ffc6",
   "metadata": {},
   "outputs": [],
   "source": [
    "import json \n",
    "import pandas as pd"
   ]
  },
  {
   "cell_type": "code",
   "execution_count": 2,
   "id": "1256a579",
   "metadata": {},
   "outputs": [],
   "source": [
    "reviews = pd.read_json('../data/2023/Electronics.jsonl', lines=True, nrows=100, )"
   ]
  },
  {
   "cell_type": "code",
   "execution_count": 3,
   "id": "867d4e49",
   "metadata": {},
   "outputs": [
    {
     "data": {
      "text/html": [
       "<div>\n",
       "<style scoped>\n",
       "    .dataframe tbody tr th:only-of-type {\n",
       "        vertical-align: middle;\n",
       "    }\n",
       "\n",
       "    .dataframe tbody tr th {\n",
       "        vertical-align: top;\n",
       "    }\n",
       "\n",
       "    .dataframe thead th {\n",
       "        text-align: right;\n",
       "    }\n",
       "</style>\n",
       "<table border=\"1\" class=\"dataframe\">\n",
       "  <thead>\n",
       "    <tr style=\"text-align: right;\">\n",
       "      <th></th>\n",
       "      <th>rating</th>\n",
       "      <th>title</th>\n",
       "      <th>text</th>\n",
       "      <th>images</th>\n",
       "      <th>asin</th>\n",
       "      <th>parent_asin</th>\n",
       "      <th>user_id</th>\n",
       "      <th>timestamp</th>\n",
       "      <th>helpful_vote</th>\n",
       "      <th>verified_purchase</th>\n",
       "    </tr>\n",
       "  </thead>\n",
       "  <tbody>\n",
       "    <tr>\n",
       "      <th>0</th>\n",
       "      <td>3</td>\n",
       "      <td>Smells like gasoline! Going back!</td>\n",
       "      <td>First &amp; most offensive: they reek of gasoline ...</td>\n",
       "      <td>[{'small_image_url': 'https://m.media-amazon.c...</td>\n",
       "      <td>B083NRGZMM</td>\n",
       "      <td>B083NRGZMM</td>\n",
       "      <td>AFKZENTNBQ7A7V7UXW5JJI6UGRYQ</td>\n",
       "      <td>2022-07-18 22:58:37.948</td>\n",
       "      <td>0</td>\n",
       "      <td>True</td>\n",
       "    </tr>\n",
       "    <tr>\n",
       "      <th>1</th>\n",
       "      <td>1</td>\n",
       "      <td>Didn’t work at all lenses loose/broken.</td>\n",
       "      <td>These didn’t work. Idk if they were damaged in...</td>\n",
       "      <td>[]</td>\n",
       "      <td>B07N69T6TM</td>\n",
       "      <td>B07N69T6TM</td>\n",
       "      <td>AFKZENTNBQ7A7V7UXW5JJI6UGRYQ</td>\n",
       "      <td>2020-06-20 18:42:29.731</td>\n",
       "      <td>0</td>\n",
       "      <td>True</td>\n",
       "    </tr>\n",
       "    <tr>\n",
       "      <th>2</th>\n",
       "      <td>5</td>\n",
       "      <td>Excellent!</td>\n",
       "      <td>I love these. They even come with a carry case...</td>\n",
       "      <td>[]</td>\n",
       "      <td>B01G8JO5F2</td>\n",
       "      <td>B01G8JO5F2</td>\n",
       "      <td>AFKZENTNBQ7A7V7UXW5JJI6UGRYQ</td>\n",
       "      <td>2018-04-07 09:23:37.534</td>\n",
       "      <td>0</td>\n",
       "      <td>True</td>\n",
       "    </tr>\n",
       "    <tr>\n",
       "      <th>3</th>\n",
       "      <td>5</td>\n",
       "      <td>Great laptop backpack!</td>\n",
       "      <td>I was searching for a sturdy backpack for scho...</td>\n",
       "      <td>[]</td>\n",
       "      <td>B001OC5JKY</td>\n",
       "      <td>B001OC5JKY</td>\n",
       "      <td>AGGZ357AO26RQZVRLGU4D4N52DZQ</td>\n",
       "      <td>2010-11-20 18:41:35.000</td>\n",
       "      <td>18</td>\n",
       "      <td>True</td>\n",
       "    </tr>\n",
       "    <tr>\n",
       "      <th>4</th>\n",
       "      <td>5</td>\n",
       "      <td>Best Headphones in the Fifties price range!</td>\n",
       "      <td>I've bought these headphones three times becau...</td>\n",
       "      <td>[]</td>\n",
       "      <td>B013J7WUGC</td>\n",
       "      <td>B07CJYMRWM</td>\n",
       "      <td>AG2L7H23R5LLKDKLBEF2Q3L2MVDA</td>\n",
       "      <td>2023-02-17 02:39:41.238</td>\n",
       "      <td>0</td>\n",
       "      <td>True</td>\n",
       "    </tr>\n",
       "  </tbody>\n",
       "</table>\n",
       "</div>"
      ],
      "text/plain": [
       "   rating                                        title  \\\n",
       "0       3            Smells like gasoline! Going back!   \n",
       "1       1      Didn’t work at all lenses loose/broken.   \n",
       "2       5                                   Excellent!   \n",
       "3       5                       Great laptop backpack!   \n",
       "4       5  Best Headphones in the Fifties price range!   \n",
       "\n",
       "                                                text  \\\n",
       "0  First & most offensive: they reek of gasoline ...   \n",
       "1  These didn’t work. Idk if they were damaged in...   \n",
       "2  I love these. They even come with a carry case...   \n",
       "3  I was searching for a sturdy backpack for scho...   \n",
       "4  I've bought these headphones three times becau...   \n",
       "\n",
       "                                              images        asin parent_asin  \\\n",
       "0  [{'small_image_url': 'https://m.media-amazon.c...  B083NRGZMM  B083NRGZMM   \n",
       "1                                                 []  B07N69T6TM  B07N69T6TM   \n",
       "2                                                 []  B01G8JO5F2  B01G8JO5F2   \n",
       "3                                                 []  B001OC5JKY  B001OC5JKY   \n",
       "4                                                 []  B013J7WUGC  B07CJYMRWM   \n",
       "\n",
       "                        user_id               timestamp  helpful_vote  \\\n",
       "0  AFKZENTNBQ7A7V7UXW5JJI6UGRYQ 2022-07-18 22:58:37.948             0   \n",
       "1  AFKZENTNBQ7A7V7UXW5JJI6UGRYQ 2020-06-20 18:42:29.731             0   \n",
       "2  AFKZENTNBQ7A7V7UXW5JJI6UGRYQ 2018-04-07 09:23:37.534             0   \n",
       "3  AGGZ357AO26RQZVRLGU4D4N52DZQ 2010-11-20 18:41:35.000            18   \n",
       "4  AG2L7H23R5LLKDKLBEF2Q3L2MVDA 2023-02-17 02:39:41.238             0   \n",
       "\n",
       "   verified_purchase  \n",
       "0               True  \n",
       "1               True  \n",
       "2               True  \n",
       "3               True  \n",
       "4               True  "
      ]
     },
     "execution_count": 3,
     "metadata": {},
     "output_type": "execute_result"
    }
   ],
   "source": [
    "reviews.head()"
   ]
  },
  {
   "cell_type": "code",
   "execution_count": null,
   "id": "445c1203",
   "metadata": {},
   "outputs": [],
   "source": [
    "# We need to reduce the size of this dataset or risk blowing our memory budget, filter down to essentials for our prediction task \n",
    "!cd ../data/2023 && jq -c '{rating, parent_asin, user_id, timestamp}' Electronics.jsonl > reviews_43M.jsonl"
   ]
  },
  {
   "cell_type": "code",
   "execution_count": null,
   "id": "46bdce07",
   "metadata": {},
   "outputs": [],
   "source": [
    "reviews = pd.read_json('../data/2023/Electronics_min.jsonl', lines=True)"
   ]
  },
  {
   "cell_type": "code",
   "execution_count": null,
   "id": "e732bd7b",
   "metadata": {},
   "outputs": [],
   "source": [
    "reviews.to_parquet(\"../data/2023/Electronics_min.parquet\")"
   ]
  },
  {
   "cell_type": "code",
   "execution_count": null,
   "id": "509ee691",
   "metadata": {},
   "outputs": [],
   "source": [
    "reviews.iloc[0]"
   ]
  },
  {
   "cell_type": "code",
   "execution_count": null,
   "id": "d80f7dda",
   "metadata": {},
   "outputs": [],
   "source": [
    "len(reviews.user_id.unique())"
   ]
  },
  {
   "cell_type": "code",
   "execution_count": null,
   "id": "dc4e4b63",
   "metadata": {},
   "outputs": [],
   "source": [
    "reviews.hist()"
   ]
  },
  {
   "cell_type": "code",
   "execution_count": null,
   "id": "e8ad4e83",
   "metadata": {},
   "outputs": [],
   "source": [
    "items = pd.read_json(\"../data/2023/meta_Electronics.jsonl\", lines=True, nrows=100) "
   ]
  },
  {
   "cell_type": "code",
   "execution_count": null,
   "id": "844fb19e",
   "metadata": {},
   "outputs": [],
   "source": [
    "items.head()"
   ]
  },
  {
   "cell_type": "code",
   "execution_count": null,
   "id": "109d178e",
   "metadata": {},
   "outputs": [],
   "source": [
    "# Filter down to essential fields\n",
    "!cd ../data/2023 && jq -c '{title, average_rating, description, price, images, rating_number, parent_asin}' meta_Electronics.jsonl > meta_Electronics_min.jsonl"
   ]
  },
  {
   "cell_type": "code",
   "execution_count": null,
   "id": "c703a578",
   "metadata": {},
   "outputs": [],
   "source": [
    "import pandas as pd"
   ]
  },
  {
   "cell_type": "code",
   "execution_count": null,
   "id": "b2f5bc6a",
   "metadata": {},
   "outputs": [],
   "source": [
    "# Note this for whatever reason burns about 30G of RAM during the load, even though the json is only 2.8G uncompressed, we should get this into a parquet file stat\n",
    "items = pd.read_json(\"../data/2023/meta_Electronics.jsonl\", lines=True)"
   ]
  },
  {
   "cell_type": "code",
   "execution_count": null,
   "id": "52d5e983",
   "metadata": {},
   "outputs": [],
   "source": [
    "items.drop(['main_category', 'features', 'videos', 'store', 'categories', 'details', 'bought_together', 'subtitle', 'author'], axis=1, inplace=True)"
   ]
  },
  {
   "cell_type": "code",
   "execution_count": null,
   "id": "a4d36c79",
   "metadata": {},
   "outputs": [],
   "source": [
    "items.head()"
   ]
  },
  {
   "cell_type": "code",
   "execution_count": null,
   "id": "5b19f1d6",
   "metadata": {},
   "outputs": [],
   "source": [
    "items.price = items.price.astype(str)"
   ]
  },
  {
   "cell_type": "code",
   "execution_count": null,
   "id": "a714bd38",
   "metadata": {},
   "outputs": [],
   "source": [
    "items.to_parquet(\"../data/2023/meta_Electronics.parquet\")"
   ]
  },
  {
   "cell_type": "code",
   "execution_count": null,
   "id": "b25d28d5",
   "metadata": {},
   "outputs": [],
   "source": [
    "len(items)"
   ]
  },
  {
   "cell_type": "code",
   "execution_count": null,
   "id": "040dd5a2",
   "metadata": {},
   "outputs": [],
   "source": [
    "items.hist()"
   ]
  },
  {
   "cell_type": "code",
   "execution_count": null,
   "id": "58ec85e7",
   "metadata": {},
   "outputs": [],
   "source": [
    "items.iloc[0]"
   ]
  },
  {
   "cell_type": "code",
   "execution_count": null,
   "id": "7c4e502b",
   "metadata": {},
   "outputs": [],
   "source": [
    "# Per the dataset documentation: Note: Products with different colors, styles, sizes usually belong to the same parent ID. \n",
    "# The “asin” in previous Amazon datasets is actually parent ID. Please use parent ID to find product meta.\n",
    "item = reviews.iloc[5].parent_asin\n",
    "items[items.parent_asin == item]"
   ]
  },
  {
   "cell_type": "code",
   "execution_count": null,
   "id": "beab1229",
   "metadata": {},
   "outputs": [],
   "source": [
    "reviews[reviews.parent_asin == items.iloc[1].parent_asin]"
   ]
  },
  {
   "cell_type": "markdown",
   "id": "0fed92af",
   "metadata": {},
   "source": [
    "I can't load the entirety of the reviews in one shot... but I can fit every item in memory. So every review will be grounded to an item, but many reviews will be hidden. I don't think this matters for this project. If I want to fit more reviews, I can simply preprocess the data to rejct unneeded fields and (notably text fields) and dramatically reduce memory requirements. I can alternatively load only the critical columns, yes? "
   ]
  },
  {
   "cell_type": "code",
   "execution_count": 6,
   "id": "b451ef4f",
   "metadata": {},
   "outputs": [],
   "source": [
    "reviews = pd.read_parquet(\"../data/2023/reviews_10M.parquet\")\n",
    "items = pd.read_parquet(\"../data/2023/items_1.6M.parquet\")"
   ]
  },
  {
   "cell_type": "code",
   "execution_count": 7,
   "id": "9370bffd",
   "metadata": {},
   "outputs": [
    {
     "data": {
      "text/html": [
       "<div>\n",
       "<style scoped>\n",
       "    .dataframe tbody tr th:only-of-type {\n",
       "        vertical-align: middle;\n",
       "    }\n",
       "\n",
       "    .dataframe tbody tr th {\n",
       "        vertical-align: top;\n",
       "    }\n",
       "\n",
       "    .dataframe thead th {\n",
       "        text-align: right;\n",
       "    }\n",
       "</style>\n",
       "<table border=\"1\" class=\"dataframe\">\n",
       "  <thead>\n",
       "    <tr style=\"text-align: right;\">\n",
       "      <th></th>\n",
       "      <th>rating</th>\n",
       "      <th>parent_asin</th>\n",
       "      <th>user_id</th>\n",
       "      <th>timestamp</th>\n",
       "    </tr>\n",
       "  </thead>\n",
       "  <tbody>\n",
       "    <tr>\n",
       "      <th>0</th>\n",
       "      <td>3</td>\n",
       "      <td>B083NRGZMM</td>\n",
       "      <td>AFKZENTNBQ7A7V7UXW5JJI6UGRYQ</td>\n",
       "      <td>2022-07-18 22:58:37.948</td>\n",
       "    </tr>\n",
       "    <tr>\n",
       "      <th>1</th>\n",
       "      <td>1</td>\n",
       "      <td>B07N69T6TM</td>\n",
       "      <td>AFKZENTNBQ7A7V7UXW5JJI6UGRYQ</td>\n",
       "      <td>2020-06-20 18:42:29.731</td>\n",
       "    </tr>\n",
       "    <tr>\n",
       "      <th>2</th>\n",
       "      <td>5</td>\n",
       "      <td>B01G8JO5F2</td>\n",
       "      <td>AFKZENTNBQ7A7V7UXW5JJI6UGRYQ</td>\n",
       "      <td>2018-04-07 09:23:37.534</td>\n",
       "    </tr>\n",
       "    <tr>\n",
       "      <th>3</th>\n",
       "      <td>5</td>\n",
       "      <td>B001OC5JKY</td>\n",
       "      <td>AGGZ357AO26RQZVRLGU4D4N52DZQ</td>\n",
       "      <td>2010-11-20 18:41:35.000</td>\n",
       "    </tr>\n",
       "    <tr>\n",
       "      <th>4</th>\n",
       "      <td>5</td>\n",
       "      <td>B07CJYMRWM</td>\n",
       "      <td>AG2L7H23R5LLKDKLBEF2Q3L2MVDA</td>\n",
       "      <td>2023-02-17 02:39:41.238</td>\n",
       "    </tr>\n",
       "    <tr>\n",
       "      <th>...</th>\n",
       "      <td>...</td>\n",
       "      <td>...</td>\n",
       "      <td>...</td>\n",
       "      <td>...</td>\n",
       "    </tr>\n",
       "    <tr>\n",
       "      <th>9999995</th>\n",
       "      <td>4</td>\n",
       "      <td>B0BR6FBPD9</td>\n",
       "      <td>AHG2SVUXNKVWEHVTVRZHIDRCWFQA</td>\n",
       "      <td>2021-07-07 17:10:50.418</td>\n",
       "    </tr>\n",
       "    <tr>\n",
       "      <th>9999996</th>\n",
       "      <td>5</td>\n",
       "      <td>B07DVRGM9M</td>\n",
       "      <td>AHG2SVUXNKVWEHVTVRZHIDRCWFQA</td>\n",
       "      <td>2018-07-19 14:04:49.157</td>\n",
       "    </tr>\n",
       "    <tr>\n",
       "      <th>9999997</th>\n",
       "      <td>5</td>\n",
       "      <td>B0B3TJMN8P</td>\n",
       "      <td>AGT6T3SMU577AW4KZOWCX7VIY3IQ</td>\n",
       "      <td>2022-08-26 16:29:27.240</td>\n",
       "    </tr>\n",
       "    <tr>\n",
       "      <th>9999998</th>\n",
       "      <td>5</td>\n",
       "      <td>B0B3158RQ2</td>\n",
       "      <td>AFY2KJ5YAVB77AAACLXEAHT4CHWQ</td>\n",
       "      <td>2022-12-06 20:21:24.745</td>\n",
       "    </tr>\n",
       "    <tr>\n",
       "      <th>9999999</th>\n",
       "      <td>5</td>\n",
       "      <td>B091KQ3D6C</td>\n",
       "      <td>AFY2KJ5YAVB77AAACLXEAHT4CHWQ</td>\n",
       "      <td>2022-02-03 20:14:50.149</td>\n",
       "    </tr>\n",
       "  </tbody>\n",
       "</table>\n",
       "<p>10000000 rows × 4 columns</p>\n",
       "</div>"
      ],
      "text/plain": [
       "         rating parent_asin                       user_id  \\\n",
       "0             3  B083NRGZMM  AFKZENTNBQ7A7V7UXW5JJI6UGRYQ   \n",
       "1             1  B07N69T6TM  AFKZENTNBQ7A7V7UXW5JJI6UGRYQ   \n",
       "2             5  B01G8JO5F2  AFKZENTNBQ7A7V7UXW5JJI6UGRYQ   \n",
       "3             5  B001OC5JKY  AGGZ357AO26RQZVRLGU4D4N52DZQ   \n",
       "4             5  B07CJYMRWM  AG2L7H23R5LLKDKLBEF2Q3L2MVDA   \n",
       "...         ...         ...                           ...   \n",
       "9999995       4  B0BR6FBPD9  AHG2SVUXNKVWEHVTVRZHIDRCWFQA   \n",
       "9999996       5  B07DVRGM9M  AHG2SVUXNKVWEHVTVRZHIDRCWFQA   \n",
       "9999997       5  B0B3TJMN8P  AGT6T3SMU577AW4KZOWCX7VIY3IQ   \n",
       "9999998       5  B0B3158RQ2  AFY2KJ5YAVB77AAACLXEAHT4CHWQ   \n",
       "9999999       5  B091KQ3D6C  AFY2KJ5YAVB77AAACLXEAHT4CHWQ   \n",
       "\n",
       "                      timestamp  \n",
       "0       2022-07-18 22:58:37.948  \n",
       "1       2020-06-20 18:42:29.731  \n",
       "2       2018-04-07 09:23:37.534  \n",
       "3       2010-11-20 18:41:35.000  \n",
       "4       2023-02-17 02:39:41.238  \n",
       "...                         ...  \n",
       "9999995 2021-07-07 17:10:50.418  \n",
       "9999996 2018-07-19 14:04:49.157  \n",
       "9999997 2022-08-26 16:29:27.240  \n",
       "9999998 2022-12-06 20:21:24.745  \n",
       "9999999 2022-02-03 20:14:50.149  \n",
       "\n",
       "[10000000 rows x 4 columns]"
      ]
     },
     "execution_count": 7,
     "metadata": {},
     "output_type": "execute_result"
    }
   ],
   "source": [
    "reviews"
   ]
  },
  {
   "cell_type": "code",
   "execution_count": 10,
   "id": "71e5a063",
   "metadata": {},
   "outputs": [],
   "source": [
    "users = reviews.groupby(['user_id']).rating.count()\n",
    "users = pd.DataFrame(users).reset_index()\n",
    "users.rename(columns={'rating':'ratings'}, inplace=True)"
   ]
  },
  {
   "cell_type": "code",
   "execution_count": 13,
   "id": "91934aa1",
   "metadata": {},
   "outputs": [
    {
     "data": {
      "text/html": [
       "<div>\n",
       "<style scoped>\n",
       "    .dataframe tbody tr th:only-of-type {\n",
       "        vertical-align: middle;\n",
       "    }\n",
       "\n",
       "    .dataframe tbody tr th {\n",
       "        vertical-align: top;\n",
       "    }\n",
       "\n",
       "    .dataframe thead th {\n",
       "        text-align: right;\n",
       "    }\n",
       "</style>\n",
       "<table border=\"1\" class=\"dataframe\">\n",
       "  <thead>\n",
       "    <tr style=\"text-align: right;\">\n",
       "      <th></th>\n",
       "      <th>user_id</th>\n",
       "      <th>ratings</th>\n",
       "    </tr>\n",
       "  </thead>\n",
       "  <tbody>\n",
       "    <tr>\n",
       "      <th>0</th>\n",
       "      <td>AE2222FRPDMNOMYOMCWIANTXP7UQ</td>\n",
       "      <td>3</td>\n",
       "    </tr>\n",
       "    <tr>\n",
       "      <th>1</th>\n",
       "      <td>AE22236AFRRSMQIKGG7TPTB75QEA</td>\n",
       "      <td>21</td>\n",
       "    </tr>\n",
       "    <tr>\n",
       "      <th>2</th>\n",
       "      <td>AE2225IRFZTQ77QWCB4UVSFQGS5A</td>\n",
       "      <td>1</td>\n",
       "    </tr>\n",
       "    <tr>\n",
       "      <th>3</th>\n",
       "      <td>AE2227JUF7JR4U5YO22WRJXI7YPA</td>\n",
       "      <td>1</td>\n",
       "    </tr>\n",
       "    <tr>\n",
       "      <th>4</th>\n",
       "      <td>AE222CLD7MMLOFP37THNLRRPBGZA</td>\n",
       "      <td>2</td>\n",
       "    </tr>\n",
       "    <tr>\n",
       "      <th>...</th>\n",
       "      <td>...</td>\n",
       "      <td>...</td>\n",
       "    </tr>\n",
       "    <tr>\n",
       "      <th>2294445</th>\n",
       "      <td>AHZZZWVHLYTQU55PD4FJULUEKTXA</td>\n",
       "      <td>17</td>\n",
       "    </tr>\n",
       "    <tr>\n",
       "      <th>2294446</th>\n",
       "      <td>AHZZZY2XVWEUJUTYPGGL4WXH6CSA</td>\n",
       "      <td>20</td>\n",
       "    </tr>\n",
       "    <tr>\n",
       "      <th>2294447</th>\n",
       "      <td>AHZZZY4DFLAWPBQYFQFWVACNGURA</td>\n",
       "      <td>3</td>\n",
       "    </tr>\n",
       "    <tr>\n",
       "      <th>2294448</th>\n",
       "      <td>AHZZZZPE45DYV2WZ2MYXZRHWSEKA</td>\n",
       "      <td>9</td>\n",
       "    </tr>\n",
       "    <tr>\n",
       "      <th>2294449</th>\n",
       "      <td>AHZZZZYA4NULLM5PNACIU3GA5OQQ</td>\n",
       "      <td>5</td>\n",
       "    </tr>\n",
       "  </tbody>\n",
       "</table>\n",
       "<p>2294450 rows × 2 columns</p>\n",
       "</div>"
      ],
      "text/plain": [
       "                              user_id  ratings\n",
       "0        AE2222FRPDMNOMYOMCWIANTXP7UQ        3\n",
       "1        AE22236AFRRSMQIKGG7TPTB75QEA       21\n",
       "2        AE2225IRFZTQ77QWCB4UVSFQGS5A        1\n",
       "3        AE2227JUF7JR4U5YO22WRJXI7YPA        1\n",
       "4        AE222CLD7MMLOFP37THNLRRPBGZA        2\n",
       "...                               ...      ...\n",
       "2294445  AHZZZWVHLYTQU55PD4FJULUEKTXA       17\n",
       "2294446  AHZZZY2XVWEUJUTYPGGL4WXH6CSA       20\n",
       "2294447  AHZZZY4DFLAWPBQYFQFWVACNGURA        3\n",
       "2294448  AHZZZZPE45DYV2WZ2MYXZRHWSEKA        9\n",
       "2294449  AHZZZZYA4NULLM5PNACIU3GA5OQQ        5\n",
       "\n",
       "[2294450 rows x 2 columns]"
      ]
     },
     "execution_count": 13,
     "metadata": {},
     "output_type": "execute_result"
    }
   ],
   "source": [
    "users\n"
   ]
  },
  {
   "cell_type": "code",
   "execution_count": 14,
   "id": "a6f33560",
   "metadata": {},
   "outputs": [
    {
     "data": {
      "text/html": [
       "<div>\n",
       "<style scoped>\n",
       "    .dataframe tbody tr th:only-of-type {\n",
       "        vertical-align: middle;\n",
       "    }\n",
       "\n",
       "    .dataframe tbody tr th {\n",
       "        vertical-align: top;\n",
       "    }\n",
       "\n",
       "    .dataframe thead th {\n",
       "        text-align: right;\n",
       "    }\n",
       "</style>\n",
       "<table border=\"1\" class=\"dataframe\">\n",
       "  <thead>\n",
       "    <tr style=\"text-align: right;\">\n",
       "      <th></th>\n",
       "      <th>user_id</th>\n",
       "      <th>ratings</th>\n",
       "    </tr>\n",
       "  </thead>\n",
       "  <tbody>\n",
       "    <tr>\n",
       "      <th>1</th>\n",
       "      <td>AE22236AFRRSMQIKGG7TPTB75QEA</td>\n",
       "      <td>21</td>\n",
       "    </tr>\n",
       "    <tr>\n",
       "      <th>7</th>\n",
       "      <td>AE222H3FGXWLHRFUMGMS2RR57NDQ</td>\n",
       "      <td>16</td>\n",
       "    </tr>\n",
       "    <tr>\n",
       "      <th>27</th>\n",
       "      <td>AE223HSAZU6TUGSD7F47WOADLS2Q</td>\n",
       "      <td>14</td>\n",
       "    </tr>\n",
       "    <tr>\n",
       "      <th>45</th>\n",
       "      <td>AE224LWIR4ZDJLRKORFHMJGABP6Q</td>\n",
       "      <td>21</td>\n",
       "    </tr>\n",
       "    <tr>\n",
       "      <th>53</th>\n",
       "      <td>AE2254CLKQFGLVCWHFRAMSW4CNZQ</td>\n",
       "      <td>22</td>\n",
       "    </tr>\n",
       "    <tr>\n",
       "      <th>...</th>\n",
       "      <td>...</td>\n",
       "      <td>...</td>\n",
       "    </tr>\n",
       "    <tr>\n",
       "      <th>2294403</th>\n",
       "      <td>AHZZXP52C2AFASKIZR44MMSPNNNA</td>\n",
       "      <td>12</td>\n",
       "    </tr>\n",
       "    <tr>\n",
       "      <th>2294416</th>\n",
       "      <td>AHZZY6MRMU6PA6YHUWPHNRFO47QQ</td>\n",
       "      <td>11</td>\n",
       "    </tr>\n",
       "    <tr>\n",
       "      <th>2294432</th>\n",
       "      <td>AHZZYZ2ZNIDOJKRXALZBIX7VVKYA</td>\n",
       "      <td>11</td>\n",
       "    </tr>\n",
       "    <tr>\n",
       "      <th>2294445</th>\n",
       "      <td>AHZZZWVHLYTQU55PD4FJULUEKTXA</td>\n",
       "      <td>17</td>\n",
       "    </tr>\n",
       "    <tr>\n",
       "      <th>2294446</th>\n",
       "      <td>AHZZZY2XVWEUJUTYPGGL4WXH6CSA</td>\n",
       "      <td>20</td>\n",
       "    </tr>\n",
       "  </tbody>\n",
       "</table>\n",
       "<p>193793 rows × 2 columns</p>\n",
       "</div>"
      ],
      "text/plain": [
       "                              user_id  ratings\n",
       "1        AE22236AFRRSMQIKGG7TPTB75QEA       21\n",
       "7        AE222H3FGXWLHRFUMGMS2RR57NDQ       16\n",
       "27       AE223HSAZU6TUGSD7F47WOADLS2Q       14\n",
       "45       AE224LWIR4ZDJLRKORFHMJGABP6Q       21\n",
       "53       AE2254CLKQFGLVCWHFRAMSW4CNZQ       22\n",
       "...                               ...      ...\n",
       "2294403  AHZZXP52C2AFASKIZR44MMSPNNNA       12\n",
       "2294416  AHZZY6MRMU6PA6YHUWPHNRFO47QQ       11\n",
       "2294432  AHZZYZ2ZNIDOJKRXALZBIX7VVKYA       11\n",
       "2294445  AHZZZWVHLYTQU55PD4FJULUEKTXA       17\n",
       "2294446  AHZZZY2XVWEUJUTYPGGL4WXH6CSA       20\n",
       "\n",
       "[193793 rows x 2 columns]"
      ]
     },
     "execution_count": 14,
     "metadata": {},
     "output_type": "execute_result"
    }
   ],
   "source": [
    "users_small = users[users.ratings > 10]\n",
    "users_small"
   ]
  },
  {
   "cell_type": "code",
   "execution_count": 16,
   "id": "96f099fe",
   "metadata": {},
   "outputs": [
    {
     "data": {
      "text/html": [
       "<div>\n",
       "<style scoped>\n",
       "    .dataframe tbody tr th:only-of-type {\n",
       "        vertical-align: middle;\n",
       "    }\n",
       "\n",
       "    .dataframe tbody tr th {\n",
       "        vertical-align: top;\n",
       "    }\n",
       "\n",
       "    .dataframe thead th {\n",
       "        text-align: right;\n",
       "    }\n",
       "</style>\n",
       "<table border=\"1\" class=\"dataframe\">\n",
       "  <thead>\n",
       "    <tr style=\"text-align: right;\">\n",
       "      <th></th>\n",
       "      <th>rating</th>\n",
       "      <th>parent_asin</th>\n",
       "      <th>user_id</th>\n",
       "      <th>timestamp</th>\n",
       "    </tr>\n",
       "  </thead>\n",
       "  <tbody>\n",
       "    <tr>\n",
       "      <th>45</th>\n",
       "      <td>5</td>\n",
       "      <td>B08912RRG5</td>\n",
       "      <td>AHITBJSS7KYUBVZPX7M2WJCOIVKQ</td>\n",
       "      <td>2022-05-22 20:42:27.409</td>\n",
       "    </tr>\n",
       "    <tr>\n",
       "      <th>46</th>\n",
       "      <td>5</td>\n",
       "      <td>B07GVWH35S</td>\n",
       "      <td>AHITBJSS7KYUBVZPX7M2WJCOIVKQ</td>\n",
       "      <td>2019-06-08 21:07:32.317</td>\n",
       "    </tr>\n",
       "    <tr>\n",
       "      <th>47</th>\n",
       "      <td>5</td>\n",
       "      <td>B06VTQK7CB</td>\n",
       "      <td>AHITBJSS7KYUBVZPX7M2WJCOIVKQ</td>\n",
       "      <td>2019-06-08 17:16:26.774</td>\n",
       "    </tr>\n",
       "    <tr>\n",
       "      <th>48</th>\n",
       "      <td>1</td>\n",
       "      <td>B0776DSP7Y</td>\n",
       "      <td>AHITBJSS7KYUBVZPX7M2WJCOIVKQ</td>\n",
       "      <td>2018-05-12 00:32:47.886</td>\n",
       "    </tr>\n",
       "    <tr>\n",
       "      <th>49</th>\n",
       "      <td>2</td>\n",
       "      <td>B00NWXM5U0</td>\n",
       "      <td>AHITBJSS7KYUBVZPX7M2WJCOIVKQ</td>\n",
       "      <td>2015-05-23 01:48:59.000</td>\n",
       "    </tr>\n",
       "    <tr>\n",
       "      <th>...</th>\n",
       "      <td>...</td>\n",
       "      <td>...</td>\n",
       "      <td>...</td>\n",
       "      <td>...</td>\n",
       "    </tr>\n",
       "    <tr>\n",
       "      <th>9999878</th>\n",
       "      <td>5</td>\n",
       "      <td>B00H8HMOD4</td>\n",
       "      <td>AFHZUWRCTRXAZNE2DOO36IST5BVA</td>\n",
       "      <td>2014-07-09 14:22:56.000</td>\n",
       "    </tr>\n",
       "    <tr>\n",
       "      <th>9999879</th>\n",
       "      <td>3</td>\n",
       "      <td>B00CRTRBK4</td>\n",
       "      <td>AFHZUWRCTRXAZNE2DOO36IST5BVA</td>\n",
       "      <td>2014-07-09 14:20:48.000</td>\n",
       "    </tr>\n",
       "    <tr>\n",
       "      <th>9999880</th>\n",
       "      <td>1</td>\n",
       "      <td>B00ATSKZH6</td>\n",
       "      <td>AFHZUWRCTRXAZNE2DOO36IST5BVA</td>\n",
       "      <td>2013-12-03 23:23:44.000</td>\n",
       "    </tr>\n",
       "    <tr>\n",
       "      <th>9999881</th>\n",
       "      <td>5</td>\n",
       "      <td>B0043D2L70</td>\n",
       "      <td>AFHZUWRCTRXAZNE2DOO36IST5BVA</td>\n",
       "      <td>2013-08-17 01:14:21.000</td>\n",
       "    </tr>\n",
       "    <tr>\n",
       "      <th>9999882</th>\n",
       "      <td>3</td>\n",
       "      <td>B00894YYP6</td>\n",
       "      <td>AFHZUWRCTRXAZNE2DOO36IST5BVA</td>\n",
       "      <td>2012-11-05 23:40:37.000</td>\n",
       "    </tr>\n",
       "  </tbody>\n",
       "</table>\n",
       "<p>4144868 rows × 4 columns</p>\n",
       "</div>"
      ],
      "text/plain": [
       "         rating parent_asin                       user_id  \\\n",
       "45            5  B08912RRG5  AHITBJSS7KYUBVZPX7M2WJCOIVKQ   \n",
       "46            5  B07GVWH35S  AHITBJSS7KYUBVZPX7M2WJCOIVKQ   \n",
       "47            5  B06VTQK7CB  AHITBJSS7KYUBVZPX7M2WJCOIVKQ   \n",
       "48            1  B0776DSP7Y  AHITBJSS7KYUBVZPX7M2WJCOIVKQ   \n",
       "49            2  B00NWXM5U0  AHITBJSS7KYUBVZPX7M2WJCOIVKQ   \n",
       "...         ...         ...                           ...   \n",
       "9999878       5  B00H8HMOD4  AFHZUWRCTRXAZNE2DOO36IST5BVA   \n",
       "9999879       3  B00CRTRBK4  AFHZUWRCTRXAZNE2DOO36IST5BVA   \n",
       "9999880       1  B00ATSKZH6  AFHZUWRCTRXAZNE2DOO36IST5BVA   \n",
       "9999881       5  B0043D2L70  AFHZUWRCTRXAZNE2DOO36IST5BVA   \n",
       "9999882       3  B00894YYP6  AFHZUWRCTRXAZNE2DOO36IST5BVA   \n",
       "\n",
       "                      timestamp  \n",
       "45      2022-05-22 20:42:27.409  \n",
       "46      2019-06-08 21:07:32.317  \n",
       "47      2019-06-08 17:16:26.774  \n",
       "48      2018-05-12 00:32:47.886  \n",
       "49      2015-05-23 01:48:59.000  \n",
       "...                         ...  \n",
       "9999878 2014-07-09 14:22:56.000  \n",
       "9999879 2014-07-09 14:20:48.000  \n",
       "9999880 2013-12-03 23:23:44.000  \n",
       "9999881 2013-08-17 01:14:21.000  \n",
       "9999882 2012-11-05 23:40:37.000  \n",
       "\n",
       "[4144868 rows x 4 columns]"
      ]
     },
     "execution_count": 16,
     "metadata": {},
     "output_type": "execute_result"
    }
   ],
   "source": [
    "# narrow down reviews, too many to operate on with limited resources\n",
    "reviews_small = reviews[reviews.user_id.isin(users_small.user_id.unique())]\n",
    "reviews_small"
   ]
  },
  {
   "cell_type": "code",
   "execution_count": 23,
   "id": "16dcd08e",
   "metadata": {},
   "outputs": [
    {
     "name": "stdout",
     "output_type": "stream",
     "text": [
      "193793\n",
      "1000\n",
      "21241\n"
     ]
    }
   ],
   "source": [
    "# sample to make this computationally approachable \n",
    "print(len(reviews_small.user_id.unique())) \n",
    "\n",
    "# TODO: add this to the pipeline as a variable\n",
    "sample_n = 1000\n",
    "sampled_users = users_small.sample(sample_n)\n",
    "reviews_sampled = reviews_small[reviews_small.user_id.isin(sampled_users.user_id)]\n",
    "print(len(reviews_sampled.user_id.unique())) \n",
    "print(len(reviews_sampled))"
   ]
  },
  {
   "cell_type": "code",
   "execution_count": 28,
   "id": "8519eeab",
   "metadata": {},
   "outputs": [],
   "source": [
    "reviews_sampled.to_parquet(\"../data/2023/reviews_small.parquet\")"
   ]
  },
  {
   "cell_type": "code",
   "execution_count": 24,
   "id": "62590808",
   "metadata": {},
   "outputs": [
    {
     "data": {
      "text/html": [
       "<div>\n",
       "<style scoped>\n",
       "    .dataframe tbody tr th:only-of-type {\n",
       "        vertical-align: middle;\n",
       "    }\n",
       "\n",
       "    .dataframe tbody tr th {\n",
       "        vertical-align: top;\n",
       "    }\n",
       "\n",
       "    .dataframe thead th {\n",
       "        text-align: right;\n",
       "    }\n",
       "</style>\n",
       "<table border=\"1\" class=\"dataframe\">\n",
       "  <thead>\n",
       "    <tr style=\"text-align: right;\">\n",
       "      <th></th>\n",
       "      <th>title</th>\n",
       "      <th>average_rating</th>\n",
       "      <th>rating_number</th>\n",
       "      <th>description</th>\n",
       "      <th>price</th>\n",
       "      <th>images</th>\n",
       "      <th>parent_asin</th>\n",
       "    </tr>\n",
       "  </thead>\n",
       "  <tbody>\n",
       "    <tr>\n",
       "      <th>102</th>\n",
       "      <td>KHOMO - iPad 2 3 and 4 Generation Case - DUAL ...</td>\n",
       "      <td>4.5</td>\n",
       "      <td>2745</td>\n",
       "      <td>[KHOMO dual Series case choom introduces its b...</td>\n",
       "      <td>11.95</td>\n",
       "      <td>[{'hi_res': 'https://m.media-amazon.com/images...</td>\n",
       "      <td>B06XKRXLDR</td>\n",
       "    </tr>\n",
       "    <tr>\n",
       "      <th>140</th>\n",
       "      <td>HGST Touro Desk Pro 3TB USB 3.0 External Hard ...</td>\n",
       "      <td>3.2</td>\n",
       "      <td>15</td>\n",
       "      <td>[Product Description, Hitachi Touro Desk Pro 3...</td>\n",
       "      <td>None</td>\n",
       "      <td>[{'hi_res': 'https://m.media-amazon.com/images...</td>\n",
       "      <td>B004W7DR02</td>\n",
       "    </tr>\n",
       "    <tr>\n",
       "      <th>153</th>\n",
       "      <td>Tiffen 77mm Photo Essentials Kit with UV Prote...</td>\n",
       "      <td>4.6</td>\n",
       "      <td>576</td>\n",
       "      <td>[Product Description, This kit consists of a: ...</td>\n",
       "      <td>89.99</td>\n",
       "      <td>[{'hi_res': None, 'large': 'https://m.media-am...</td>\n",
       "      <td>B0067HY1EQ</td>\n",
       "    </tr>\n",
       "    <tr>\n",
       "      <th>190</th>\n",
       "      <td>Technical Pro C-QS-1225 25' 1/4\" to Speakon Sp...</td>\n",
       "      <td>4.4</td>\n",
       "      <td>11</td>\n",
       "      <td>[Available in 12 and 16 gauge speaker wire. Av...</td>\n",
       "      <td>15.95</td>\n",
       "      <td>[{'hi_res': 'https://m.media-amazon.com/images...</td>\n",
       "      <td>B0029L7IYY</td>\n",
       "    </tr>\n",
       "    <tr>\n",
       "      <th>234</th>\n",
       "      <td>CaseBot Leather Case for Kindle Oasis (10th an...</td>\n",
       "      <td>4.5</td>\n",
       "      <td>1444</td>\n",
       "      <td>[CaseBot, a premium series brought to you by F...</td>\n",
       "      <td>7.99</td>\n",
       "      <td>[{'hi_res': 'https://m.media-amazon.com/images...</td>\n",
       "      <td>B07M67FJDB</td>\n",
       "    </tr>\n",
       "    <tr>\n",
       "      <th>...</th>\n",
       "      <td>...</td>\n",
       "      <td>...</td>\n",
       "      <td>...</td>\n",
       "      <td>...</td>\n",
       "      <td>...</td>\n",
       "      <td>...</td>\n",
       "      <td>...</td>\n",
       "    </tr>\n",
       "    <tr>\n",
       "      <th>1380025</th>\n",
       "      <td>MONICONA Air Tube Earpiece Surveillance Kit Ea...</td>\n",
       "      <td>4.0</td>\n",
       "      <td>35</td>\n",
       "      <td>[]</td>\n",
       "      <td>29.99</td>\n",
       "      <td>[{'hi_res': 'https://m.media-amazon.com/images...</td>\n",
       "      <td>B09N8YFX24</td>\n",
       "    </tr>\n",
       "    <tr>\n",
       "      <th>1380045</th>\n",
       "      <td>Galaxy Tab S2 8.0 Case, IVSO Samsung Galaxy Ta...</td>\n",
       "      <td>3.7</td>\n",
       "      <td>62</td>\n",
       "      <td>[]</td>\n",
       "      <td>None</td>\n",
       "      <td>[{'hi_res': None, 'large': 'https://m.media-am...</td>\n",
       "      <td>B00UP5Q67Q</td>\n",
       "    </tr>\n",
       "    <tr>\n",
       "      <th>1380090</th>\n",
       "      <td>Drop Protected Case Cover Compatible with Airp...</td>\n",
       "      <td>4.1</td>\n",
       "      <td>426</td>\n",
       "      <td>[]</td>\n",
       "      <td>None</td>\n",
       "      <td>[{'hi_res': 'https://m.media-amazon.com/images...</td>\n",
       "      <td>B08CBV77FD</td>\n",
       "    </tr>\n",
       "    <tr>\n",
       "      <th>1380577</th>\n",
       "      <td>Logitech iPad Pro 10.5 inch Keyboard Case | SL...</td>\n",
       "      <td>4.3</td>\n",
       "      <td>1581</td>\n",
       "      <td>[Slim Combo is the ultimate companion to your ...</td>\n",
       "      <td>None</td>\n",
       "      <td>[{'hi_res': 'https://m.media-amazon.com/images...</td>\n",
       "      <td>B0753223KN</td>\n",
       "    </tr>\n",
       "    <tr>\n",
       "      <th>1541568</th>\n",
       "      <td>HDMI Audio Extractor 4K 120Hz, avedio links HD...</td>\n",
       "      <td>3.9</td>\n",
       "      <td>543</td>\n",
       "      <td>[]</td>\n",
       "      <td>89.99</td>\n",
       "      <td>[{'hi_res': 'https://m.media-amazon.com/images...</td>\n",
       "      <td>B0CFL3SFTP</td>\n",
       "    </tr>\n",
       "  </tbody>\n",
       "</table>\n",
       "<p>16433 rows × 7 columns</p>\n",
       "</div>"
      ],
      "text/plain": [
       "                                                     title  average_rating  \\\n",
       "102      KHOMO - iPad 2 3 and 4 Generation Case - DUAL ...             4.5   \n",
       "140      HGST Touro Desk Pro 3TB USB 3.0 External Hard ...             3.2   \n",
       "153      Tiffen 77mm Photo Essentials Kit with UV Prote...             4.6   \n",
       "190      Technical Pro C-QS-1225 25' 1/4\" to Speakon Sp...             4.4   \n",
       "234      CaseBot Leather Case for Kindle Oasis (10th an...             4.5   \n",
       "...                                                    ...             ...   \n",
       "1380025  MONICONA Air Tube Earpiece Surveillance Kit Ea...             4.0   \n",
       "1380045  Galaxy Tab S2 8.0 Case, IVSO Samsung Galaxy Ta...             3.7   \n",
       "1380090  Drop Protected Case Cover Compatible with Airp...             4.1   \n",
       "1380577  Logitech iPad Pro 10.5 inch Keyboard Case | SL...             4.3   \n",
       "1541568  HDMI Audio Extractor 4K 120Hz, avedio links HD...             3.9   \n",
       "\n",
       "         rating_number                                        description  \\\n",
       "102               2745  [KHOMO dual Series case choom introduces its b...   \n",
       "140                 15  [Product Description, Hitachi Touro Desk Pro 3...   \n",
       "153                576  [Product Description, This kit consists of a: ...   \n",
       "190                 11  [Available in 12 and 16 gauge speaker wire. Av...   \n",
       "234               1444  [CaseBot, a premium series brought to you by F...   \n",
       "...                ...                                                ...   \n",
       "1380025             35                                                 []   \n",
       "1380045             62                                                 []   \n",
       "1380090            426                                                 []   \n",
       "1380577           1581  [Slim Combo is the ultimate companion to your ...   \n",
       "1541568            543                                                 []   \n",
       "\n",
       "         price                                             images parent_asin  \n",
       "102      11.95  [{'hi_res': 'https://m.media-amazon.com/images...  B06XKRXLDR  \n",
       "140       None  [{'hi_res': 'https://m.media-amazon.com/images...  B004W7DR02  \n",
       "153      89.99  [{'hi_res': None, 'large': 'https://m.media-am...  B0067HY1EQ  \n",
       "190      15.95  [{'hi_res': 'https://m.media-amazon.com/images...  B0029L7IYY  \n",
       "234       7.99  [{'hi_res': 'https://m.media-amazon.com/images...  B07M67FJDB  \n",
       "...        ...                                                ...         ...  \n",
       "1380025  29.99  [{'hi_res': 'https://m.media-amazon.com/images...  B09N8YFX24  \n",
       "1380045   None  [{'hi_res': None, 'large': 'https://m.media-am...  B00UP5Q67Q  \n",
       "1380090   None  [{'hi_res': 'https://m.media-amazon.com/images...  B08CBV77FD  \n",
       "1380577   None  [{'hi_res': 'https://m.media-amazon.com/images...  B0753223KN  \n",
       "1541568  89.99  [{'hi_res': 'https://m.media-amazon.com/images...  B0CFL3SFTP  \n",
       "\n",
       "[16433 rows x 7 columns]"
      ]
     },
     "execution_count": 24,
     "metadata": {},
     "output_type": "execute_result"
    }
   ],
   "source": [
    "items_small = items[items.parent_asin.isin(reviews_sampled.parent_asin.unique())]\n",
    "items_small"
   ]
  },
  {
   "cell_type": "code",
   "execution_count": 27,
   "id": "246dd959",
   "metadata": {},
   "outputs": [],
   "source": [
    "items_small.to_parquet(\"../data/2023/items_small.parquet\")"
   ]
  },
  {
   "cell_type": "code",
   "execution_count": null,
   "id": "1fbf3d83",
   "metadata": {},
   "outputs": [],
   "source": []
  }
 ],
 "metadata": {
  "kernelspec": {
   "display_name": "venv",
   "language": "python",
   "name": "python3"
  },
  "language_info": {
   "codemirror_mode": {
    "name": "ipython",
    "version": 3
   },
   "file_extension": ".py",
   "mimetype": "text/x-python",
   "name": "python",
   "nbconvert_exporter": "python",
   "pygments_lexer": "ipython3",
   "version": "3.12.3"
  }
 },
 "nbformat": 4,
 "nbformat_minor": 5
}
