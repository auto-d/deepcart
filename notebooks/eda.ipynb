{
 "cells": [
  {
   "cell_type": "markdown",
   "id": "9ea086d2",
   "metadata": {},
   "source": [
    "# Amazon electronics dataset exploration"
   ]
  },
  {
   "cell_type": "markdown",
   "id": "9bfe36f0",
   "metadata": {},
   "source": [
    "## 2018 Amazon Review Data"
   ]
  },
  {
   "cell_type": "markdown",
   "id": "5f3461d2",
   "metadata": {},
   "source": [
    "A subset of the Amazon Review Data (2018), the electronics category data is roughly 20M engagements from Amazon users.  \n",
    "\n",
    "*Source*: Justifying recommendations using distantly-labeled reviews and fined-grained aspects\n",
    "Jianmo Ni, Jiacheng Li, Julian McAuley\n",
    "Empirical Methods in Natural Language Processing (EMNLP), 2019, https://nijianmo.github.io/amazon/index.html"
   ]
  },
  {
   "cell_type": "code",
   "execution_count": 34,
   "id": "080e6438",
   "metadata": {},
   "outputs": [
    {
     "name": "stdout",
     "output_type": "stream",
     "text": [
      "Electronics.csv\n"
     ]
    }
   ],
   "source": [
    "!ls ../data/2018"
   ]
  },
  {
   "cell_type": "code",
   "execution_count": 30,
   "id": "0e68b5cc",
   "metadata": {},
   "outputs": [],
   "source": [
    "import pandas as pd\n",
    "df = pd.read_csv('../data/2018/Electronics.csv', nrows=10000, names=[\"item\", \"user\", \"rating\", \"timestamp\"])"
   ]
  },
  {
   "cell_type": "markdown",
   "id": "3ea0dedc",
   "metadata": {},
   "source": [
    "Ratings only: These datasets include no metadata or reviews, but only (item,user,rating,timestamp) tuples. Thus they are suitable for use with mymedialite (or similar) packages."
   ]
  },
  {
   "cell_type": "code",
   "execution_count": 31,
   "id": "f569df19",
   "metadata": {},
   "outputs": [
    {
     "data": {
      "text/html": [
       "<div>\n",
       "<style scoped>\n",
       "    .dataframe tbody tr th:only-of-type {\n",
       "        vertical-align: middle;\n",
       "    }\n",
       "\n",
       "    .dataframe tbody tr th {\n",
       "        vertical-align: top;\n",
       "    }\n",
       "\n",
       "    .dataframe thead th {\n",
       "        text-align: right;\n",
       "    }\n",
       "</style>\n",
       "<table border=\"1\" class=\"dataframe\">\n",
       "  <thead>\n",
       "    <tr style=\"text-align: right;\">\n",
       "      <th></th>\n",
       "      <th>item</th>\n",
       "      <th>user</th>\n",
       "      <th>rating</th>\n",
       "      <th>timestamp</th>\n",
       "    </tr>\n",
       "  </thead>\n",
       "  <tbody>\n",
       "    <tr>\n",
       "      <th>0</th>\n",
       "      <td>0060009810</td>\n",
       "      <td>A1N070NS9CJQ2I</td>\n",
       "      <td>5.0</td>\n",
       "      <td>1026864000</td>\n",
       "    </tr>\n",
       "    <tr>\n",
       "      <th>1</th>\n",
       "      <td>0060009810</td>\n",
       "      <td>A3P0KRKOBQK1KN</td>\n",
       "      <td>5.0</td>\n",
       "      <td>1025913600</td>\n",
       "    </tr>\n",
       "    <tr>\n",
       "      <th>2</th>\n",
       "      <td>0060009810</td>\n",
       "      <td>A192HO2ICJ75VU</td>\n",
       "      <td>5.0</td>\n",
       "      <td>1025654400</td>\n",
       "    </tr>\n",
       "    <tr>\n",
       "      <th>3</th>\n",
       "      <td>0060009810</td>\n",
       "      <td>A2T278FKFL3BLT</td>\n",
       "      <td>4.0</td>\n",
       "      <td>1025395200</td>\n",
       "    </tr>\n",
       "    <tr>\n",
       "      <th>4</th>\n",
       "      <td>0060009810</td>\n",
       "      <td>A2ZUXVTW8RXBXW</td>\n",
       "      <td>5.0</td>\n",
       "      <td>1025222400</td>\n",
       "    </tr>\n",
       "  </tbody>\n",
       "</table>\n",
       "</div>"
      ],
      "text/plain": [
       "         item            user  rating   timestamp\n",
       "0  0060009810  A1N070NS9CJQ2I     5.0  1026864000\n",
       "1  0060009810  A3P0KRKOBQK1KN     5.0  1025913600\n",
       "2  0060009810  A192HO2ICJ75VU     5.0  1025654400\n",
       "3  0060009810  A2T278FKFL3BLT     4.0  1025395200\n",
       "4  0060009810  A2ZUXVTW8RXBXW     5.0  1025222400"
      ]
     },
     "execution_count": 31,
     "metadata": {},
     "output_type": "execute_result"
    }
   ],
   "source": [
    "df.head()"
   ]
  },
  {
   "cell_type": "code",
   "execution_count": 32,
   "id": "6127ba20",
   "metadata": {},
   "outputs": [
    {
     "data": {
      "text/plain": [
       "10000"
      ]
     },
     "execution_count": 32,
     "metadata": {},
     "output_type": "execute_result"
    }
   ],
   "source": [
    "len(df)"
   ]
  },
  {
   "cell_type": "markdown",
   "id": "f848cfe3",
   "metadata": {},
   "source": [
    "Hmm... are the four columns sufficient for our system? Can we infer a purchase based on the presence of a rating? Do we assume a user with no rating for a product failed to purchase? Yeesh... that doesn't seem supportable. I guess the prediction here is not whether they bought it but whether they were motivated to source a review. Here the review becomes the reward, not the sale ... go off and read the paper: https://cseweb.ucsd.edu/~jmcauley/pdfs/emnlp19a.pdf"
   ]
  },
  {
   "cell_type": "code",
   "execution_count": 17,
   "id": "94334a12",
   "metadata": {},
   "outputs": [
    {
     "data": {
      "text/html": [
       "<div>\n",
       "<style scoped>\n",
       "    .dataframe tbody tr th:only-of-type {\n",
       "        vertical-align: middle;\n",
       "    }\n",
       "\n",
       "    .dataframe tbody tr th {\n",
       "        vertical-align: top;\n",
       "    }\n",
       "\n",
       "    .dataframe thead th {\n",
       "        text-align: right;\n",
       "    }\n",
       "</style>\n",
       "<table border=\"1\" class=\"dataframe\">\n",
       "  <thead>\n",
       "    <tr style=\"text-align: right;\">\n",
       "      <th></th>\n",
       "      <th>rating</th>\n",
       "      <th>timestamp</th>\n",
       "    </tr>\n",
       "  </thead>\n",
       "  <tbody>\n",
       "    <tr>\n",
       "      <th>count</th>\n",
       "      <td>2.099435e+07</td>\n",
       "      <td>2.099435e+07</td>\n",
       "    </tr>\n",
       "    <tr>\n",
       "      <th>mean</th>\n",
       "      <td>4.073685e+00</td>\n",
       "      <td>1.425967e+09</td>\n",
       "    </tr>\n",
       "    <tr>\n",
       "      <th>std</th>\n",
       "      <td>1.385792e+00</td>\n",
       "      <td>7.769201e+07</td>\n",
       "    </tr>\n",
       "    <tr>\n",
       "      <th>min</th>\n",
       "      <td>1.000000e+00</td>\n",
       "      <td>8.811936e+08</td>\n",
       "    </tr>\n",
       "    <tr>\n",
       "      <th>25%</th>\n",
       "      <td>4.000000e+00</td>\n",
       "      <td>1.394064e+09</td>\n",
       "    </tr>\n",
       "    <tr>\n",
       "      <th>50%</th>\n",
       "      <td>5.000000e+00</td>\n",
       "      <td>1.440634e+09</td>\n",
       "    </tr>\n",
       "    <tr>\n",
       "      <th>75%</th>\n",
       "      <td>5.000000e+00</td>\n",
       "      <td>1.478736e+09</td>\n",
       "    </tr>\n",
       "    <tr>\n",
       "      <th>max</th>\n",
       "      <td>5.000000e+00</td>\n",
       "      <td>1.538698e+09</td>\n",
       "    </tr>\n",
       "  </tbody>\n",
       "</table>\n",
       "</div>"
      ],
      "text/plain": [
       "             rating     timestamp\n",
       "count  2.099435e+07  2.099435e+07\n",
       "mean   4.073685e+00  1.425967e+09\n",
       "std    1.385792e+00  7.769201e+07\n",
       "min    1.000000e+00  8.811936e+08\n",
       "25%    4.000000e+00  1.394064e+09\n",
       "50%    5.000000e+00  1.440634e+09\n",
       "75%    5.000000e+00  1.478736e+09\n",
       "max    5.000000e+00  1.538698e+09"
      ]
     },
     "execution_count": 17,
     "metadata": {},
     "output_type": "execute_result"
    }
   ],
   "source": [
    "df.describe()"
   ]
  },
  {
   "cell_type": "code",
   "execution_count": 16,
   "id": "2c3c02f6",
   "metadata": {},
   "outputs": [
    {
     "data": {
      "text/plain": [
       "item\n",
       "B010OYASRG    28539\n",
       "B00L0YLRUW    20873\n",
       "B00DIF2BO2    17045\n",
       "B006GWO5WK    16130\n",
       "B003L1ZYYW    16056\n",
       "              ...  \n",
       "B00GXO0W5K        1\n",
       "B00GXOIMF2        1\n",
       "B00A8ZGSOE        1\n",
       "B003ZTYGMG        1\n",
       "B01HJF4DUG        1\n",
       "Name: count, Length: 756489, dtype: int64"
      ]
     },
     "execution_count": 16,
     "metadata": {},
     "output_type": "execute_result"
    }
   ],
   "source": [
    "df.item.value_counts()"
   ]
  },
  {
   "cell_type": "code",
   "execution_count": null,
   "id": "f2a95b26",
   "metadata": {},
   "outputs": [],
   "source": []
  },
  {
   "cell_type": "markdown",
   "id": "9c026314",
   "metadata": {},
   "source": [
    "## 2023 Amazon Reviews Data"
   ]
  },
  {
   "cell_type": "markdown",
   "id": "863ccb77",
   "metadata": {},
   "source": [
    "### Preprocessing"
   ]
  },
  {
   "cell_type": "code",
   "execution_count": 1,
   "id": "9cb8aa88",
   "metadata": {},
   "outputs": [
    {
     "name": "stdout",
     "output_type": "stream",
     "text": [
      "total 35G\n",
      "-rw-rw-r-- 1 grim grim  22G Jul 19 10:34 Electronics.jsonl\n",
      "-rw-rw-r-- 1 grim grim 4.5G Jul 19 13:44 Electronics_max.jsonl\n",
      "-rw-rw-r-- 1 grim grim 1.1G Jul 19 13:27 Electronics_min.jsonl\n",
      "-rw-rw-r-- 1 grim grim 4.9G Jul 19 10:34 meta_Electronics.jsonl\n",
      "-rw-rw-r-- 1 grim grim 2.8G Jul 19 13:32 meta_Electronics_min.jsonl\n",
      "-rw-rw-r-- 1 grim grim  65M Jul 19 13:11 test.jsonl\n",
      "-rw-rw-r-- 1 grim grim 1.1M Jul 19 13:00 test_min.jsonl\n",
      "-rw-rw-r-- 1 grim grim 2.0K Jul 19 13:11 tiny.jsonl\n",
      "-rw-rw-r-- 1 grim grim  109 Jul 19 13:12 tiny_min.jsonl\n"
     ]
    }
   ],
   "source": [
    "!ls -lh ../data/2023"
   ]
  },
  {
   "cell_type": "markdown",
   "id": "f123f848",
   "metadata": {},
   "source": [
    "2023 publication, see https://amazon-reviews-2023.github.io/"
   ]
  },
  {
   "cell_type": "code",
   "execution_count": 2,
   "id": "44c2ffc6",
   "metadata": {},
   "outputs": [],
   "source": [
    "import json \n",
    "import pandas as pd"
   ]
  },
  {
   "cell_type": "code",
   "execution_count": 4,
   "id": "1256a579",
   "metadata": {},
   "outputs": [],
   "source": [
    "reviews = pd.read_json('../data/2023/Electronics.jsonl', lines=True, nrows=100, )"
   ]
  },
  {
   "cell_type": "code",
   "execution_count": 5,
   "id": "867d4e49",
   "metadata": {},
   "outputs": [
    {
     "data": {
      "text/html": [
       "<div>\n",
       "<style scoped>\n",
       "    .dataframe tbody tr th:only-of-type {\n",
       "        vertical-align: middle;\n",
       "    }\n",
       "\n",
       "    .dataframe tbody tr th {\n",
       "        vertical-align: top;\n",
       "    }\n",
       "\n",
       "    .dataframe thead th {\n",
       "        text-align: right;\n",
       "    }\n",
       "</style>\n",
       "<table border=\"1\" class=\"dataframe\">\n",
       "  <thead>\n",
       "    <tr style=\"text-align: right;\">\n",
       "      <th></th>\n",
       "      <th>rating</th>\n",
       "      <th>title</th>\n",
       "      <th>text</th>\n",
       "      <th>images</th>\n",
       "      <th>asin</th>\n",
       "      <th>parent_asin</th>\n",
       "      <th>user_id</th>\n",
       "      <th>timestamp</th>\n",
       "      <th>helpful_vote</th>\n",
       "      <th>verified_purchase</th>\n",
       "    </tr>\n",
       "  </thead>\n",
       "  <tbody>\n",
       "    <tr>\n",
       "      <th>0</th>\n",
       "      <td>3</td>\n",
       "      <td>Smells like gasoline! Going back!</td>\n",
       "      <td>First &amp; most offensive: they reek of gasoline ...</td>\n",
       "      <td>[{'small_image_url': 'https://m.media-amazon.c...</td>\n",
       "      <td>B083NRGZMM</td>\n",
       "      <td>B083NRGZMM</td>\n",
       "      <td>AFKZENTNBQ7A7V7UXW5JJI6UGRYQ</td>\n",
       "      <td>2022-07-18 22:58:37.948</td>\n",
       "      <td>0</td>\n",
       "      <td>True</td>\n",
       "    </tr>\n",
       "    <tr>\n",
       "      <th>1</th>\n",
       "      <td>1</td>\n",
       "      <td>Didn’t work at all lenses loose/broken.</td>\n",
       "      <td>These didn’t work. Idk if they were damaged in...</td>\n",
       "      <td>[]</td>\n",
       "      <td>B07N69T6TM</td>\n",
       "      <td>B07N69T6TM</td>\n",
       "      <td>AFKZENTNBQ7A7V7UXW5JJI6UGRYQ</td>\n",
       "      <td>2020-06-20 18:42:29.731</td>\n",
       "      <td>0</td>\n",
       "      <td>True</td>\n",
       "    </tr>\n",
       "    <tr>\n",
       "      <th>2</th>\n",
       "      <td>5</td>\n",
       "      <td>Excellent!</td>\n",
       "      <td>I love these. They even come with a carry case...</td>\n",
       "      <td>[]</td>\n",
       "      <td>B01G8JO5F2</td>\n",
       "      <td>B01G8JO5F2</td>\n",
       "      <td>AFKZENTNBQ7A7V7UXW5JJI6UGRYQ</td>\n",
       "      <td>2018-04-07 09:23:37.534</td>\n",
       "      <td>0</td>\n",
       "      <td>True</td>\n",
       "    </tr>\n",
       "    <tr>\n",
       "      <th>3</th>\n",
       "      <td>5</td>\n",
       "      <td>Great laptop backpack!</td>\n",
       "      <td>I was searching for a sturdy backpack for scho...</td>\n",
       "      <td>[]</td>\n",
       "      <td>B001OC5JKY</td>\n",
       "      <td>B001OC5JKY</td>\n",
       "      <td>AGGZ357AO26RQZVRLGU4D4N52DZQ</td>\n",
       "      <td>2010-11-20 18:41:35.000</td>\n",
       "      <td>18</td>\n",
       "      <td>True</td>\n",
       "    </tr>\n",
       "    <tr>\n",
       "      <th>4</th>\n",
       "      <td>5</td>\n",
       "      <td>Best Headphones in the Fifties price range!</td>\n",
       "      <td>I've bought these headphones three times becau...</td>\n",
       "      <td>[]</td>\n",
       "      <td>B013J7WUGC</td>\n",
       "      <td>B07CJYMRWM</td>\n",
       "      <td>AG2L7H23R5LLKDKLBEF2Q3L2MVDA</td>\n",
       "      <td>2023-02-17 02:39:41.238</td>\n",
       "      <td>0</td>\n",
       "      <td>True</td>\n",
       "    </tr>\n",
       "  </tbody>\n",
       "</table>\n",
       "</div>"
      ],
      "text/plain": [
       "   rating                                        title  \\\n",
       "0       3            Smells like gasoline! Going back!   \n",
       "1       1      Didn’t work at all lenses loose/broken.   \n",
       "2       5                                   Excellent!   \n",
       "3       5                       Great laptop backpack!   \n",
       "4       5  Best Headphones in the Fifties price range!   \n",
       "\n",
       "                                                text  \\\n",
       "0  First & most offensive: they reek of gasoline ...   \n",
       "1  These didn’t work. Idk if they were damaged in...   \n",
       "2  I love these. They even come with a carry case...   \n",
       "3  I was searching for a sturdy backpack for scho...   \n",
       "4  I've bought these headphones three times becau...   \n",
       "\n",
       "                                              images        asin parent_asin  \\\n",
       "0  [{'small_image_url': 'https://m.media-amazon.c...  B083NRGZMM  B083NRGZMM   \n",
       "1                                                 []  B07N69T6TM  B07N69T6TM   \n",
       "2                                                 []  B01G8JO5F2  B01G8JO5F2   \n",
       "3                                                 []  B001OC5JKY  B001OC5JKY   \n",
       "4                                                 []  B013J7WUGC  B07CJYMRWM   \n",
       "\n",
       "                        user_id               timestamp  helpful_vote  \\\n",
       "0  AFKZENTNBQ7A7V7UXW5JJI6UGRYQ 2022-07-18 22:58:37.948             0   \n",
       "1  AFKZENTNBQ7A7V7UXW5JJI6UGRYQ 2020-06-20 18:42:29.731             0   \n",
       "2  AFKZENTNBQ7A7V7UXW5JJI6UGRYQ 2018-04-07 09:23:37.534             0   \n",
       "3  AGGZ357AO26RQZVRLGU4D4N52DZQ 2010-11-20 18:41:35.000            18   \n",
       "4  AG2L7H23R5LLKDKLBEF2Q3L2MVDA 2023-02-17 02:39:41.238             0   \n",
       "\n",
       "   verified_purchase  \n",
       "0               True  \n",
       "1               True  \n",
       "2               True  \n",
       "3               True  \n",
       "4               True  "
      ]
     },
     "execution_count": 5,
     "metadata": {},
     "output_type": "execute_result"
    }
   ],
   "source": [
    "reviews.head()"
   ]
  },
  {
   "cell_type": "code",
   "execution_count": null,
   "id": "445c1203",
   "metadata": {},
   "outputs": [],
   "source": [
    "# We need to reduce the size of this dataset or risk blowing our memory budget, filter down to essentials for our prediction task \n",
    "!cd ../data/2023 && jq -c '{rating, parent_asin, user_id, timestamp}' Electronics.jsonl > Electronics_min.jsonl"
   ]
  },
  {
   "cell_type": "code",
   "execution_count": 3,
   "id": "46bdce07",
   "metadata": {},
   "outputs": [],
   "source": [
    "reviews = pd.read_json('../data/2023/Electronics_min.jsonl', lines=True)"
   ]
  },
  {
   "cell_type": "code",
   "execution_count": 4,
   "id": "e732bd7b",
   "metadata": {},
   "outputs": [],
   "source": [
    "reviews.to_parquet(\"../data/2023/Electronics_min.parquet\")"
   ]
  },
  {
   "cell_type": "code",
   "execution_count": 17,
   "id": "509ee691",
   "metadata": {},
   "outputs": [
    {
     "data": {
      "text/plain": [
       "rating                                    3\n",
       "parent_asin                      B083NRGZMM\n",
       "user_id        AFKZENTNBQ7A7V7UXW5JJI6UGRYQ\n",
       "timestamp        2022-07-18 22:58:37.948000\n",
       "Name: 0, dtype: object"
      ]
     },
     "execution_count": 17,
     "metadata": {},
     "output_type": "execute_result"
    }
   ],
   "source": [
    "reviews.iloc[0]"
   ]
  },
  {
   "cell_type": "code",
   "execution_count": 18,
   "id": "d80f7dda",
   "metadata": {},
   "outputs": [
    {
     "data": {
      "text/plain": [
       "2294450"
      ]
     },
     "execution_count": 18,
     "metadata": {},
     "output_type": "execute_result"
    }
   ],
   "source": [
    "len(reviews.user_id.unique())"
   ]
  },
  {
   "cell_type": "code",
   "execution_count": 19,
   "id": "dc4e4b63",
   "metadata": {},
   "outputs": [
    {
     "data": {
      "text/plain": [
       "array([[<Axes: title={'center': 'rating'}>,\n",
       "        <Axes: title={'center': 'timestamp'}>]], dtype=object)"
      ]
     },
     "execution_count": 19,
     "metadata": {},
     "output_type": "execute_result"
    },
    {
     "data": {
      "image/png": "[encoded data removed]",
      "text/plain": [
       "<Figure size 640x480 with 2 Axes>"
      ]
     },
     "metadata": {},
     "output_type": "display_data"
    }
   ],
   "source": [
    "reviews.hist()"
   ]
  },
  {
   "cell_type": "code",
   "execution_count": 20,
   "id": "e8ad4e83",
   "metadata": {},
   "outputs": [],
   "source": [
    "items = pd.read_json(\"../data/2023/meta_Electronics.jsonl\", lines=True, nrows=100) "
   ]
  },
  {
   "cell_type": "code",
   "execution_count": 21,
   "id": "844fb19e",
   "metadata": {},
   "outputs": [
    {
     "data": {
      "text/html": [
       "<div>\n",
       "<style scoped>\n",
       "    .dataframe tbody tr th:only-of-type {\n",
       "        vertical-align: middle;\n",
       "    }\n",
       "\n",
       "    .dataframe tbody tr th {\n",
       "        vertical-align: top;\n",
       "    }\n",
       "\n",
       "    .dataframe thead th {\n",
       "        text-align: right;\n",
       "    }\n",
       "</style>\n",
       "<table border=\"1\" class=\"dataframe\">\n",
       "  <thead>\n",
       "    <tr style=\"text-align: right;\">\n",
       "      <th></th>\n",
       "      <th>main_category</th>\n",
       "      <th>title</th>\n",
       "      <th>average_rating</th>\n",
       "      <th>rating_number</th>\n",
       "      <th>features</th>\n",
       "      <th>description</th>\n",
       "      <th>price</th>\n",
       "      <th>images</th>\n",
       "      <th>videos</th>\n",
       "      <th>store</th>\n",
       "      <th>categories</th>\n",
       "      <th>details</th>\n",
       "      <th>parent_asin</th>\n",
       "      <th>bought_together</th>\n",
       "    </tr>\n",
       "  </thead>\n",
       "  <tbody>\n",
       "    <tr>\n",
       "      <th>0</th>\n",
       "      <td>All Electronics</td>\n",
       "      <td>FS-1051 FATSHARK TELEPORTER V3 HEADSET</td>\n",
       "      <td>3.5</td>\n",
       "      <td>6</td>\n",
       "      <td>[]</td>\n",
       "      <td>[Teleporter V3 The “Teleporter V3” kit sets a ...</td>\n",
       "      <td>NaN</td>\n",
       "      <td>[{'thumb': 'https://m.media-amazon.com/images/...</td>\n",
       "      <td>[]</td>\n",
       "      <td>Fat Shark</td>\n",
       "      <td>[Electronics, Television &amp; Video, Video Glasses]</td>\n",
       "      <td>{'Date First Available': 'August 2, 2014', 'Ma...</td>\n",
       "      <td>B00MCW7G9M</td>\n",
       "      <td>NaN</td>\n",
       "    </tr>\n",
       "    <tr>\n",
       "      <th>1</th>\n",
       "      <td>All Electronics</td>\n",
       "      <td>Ce-H22B12-S1 4Kx2K Hdmi 4Port</td>\n",
       "      <td>5.0</td>\n",
       "      <td>1</td>\n",
       "      <td>[UPC: 662774021904, Weight: 0.600 lbs]</td>\n",
       "      <td>[HDMI In - HDMI Out]</td>\n",
       "      <td>NaN</td>\n",
       "      <td>[{'thumb': 'https://m.media-amazon.com/images/...</td>\n",
       "      <td>[]</td>\n",
       "      <td>SIIG</td>\n",
       "      <td>[Electronics, Television &amp; Video, Accessories,...</td>\n",
       "      <td>{'Product Dimensions': '0.83 x 4.17 x 2.05 inc...</td>\n",
       "      <td>B00YT6XQSE</td>\n",
       "      <td>NaN</td>\n",
       "    </tr>\n",
       "    <tr>\n",
       "      <th>2</th>\n",
       "      <td>Computers</td>\n",
       "      <td>Digi-Tatoo Decal Skin Compatible With MacBook ...</td>\n",
       "      <td>4.5</td>\n",
       "      <td>246</td>\n",
       "      <td>[WARNING: Please IDENTIFY MODEL NUMBER on the ...</td>\n",
       "      <td>[]</td>\n",
       "      <td>19.99</td>\n",
       "      <td>[{'thumb': 'https://m.media-amazon.com/images/...</td>\n",
       "      <td>[{'title': 'AL 2Sides Video', 'url': 'https://...</td>\n",
       "      <td>Digi-Tatoo</td>\n",
       "      <td>[Electronics, Computers &amp; Accessories, Laptop ...</td>\n",
       "      <td>{'Brand': 'Digi-Tatoo', 'Color': 'Fresh Marble...</td>\n",
       "      <td>B07SM135LS</td>\n",
       "      <td>NaN</td>\n",
       "    </tr>\n",
       "    <tr>\n",
       "      <th>3</th>\n",
       "      <td>AMAZON FASHION</td>\n",
       "      <td>NotoCity Compatible with Vivoactive 4 band 22m...</td>\n",
       "      <td>4.5</td>\n",
       "      <td>233</td>\n",
       "      <td>[☛NotoCity 22mm band is designed for Vivoactiv...</td>\n",
       "      <td>[]</td>\n",
       "      <td>9.99</td>\n",
       "      <td>[{'thumb': 'https://m.media-amazon.com/images/...</td>\n",
       "      <td>[]</td>\n",
       "      <td>NotoCity</td>\n",
       "      <td>[Electronics, Wearable Technology, Clips, Arm ...</td>\n",
       "      <td>{'Date First Available': 'May 29, 2020', 'Manu...</td>\n",
       "      <td>B089CNGZCW</td>\n",
       "      <td>NaN</td>\n",
       "    </tr>\n",
       "    <tr>\n",
       "      <th>4</th>\n",
       "      <td>Cell Phones &amp; Accessories</td>\n",
       "      <td>Motorola Droid X Essentials Combo Pack</td>\n",
       "      <td>3.8</td>\n",
       "      <td>64</td>\n",
       "      <td>[New Droid X Essentials Combo Pack, Exclusive ...</td>\n",
       "      <td>[all Genuine High Quality Motorola Made Access...</td>\n",
       "      <td>14.99</td>\n",
       "      <td>[{'thumb': 'https://m.media-amazon.com/images/...</td>\n",
       "      <td>[]</td>\n",
       "      <td>Verizon</td>\n",
       "      <td>[Electronics, Computers &amp; Accessories, Compute...</td>\n",
       "      <td>{'Product Dimensions': '11.6 x 6.9 x 3.1 inche...</td>\n",
       "      <td>B004E2Z88O</td>\n",
       "      <td>NaN</td>\n",
       "    </tr>\n",
       "  </tbody>\n",
       "</table>\n",
       "</div>"
      ],
      "text/plain": [
       "               main_category  \\\n",
       "0            All Electronics   \n",
       "1            All Electronics   \n",
       "2                  Computers   \n",
       "3             AMAZON FASHION   \n",
       "4  Cell Phones & Accessories   \n",
       "\n",
       "                                               title  average_rating  \\\n",
       "0             FS-1051 FATSHARK TELEPORTER V3 HEADSET             3.5   \n",
       "1                      Ce-H22B12-S1 4Kx2K Hdmi 4Port             5.0   \n",
       "2  Digi-Tatoo Decal Skin Compatible With MacBook ...             4.5   \n",
       "3  NotoCity Compatible with Vivoactive 4 band 22m...             4.5   \n",
       "4             Motorola Droid X Essentials Combo Pack             3.8   \n",
       "\n",
       "   rating_number                                           features  \\\n",
       "0              6                                                 []   \n",
       "1              1             [UPC: 662774021904, Weight: 0.600 lbs]   \n",
       "2            246  [WARNING: Please IDENTIFY MODEL NUMBER on the ...   \n",
       "3            233  [☛NotoCity 22mm band is designed for Vivoactiv...   \n",
       "4             64  [New Droid X Essentials Combo Pack, Exclusive ...   \n",
       "\n",
       "                                         description  price  \\\n",
       "0  [Teleporter V3 The “Teleporter V3” kit sets a ...    NaN   \n",
       "1                               [HDMI In - HDMI Out]    NaN   \n",
       "2                                                 []  19.99   \n",
       "3                                                 []   9.99   \n",
       "4  [all Genuine High Quality Motorola Made Access...  14.99   \n",
       "\n",
       "                                              images  \\\n",
       "0  [{'thumb': 'https://m.media-amazon.com/images/...   \n",
       "1  [{'thumb': 'https://m.media-amazon.com/images/...   \n",
       "2  [{'thumb': 'https://m.media-amazon.com/images/...   \n",
       "3  [{'thumb': 'https://m.media-amazon.com/images/...   \n",
       "4  [{'thumb': 'https://m.media-amazon.com/images/...   \n",
       "\n",
       "                                              videos       store  \\\n",
       "0                                                 []   Fat Shark   \n",
       "1                                                 []        SIIG   \n",
       "2  [{'title': 'AL 2Sides Video', 'url': 'https://...  Digi-Tatoo   \n",
       "3                                                 []    NotoCity   \n",
       "4                                                 []     Verizon   \n",
       "\n",
       "                                          categories  \\\n",
       "0   [Electronics, Television & Video, Video Glasses]   \n",
       "1  [Electronics, Television & Video, Accessories,...   \n",
       "2  [Electronics, Computers & Accessories, Laptop ...   \n",
       "3  [Electronics, Wearable Technology, Clips, Arm ...   \n",
       "4  [Electronics, Computers & Accessories, Compute...   \n",
       "\n",
       "                                             details parent_asin  \\\n",
       "0  {'Date First Available': 'August 2, 2014', 'Ma...  B00MCW7G9M   \n",
       "1  {'Product Dimensions': '0.83 x 4.17 x 2.05 inc...  B00YT6XQSE   \n",
       "2  {'Brand': 'Digi-Tatoo', 'Color': 'Fresh Marble...  B07SM135LS   \n",
       "3  {'Date First Available': 'May 29, 2020', 'Manu...  B089CNGZCW   \n",
       "4  {'Product Dimensions': '11.6 x 6.9 x 3.1 inche...  B004E2Z88O   \n",
       "\n",
       "   bought_together  \n",
       "0              NaN  \n",
       "1              NaN  \n",
       "2              NaN  \n",
       "3              NaN  \n",
       "4              NaN  "
      ]
     },
     "execution_count": 21,
     "metadata": {},
     "output_type": "execute_result"
    }
   ],
   "source": [
    "items.head()"
   ]
  },
  {
   "cell_type": "code",
   "execution_count": 25,
   "id": "109d178e",
   "metadata": {},
   "outputs": [],
   "source": [
    "# Filter down to essential fields\n",
    "!cd ../data/2023 && jq -c '{title, average_rating, description, price, images, rating_number, parent_asin}' meta_Electronics.jsonl > meta_Electronics_min.jsonl"
   ]
  },
  {
   "cell_type": "code",
   "execution_count": 1,
   "id": "c703a578",
   "metadata": {},
   "outputs": [],
   "source": [
    "import pandas as pd"
   ]
  },
  {
   "cell_type": "code",
   "execution_count": 2,
   "id": "b2f5bc6a",
   "metadata": {},
   "outputs": [],
   "source": [
    "# Note this for whatever reason burns about 30G of RAM during the load, even though the json is only 2.8G uncompressed, we should get this into a parquet file stat\n",
    "items = pd.read_json(\"../data/2023/meta_Electronics.jsonl\", lines=True)"
   ]
  },
  {
   "cell_type": "code",
   "execution_count": null,
   "id": "52d5e983",
   "metadata": {},
   "outputs": [
    {
     "name": "stdout",
     "output_type": "stream",
     "text": [
      "\u001b[31mSignature:\u001b[39m\n",
      "items.drop(\n",
      "    labels: \u001b[33m'IndexLabel | None'\u001b[39m = \u001b[38;5;28;01mNone\u001b[39;00m,\n",
      "    *,\n",
      "    axis: \u001b[33m'Axis'\u001b[39m = \u001b[32m0\u001b[39m,\n",
      "    index: \u001b[33m'IndexLabel | None'\u001b[39m = \u001b[38;5;28;01mNone\u001b[39;00m,\n",
      "    columns: \u001b[33m'IndexLabel | None'\u001b[39m = \u001b[38;5;28;01mNone\u001b[39;00m,\n",
      "    level: \u001b[33m'Level | None'\u001b[39m = \u001b[38;5;28;01mNone\u001b[39;00m,\n",
      "    inplace: \u001b[33m'bool'\u001b[39m = \u001b[38;5;28;01mFalse\u001b[39;00m,\n",
      "    errors: \u001b[33m'IgnoreRaise'\u001b[39m = \u001b[33m'raise'\u001b[39m,\n",
      ") -> \u001b[33m'DataFrame | None'\u001b[39m\n",
      "\u001b[31mDocstring:\u001b[39m\n",
      "Drop specified labels from rows or columns.\n",
      "\n",
      "Remove rows or columns by specifying label names and corresponding\n",
      "axis, or by directly specifying index or column names. When using a\n",
      "multi-index, labels on different levels can be removed by specifying\n",
      "the level. See the :ref:`user guide <advanced.shown_levels>`\n",
      "for more information about the now unused levels.\n",
      "\n",
      "Parameters\n",
      "----------\n",
      "labels : single label or list-like\n",
      "    Index or column labels to drop. A tuple will be used as a single\n",
      "    label and not treated as a list-like.\n",
      "axis : {0 or 'index', 1 or 'columns'}, default 0\n",
      "    Whether to drop labels from the index (0 or 'index') or\n",
      "    columns (1 or 'columns').\n",
      "index : single label or list-like\n",
      "    Alternative to specifying axis (``labels, axis=0``\n",
      "    is equivalent to ``index=labels``).\n",
      "columns : single label or list-like\n",
      "    Alternative to specifying axis (``labels, axis=1``\n",
      "    is equivalent to ``columns=labels``).\n",
      "level : int or level name, optional\n",
      "    For MultiIndex, level from which the labels will be removed.\n",
      "inplace : bool, default False\n",
      "    If False, return a copy. Otherwise, do operation\n",
      "    in place and return None.\n",
      "errors : {'ignore', 'raise'}, default 'raise'\n",
      "    If 'ignore', suppress error and only existing labels are\n",
      "    dropped.\n",
      "\n",
      "Returns\n",
      "-------\n",
      "DataFrame or None\n",
      "    Returns DataFrame or None DataFrame with the specified\n",
      "    index or column labels removed or None if inplace=True.\n",
      "\n",
      "Raises\n",
      "------\n",
      "KeyError\n",
      "    If any of the labels is not found in the selected axis.\n",
      "\n",
      "See Also\n",
      "--------\n",
      "DataFrame.loc : Label-location based indexer for selection by label.\n",
      "DataFrame.dropna : Return DataFrame with labels on given axis omitted\n",
      "    where (all or any) data are missing.\n",
      "DataFrame.drop_duplicates : Return DataFrame with duplicate rows\n",
      "    removed, optionally only considering certain columns.\n",
      "Series.drop : Return Series with specified index labels removed.\n",
      "\n",
      "Examples\n",
      "--------\n",
      ">>> df = pd.DataFrame(np.arange(12).reshape(3, 4),\n",
      "...                   columns=['A', 'B', 'C', 'D'])\n",
      ">>> df\n",
      "   A  B   C   D\n",
      "0  0  1   2   3\n",
      "1  4  5   6   7\n",
      "2  8  9  10  11\n",
      "\n",
      "Drop columns\n",
      "\n",
      ">>> df.drop(['B', 'C'], axis=1)\n",
      "   A   D\n",
      "0  0   3\n",
      "1  4   7\n",
      "2  8  11\n",
      "\n",
      ">>> df.drop(columns=['B', 'C'])\n",
      "   A   D\n",
      "0  0   3\n",
      "1  4   7\n",
      "2  8  11\n",
      "\n",
      "Drop a row by index\n",
      "\n",
      ">>> df.drop([0, 1])\n",
      "   A  B   C   D\n",
      "2  8  9  10  11\n",
      "\n",
      "Drop columns and/or rows of MultiIndex DataFrame\n",
      "\n",
      ">>> midx = pd.MultiIndex(levels=[['llama', 'cow', 'falcon'],\n",
      "...                              ['speed', 'weight', 'length']],\n",
      "...                      codes=[[0, 0, 0, 1, 1, 1, 2, 2, 2],\n",
      "...                             [0, 1, 2, 0, 1, 2, 0, 1, 2]])\n",
      ">>> df = pd.DataFrame(index=midx, columns=['big', 'small'],\n",
      "...                   data=[[45, 30], [200, 100], [1.5, 1], [30, 20],\n",
      "...                         [250, 150], [1.5, 0.8], [320, 250],\n",
      "...                         [1, 0.8], [0.3, 0.2]])\n",
      ">>> df\n",
      "                big     small\n",
      "llama   speed   45.0    30.0\n",
      "        weight  200.0   100.0\n",
      "        length  1.5     1.0\n",
      "cow     speed   30.0    20.0\n",
      "        weight  250.0   150.0\n",
      "        length  1.5     0.8\n",
      "falcon  speed   320.0   250.0\n",
      "        weight  1.0     0.8\n",
      "        length  0.3     0.2\n",
      "\n",
      "Drop a specific index combination from the MultiIndex\n",
      "DataFrame, i.e., drop the combination ``'falcon'`` and\n",
      "``'weight'``, which deletes only the corresponding row\n",
      "\n",
      ">>> df.drop(index=('falcon', 'weight'))\n",
      "                big     small\n",
      "llama   speed   45.0    30.0\n",
      "        weight  200.0   100.0\n",
      "        length  1.5     1.0\n",
      "cow     speed   30.0    20.0\n",
      "        weight  250.0   150.0\n",
      "        length  1.5     0.8\n",
      "falcon  speed   320.0   250.0\n",
      "        length  0.3     0.2\n",
      "\n",
      ">>> df.drop(index='cow', columns='small')\n",
      "                big\n",
      "llama   speed   45.0\n",
      "        weight  200.0\n",
      "        length  1.5\n",
      "falcon  speed   320.0\n",
      "        weight  1.0\n",
      "        length  0.3\n",
      "\n",
      ">>> df.drop(index='length', level=1)\n",
      "                big     small\n",
      "llama   speed   45.0    30.0\n",
      "        weight  200.0   100.0\n",
      "cow     speed   30.0    20.0\n",
      "        weight  250.0   150.0\n",
      "falcon  speed   320.0   250.0\n",
      "        weight  1.0     0.8\n",
      "\u001b[31mFile:\u001b[39m      ~/projects/school/deepcart/venv/lib/python3.12/site-packages/pandas/core/frame.py\n",
      "\u001b[31mType:\u001b[39m      method"
     ]
    }
   ],
   "source": [
    "items.drop(['main_category', 'features', 'videos', 'store', 'categories', 'details', 'bought_together', 'subtitle', 'author'], axis=1, inplace=True)"
   ]
  },
  {
   "cell_type": "code",
   "execution_count": 20,
   "id": "a4d36c79",
   "metadata": {},
   "outputs": [
    {
     "data": {
      "text/html": [
       "<div>\n",
       "<style scoped>\n",
       "    .dataframe tbody tr th:only-of-type {\n",
       "        vertical-align: middle;\n",
       "    }\n",
       "\n",
       "    .dataframe tbody tr th {\n",
       "        vertical-align: top;\n",
       "    }\n",
       "\n",
       "    .dataframe thead th {\n",
       "        text-align: right;\n",
       "    }\n",
       "</style>\n",
       "<table border=\"1\" class=\"dataframe\">\n",
       "  <thead>\n",
       "    <tr style=\"text-align: right;\">\n",
       "      <th></th>\n",
       "      <th>title</th>\n",
       "      <th>average_rating</th>\n",
       "      <th>rating_number</th>\n",
       "      <th>description</th>\n",
       "      <th>price</th>\n",
       "      <th>images</th>\n",
       "      <th>parent_asin</th>\n",
       "    </tr>\n",
       "  </thead>\n",
       "  <tbody>\n",
       "    <tr>\n",
       "      <th>0</th>\n",
       "      <td>FS-1051 FATSHARK TELEPORTER V3 HEADSET</td>\n",
       "      <td>3.5</td>\n",
       "      <td>6</td>\n",
       "      <td>[Teleporter V3 The “Teleporter V3” kit sets a ...</td>\n",
       "      <td>None</td>\n",
       "      <td>[{'thumb': 'https://m.media-amazon.com/images/...</td>\n",
       "      <td>B00MCW7G9M</td>\n",
       "    </tr>\n",
       "    <tr>\n",
       "      <th>1</th>\n",
       "      <td>Ce-H22B12-S1 4Kx2K Hdmi 4Port</td>\n",
       "      <td>5.0</td>\n",
       "      <td>1</td>\n",
       "      <td>[HDMI In - HDMI Out]</td>\n",
       "      <td>None</td>\n",
       "      <td>[{'thumb': 'https://m.media-amazon.com/images/...</td>\n",
       "      <td>B00YT6XQSE</td>\n",
       "    </tr>\n",
       "    <tr>\n",
       "      <th>2</th>\n",
       "      <td>Digi-Tatoo Decal Skin Compatible With MacBook ...</td>\n",
       "      <td>4.5</td>\n",
       "      <td>246</td>\n",
       "      <td>[]</td>\n",
       "      <td>19.99</td>\n",
       "      <td>[{'thumb': 'https://m.media-amazon.com/images/...</td>\n",
       "      <td>B07SM135LS</td>\n",
       "    </tr>\n",
       "    <tr>\n",
       "      <th>3</th>\n",
       "      <td>NotoCity Compatible with Vivoactive 4 band 22m...</td>\n",
       "      <td>4.5</td>\n",
       "      <td>233</td>\n",
       "      <td>[]</td>\n",
       "      <td>9.99</td>\n",
       "      <td>[{'thumb': 'https://m.media-amazon.com/images/...</td>\n",
       "      <td>B089CNGZCW</td>\n",
       "    </tr>\n",
       "    <tr>\n",
       "      <th>4</th>\n",
       "      <td>Motorola Droid X Essentials Combo Pack</td>\n",
       "      <td>3.8</td>\n",
       "      <td>64</td>\n",
       "      <td>[all Genuine High Quality Motorola Made Access...</td>\n",
       "      <td>14.99</td>\n",
       "      <td>[{'thumb': 'https://m.media-amazon.com/images/...</td>\n",
       "      <td>B004E2Z88O</td>\n",
       "    </tr>\n",
       "  </tbody>\n",
       "</table>\n",
       "</div>"
      ],
      "text/plain": [
       "                                               title  average_rating  \\\n",
       "0             FS-1051 FATSHARK TELEPORTER V3 HEADSET             3.5   \n",
       "1                      Ce-H22B12-S1 4Kx2K Hdmi 4Port             5.0   \n",
       "2  Digi-Tatoo Decal Skin Compatible With MacBook ...             4.5   \n",
       "3  NotoCity Compatible with Vivoactive 4 band 22m...             4.5   \n",
       "4             Motorola Droid X Essentials Combo Pack             3.8   \n",
       "\n",
       "   rating_number                                        description  price  \\\n",
       "0              6  [Teleporter V3 The “Teleporter V3” kit sets a ...   None   \n",
       "1              1                               [HDMI In - HDMI Out]   None   \n",
       "2            246                                                 []  19.99   \n",
       "3            233                                                 []   9.99   \n",
       "4             64  [all Genuine High Quality Motorola Made Access...  14.99   \n",
       "\n",
       "                                              images parent_asin  \n",
       "0  [{'thumb': 'https://m.media-amazon.com/images/...  B00MCW7G9M  \n",
       "1  [{'thumb': 'https://m.media-amazon.com/images/...  B00YT6XQSE  \n",
       "2  [{'thumb': 'https://m.media-amazon.com/images/...  B07SM135LS  \n",
       "3  [{'thumb': 'https://m.media-amazon.com/images/...  B089CNGZCW  \n",
       "4  [{'thumb': 'https://m.media-amazon.com/images/...  B004E2Z88O  "
      ]
     },
     "execution_count": 20,
     "metadata": {},
     "output_type": "execute_result"
    }
   ],
   "source": [
    "items.head()"
   ]
  },
  {
   "cell_type": "code",
   "execution_count": 22,
   "id": "5b19f1d6",
   "metadata": {},
   "outputs": [],
   "source": [
    "items.price = items.price.astype(str)"
   ]
  },
  {
   "cell_type": "code",
   "execution_count": 23,
   "id": "a714bd38",
   "metadata": {},
   "outputs": [],
   "source": [
    "items.to_parquet(\"../data/2023/meta_Electronics.parquet\")"
   ]
  },
  {
   "cell_type": "code",
   "execution_count": 24,
   "id": "b25d28d5",
   "metadata": {},
   "outputs": [
    {
     "data": {
      "text/plain": [
       "1610012"
      ]
     },
     "execution_count": 24,
     "metadata": {},
     "output_type": "execute_result"
    }
   ],
   "source": [
    "len(items)"
   ]
  },
  {
   "cell_type": "code",
   "execution_count": 25,
   "id": "040dd5a2",
   "metadata": {},
   "outputs": [
    {
     "data": {
      "text/plain": [
       "array([[<Axes: title={'center': 'average_rating'}>,\n",
       "        <Axes: title={'center': 'rating_number'}>]], dtype=object)"
      ]
     },
     "execution_count": 25,
     "metadata": {},
     "output_type": "execute_result"
    },
    {
     "data": {
      "image/png": "[encoded data removed]",
      "text/plain": [
       "<Figure size 640x480 with 2 Axes>"
      ]
     },
     "metadata": {},
     "output_type": "display_data"
    }
   ],
   "source": [
    "items.hist()"
   ]
  },
  {
   "cell_type": "code",
   "execution_count": 17,
   "id": "58ec85e7",
   "metadata": {},
   "outputs": [
    {
     "data": {
      "text/plain": [
       "main_category                                        All Electronics\n",
       "title                         FS-1051 FATSHARK TELEPORTER V3 HEADSET\n",
       "average_rating                                                   3.5\n",
       "rating_number                                                      6\n",
       "features                                                          []\n",
       "description        [Teleporter V3 The “Teleporter V3” kit sets a ...\n",
       "price                                                           None\n",
       "images             [{'thumb': 'https://m.media-amazon.com/images/...\n",
       "videos                                                            []\n",
       "store                                                      Fat Shark\n",
       "categories          [Electronics, Television & Video, Video Glasses]\n",
       "details            {'Date First Available': 'August 2, 2014', 'Ma...\n",
       "parent_asin                                               B00MCW7G9M\n",
       "bought_together                                                  NaN\n",
       "subtitle                                                         NaN\n",
       "author                                                           NaN\n",
       "Name: 0, dtype: object"
      ]
     },
     "execution_count": 17,
     "metadata": {},
     "output_type": "execute_result"
    }
   ],
   "source": [
    "items.iloc[0]"
   ]
  },
  {
   "cell_type": "code",
   "execution_count": 18,
   "id": "7c4e502b",
   "metadata": {},
   "outputs": [
    {
     "data": {
      "text/html": [
       "<div>\n",
       "<style scoped>\n",
       "    .dataframe tbody tr th:only-of-type {\n",
       "        vertical-align: middle;\n",
       "    }\n",
       "\n",
       "    .dataframe tbody tr th {\n",
       "        vertical-align: top;\n",
       "    }\n",
       "\n",
       "    .dataframe thead th {\n",
       "        text-align: right;\n",
       "    }\n",
       "</style>\n",
       "<table border=\"1\" class=\"dataframe\">\n",
       "  <thead>\n",
       "    <tr style=\"text-align: right;\">\n",
       "      <th></th>\n",
       "      <th>main_category</th>\n",
       "      <th>title</th>\n",
       "      <th>average_rating</th>\n",
       "      <th>rating_number</th>\n",
       "      <th>features</th>\n",
       "      <th>description</th>\n",
       "      <th>price</th>\n",
       "      <th>images</th>\n",
       "      <th>videos</th>\n",
       "      <th>store</th>\n",
       "      <th>categories</th>\n",
       "      <th>details</th>\n",
       "      <th>parent_asin</th>\n",
       "      <th>bought_together</th>\n",
       "      <th>subtitle</th>\n",
       "      <th>author</th>\n",
       "    </tr>\n",
       "  </thead>\n",
       "  <tbody>\n",
       "    <tr>\n",
       "      <th>1068151</th>\n",
       "      <td>Amazon Home</td>\n",
       "      <td>Fancii Small Personal Desk USB Fan, Portable M...</td>\n",
       "      <td>4.0</td>\n",
       "      <td>11448</td>\n",
       "      <td>[Twin turbo Cyclone-Blade technology provides ...</td>\n",
       "      <td>[]</td>\n",
       "      <td>15.99</td>\n",
       "      <td>[{'thumb': 'https://m.media-amazon.com/images/...</td>\n",
       "      <td>[{'title': 'Good air, loud rattle', 'url': 'ht...</td>\n",
       "      <td>Fancii</td>\n",
       "      <td>[Electronics, Computers &amp; Accessories, Compute...</td>\n",
       "      <td>{'Brand': 'Fancii', 'Color': 'Black', 'Electri...</td>\n",
       "      <td>B07CML419K</td>\n",
       "      <td>NaN</td>\n",
       "      <td>NaN</td>\n",
       "      <td>NaN</td>\n",
       "    </tr>\n",
       "  </tbody>\n",
       "</table>\n",
       "</div>"
      ],
      "text/plain": [
       "        main_category                                              title  \\\n",
       "1068151   Amazon Home  Fancii Small Personal Desk USB Fan, Portable M...   \n",
       "\n",
       "         average_rating  rating_number  \\\n",
       "1068151             4.0          11448   \n",
       "\n",
       "                                                  features description  price  \\\n",
       "1068151  [Twin turbo Cyclone-Blade technology provides ...          []  15.99   \n",
       "\n",
       "                                                    images  \\\n",
       "1068151  [{'thumb': 'https://m.media-amazon.com/images/...   \n",
       "\n",
       "                                                    videos   store  \\\n",
       "1068151  [{'title': 'Good air, loud rattle', 'url': 'ht...  Fancii   \n",
       "\n",
       "                                                categories  \\\n",
       "1068151  [Electronics, Computers & Accessories, Compute...   \n",
       "\n",
       "                                                   details parent_asin  \\\n",
       "1068151  {'Brand': 'Fancii', 'Color': 'Black', 'Electri...  B07CML419K   \n",
       "\n",
       "         bought_together subtitle author  \n",
       "1068151              NaN      NaN    NaN  "
      ]
     },
     "execution_count": 18,
     "metadata": {},
     "output_type": "execute_result"
    }
   ],
   "source": [
    "# Per the dataset documentation: Note: Products with different colors, styles, sizes usually belong to the same parent ID. \n",
    "# The “asin” in previous Amazon datasets is actually parent ID. Please use parent ID to find product meta.\n",
    "item = reviews.iloc[5].parent_asin\n",
    "items[items.parent_asin == item]"
   ]
  },
  {
   "cell_type": "code",
   "execution_count": 19,
   "id": "beab1229",
   "metadata": {},
   "outputs": [
    {
     "data": {
      "text/html": [
       "<div>\n",
       "<style scoped>\n",
       "    .dataframe tbody tr th:only-of-type {\n",
       "        vertical-align: middle;\n",
       "    }\n",
       "\n",
       "    .dataframe tbody tr th {\n",
       "        vertical-align: top;\n",
       "    }\n",
       "\n",
       "    .dataframe thead th {\n",
       "        text-align: right;\n",
       "    }\n",
       "</style>\n",
       "<table border=\"1\" class=\"dataframe\">\n",
       "  <thead>\n",
       "    <tr style=\"text-align: right;\">\n",
       "      <th></th>\n",
       "      <th>rating</th>\n",
       "      <th>title</th>\n",
       "      <th>text</th>\n",
       "      <th>images</th>\n",
       "      <th>asin</th>\n",
       "      <th>parent_asin</th>\n",
       "      <th>user_id</th>\n",
       "      <th>timestamp</th>\n",
       "      <th>helpful_vote</th>\n",
       "      <th>verified_purchase</th>\n",
       "    </tr>\n",
       "  </thead>\n",
       "  <tbody>\n",
       "  </tbody>\n",
       "</table>\n",
       "</div>"
      ],
      "text/plain": [
       "Empty DataFrame\n",
       "Columns: [rating, title, text, images, asin, parent_asin, user_id, timestamp, helpful_vote, verified_purchase]\n",
       "Index: []"
      ]
     },
     "execution_count": 19,
     "metadata": {},
     "output_type": "execute_result"
    }
   ],
   "source": [
    "reviews[reviews.parent_asin == items.iloc[1].parent_asin]"
   ]
  },
  {
   "cell_type": "markdown",
   "id": "0fed92af",
   "metadata": {},
   "source": [
    "I can't load the entirety of the reviews in one shot... but I can fit every item in memory. So every review will be grounded to an item, but many reviews will be hidden. I don't think this matters for this project. If I want to fit more reviews, I can simply preprocess the data to rejct unneeded fields and (notably text fields) and dramatically reduce memory requirements. I can alternatively load only the critical columns, yes? "
   ]
  },
  {
   "cell_type": "markdown",
   "id": "e3248e82",
   "metadata": {},
   "source": [
    "### EDA"
   ]
  },
  {
   "cell_type": "code",
   "execution_count": 3,
   "id": "62a28736",
   "metadata": {},
   "outputs": [],
   "source": [
    "import pandas as pd"
   ]
  },
  {
   "cell_type": "code",
   "execution_count": 4,
   "id": "600ddc93",
   "metadata": {},
   "outputs": [],
   "source": [
    "reviews = pd.read_parquet(\"../data/2023/Electronics_min.parquet\")\n",
    "items = pd.read_parquet(\"../data/2023/meta_Electronics.parquet\")"
   ]
  },
  {
   "cell_type": "code",
   "execution_count": 5,
   "id": "197f84c5",
   "metadata": {},
   "outputs": [
    {
     "data": {
      "text/html": [
       "<div>\n",
       "<style scoped>\n",
       "    .dataframe tbody tr th:only-of-type {\n",
       "        vertical-align: middle;\n",
       "    }\n",
       "\n",
       "    .dataframe tbody tr th {\n",
       "        vertical-align: top;\n",
       "    }\n",
       "\n",
       "    .dataframe thead th {\n",
       "        text-align: right;\n",
       "    }\n",
       "</style>\n",
       "<table border=\"1\" class=\"dataframe\">\n",
       "  <thead>\n",
       "    <tr style=\"text-align: right;\">\n",
       "      <th></th>\n",
       "      <th>rating</th>\n",
       "      <th>parent_asin</th>\n",
       "      <th>user_id</th>\n",
       "      <th>timestamp</th>\n",
       "    </tr>\n",
       "  </thead>\n",
       "  <tbody>\n",
       "    <tr>\n",
       "      <th>0</th>\n",
       "      <td>3</td>\n",
       "      <td>B083NRGZMM</td>\n",
       "      <td>AFKZENTNBQ7A7V7UXW5JJI6UGRYQ</td>\n",
       "      <td>2022-07-18 22:58:37.948</td>\n",
       "    </tr>\n",
       "    <tr>\n",
       "      <th>1</th>\n",
       "      <td>1</td>\n",
       "      <td>B07N69T6TM</td>\n",
       "      <td>AFKZENTNBQ7A7V7UXW5JJI6UGRYQ</td>\n",
       "      <td>2020-06-20 18:42:29.731</td>\n",
       "    </tr>\n",
       "    <tr>\n",
       "      <th>2</th>\n",
       "      <td>5</td>\n",
       "      <td>B01G8JO5F2</td>\n",
       "      <td>AFKZENTNBQ7A7V7UXW5JJI6UGRYQ</td>\n",
       "      <td>2018-04-07 09:23:37.534</td>\n",
       "    </tr>\n",
       "    <tr>\n",
       "      <th>3</th>\n",
       "      <td>5</td>\n",
       "      <td>B001OC5JKY</td>\n",
       "      <td>AGGZ357AO26RQZVRLGU4D4N52DZQ</td>\n",
       "      <td>2010-11-20 18:41:35.000</td>\n",
       "    </tr>\n",
       "    <tr>\n",
       "      <th>4</th>\n",
       "      <td>5</td>\n",
       "      <td>B07CJYMRWM</td>\n",
       "      <td>AG2L7H23R5LLKDKLBEF2Q3L2MVDA</td>\n",
       "      <td>2023-02-17 02:39:41.238</td>\n",
       "    </tr>\n",
       "  </tbody>\n",
       "</table>\n",
       "</div>"
      ],
      "text/plain": [
       "   rating parent_asin                       user_id               timestamp\n",
       "0       3  B083NRGZMM  AFKZENTNBQ7A7V7UXW5JJI6UGRYQ 2022-07-18 22:58:37.948\n",
       "1       1  B07N69T6TM  AFKZENTNBQ7A7V7UXW5JJI6UGRYQ 2020-06-20 18:42:29.731\n",
       "2       5  B01G8JO5F2  AFKZENTNBQ7A7V7UXW5JJI6UGRYQ 2018-04-07 09:23:37.534\n",
       "3       5  B001OC5JKY  AGGZ357AO26RQZVRLGU4D4N52DZQ 2010-11-20 18:41:35.000\n",
       "4       5  B07CJYMRWM  AG2L7H23R5LLKDKLBEF2Q3L2MVDA 2023-02-17 02:39:41.238"
      ]
     },
     "execution_count": 5,
     "metadata": {},
     "output_type": "execute_result"
    }
   ],
   "source": [
    "reviews.head()"
   ]
  },
  {
   "cell_type": "code",
   "execution_count": 6,
   "id": "aae3cf83",
   "metadata": {},
   "outputs": [
    {
     "data": {
      "text/html": [
       "<div>\n",
       "<style scoped>\n",
       "    .dataframe tbody tr th:only-of-type {\n",
       "        vertical-align: middle;\n",
       "    }\n",
       "\n",
       "    .dataframe tbody tr th {\n",
       "        vertical-align: top;\n",
       "    }\n",
       "\n",
       "    .dataframe thead th {\n",
       "        text-align: right;\n",
       "    }\n",
       "</style>\n",
       "<table border=\"1\" class=\"dataframe\">\n",
       "  <thead>\n",
       "    <tr style=\"text-align: right;\">\n",
       "      <th></th>\n",
       "      <th>title</th>\n",
       "      <th>average_rating</th>\n",
       "      <th>rating_number</th>\n",
       "      <th>description</th>\n",
       "      <th>price</th>\n",
       "      <th>images</th>\n",
       "      <th>parent_asin</th>\n",
       "    </tr>\n",
       "  </thead>\n",
       "  <tbody>\n",
       "    <tr>\n",
       "      <th>0</th>\n",
       "      <td>FS-1051 FATSHARK TELEPORTER V3 HEADSET</td>\n",
       "      <td>3.5</td>\n",
       "      <td>6</td>\n",
       "      <td>[Teleporter V3 The “Teleporter V3” kit sets a ...</td>\n",
       "      <td>None</td>\n",
       "      <td>[{'hi_res': None, 'large': 'https://m.media-am...</td>\n",
       "      <td>B00MCW7G9M</td>\n",
       "    </tr>\n",
       "    <tr>\n",
       "      <th>1</th>\n",
       "      <td>Ce-H22B12-S1 4Kx2K Hdmi 4Port</td>\n",
       "      <td>5.0</td>\n",
       "      <td>1</td>\n",
       "      <td>[HDMI In - HDMI Out]</td>\n",
       "      <td>None</td>\n",
       "      <td>[{'hi_res': 'https://m.media-amazon.com/images...</td>\n",
       "      <td>B00YT6XQSE</td>\n",
       "    </tr>\n",
       "    <tr>\n",
       "      <th>2</th>\n",
       "      <td>Digi-Tatoo Decal Skin Compatible With MacBook ...</td>\n",
       "      <td>4.5</td>\n",
       "      <td>246</td>\n",
       "      <td>[]</td>\n",
       "      <td>19.99</td>\n",
       "      <td>[{'hi_res': 'https://m.media-amazon.com/images...</td>\n",
       "      <td>B07SM135LS</td>\n",
       "    </tr>\n",
       "    <tr>\n",
       "      <th>3</th>\n",
       "      <td>NotoCity Compatible with Vivoactive 4 band 22m...</td>\n",
       "      <td>4.5</td>\n",
       "      <td>233</td>\n",
       "      <td>[]</td>\n",
       "      <td>9.99</td>\n",
       "      <td>[{'hi_res': 'https://m.media-amazon.com/images...</td>\n",
       "      <td>B089CNGZCW</td>\n",
       "    </tr>\n",
       "    <tr>\n",
       "      <th>4</th>\n",
       "      <td>Motorola Droid X Essentials Combo Pack</td>\n",
       "      <td>3.8</td>\n",
       "      <td>64</td>\n",
       "      <td>[all Genuine High Quality Motorola Made Access...</td>\n",
       "      <td>14.99</td>\n",
       "      <td>[{'hi_res': None, 'large': 'https://m.media-am...</td>\n",
       "      <td>B004E2Z88O</td>\n",
       "    </tr>\n",
       "  </tbody>\n",
       "</table>\n",
       "</div>"
      ],
      "text/plain": [
       "                                               title  average_rating  \\\n",
       "0             FS-1051 FATSHARK TELEPORTER V3 HEADSET             3.5   \n",
       "1                      Ce-H22B12-S1 4Kx2K Hdmi 4Port             5.0   \n",
       "2  Digi-Tatoo Decal Skin Compatible With MacBook ...             4.5   \n",
       "3  NotoCity Compatible with Vivoactive 4 band 22m...             4.5   \n",
       "4             Motorola Droid X Essentials Combo Pack             3.8   \n",
       "\n",
       "   rating_number                                        description  price  \\\n",
       "0              6  [Teleporter V3 The “Teleporter V3” kit sets a ...   None   \n",
       "1              1                               [HDMI In - HDMI Out]   None   \n",
       "2            246                                                 []  19.99   \n",
       "3            233                                                 []   9.99   \n",
       "4             64  [all Genuine High Quality Motorola Made Access...  14.99   \n",
       "\n",
       "                                              images parent_asin  \n",
       "0  [{'hi_res': None, 'large': 'https://m.media-am...  B00MCW7G9M  \n",
       "1  [{'hi_res': 'https://m.media-amazon.com/images...  B00YT6XQSE  \n",
       "2  [{'hi_res': 'https://m.media-amazon.com/images...  B07SM135LS  \n",
       "3  [{'hi_res': 'https://m.media-amazon.com/images...  B089CNGZCW  \n",
       "4  [{'hi_res': None, 'large': 'https://m.media-am...  B004E2Z88O  "
      ]
     },
     "execution_count": 6,
     "metadata": {},
     "output_type": "execute_result"
    }
   ],
   "source": [
    "items.head()"
   ]
  },
  {
   "cell_type": "markdown",
   "id": "51cf7b17",
   "metadata": {},
   "source": [
    "We need to build a compact user-centric representation of preference, collapse review data into a sparse matrix of user -> item preferences. There are some heuristics that need to be applied in the process: \n",
    "1. users with few interactions are a very weak signal -- without associations with multiple products, we are not teaching the model about positive associations\n",
    "2. products with few interactions are also a very weak signal -- we are looking to connect users and items that have tiny interaction graphs are not going to improve our macro-level predictions"
   ]
  },
  {
   "cell_type": "code",
   "execution_count": 7,
   "id": "2da447ae",
   "metadata": {},
   "outputs": [
    {
     "data": {
      "text/plain": [
       "42604"
      ]
     },
     "execution_count": 7,
     "metadata": {},
     "output_type": "execute_result"
    }
   ],
   "source": [
    "# This is an algo hyper parameter\n",
    "min_ratings = 1000\n",
    "items = items[items.rating_number > min_ratings]\n",
    "len(items) "
   ]
  },
  {
   "cell_type": "code",
   "execution_count": 8,
   "id": "2d8a71be",
   "metadata": {},
   "outputs": [
    {
     "data": {
      "text/plain": [
       "42604"
      ]
     },
     "execution_count": 8,
     "metadata": {},
     "output_type": "execute_result"
    }
   ],
   "source": [
    "len(items.parent_asin.unique())"
   ]
  },
  {
   "cell_type": "code",
   "execution_count": 9,
   "id": "3c132b2d",
   "metadata": {},
   "outputs": [
    {
     "data": {
      "text/plain": [
       "2294450"
      ]
     },
     "execution_count": 9,
     "metadata": {},
     "output_type": "execute_result"
    }
   ],
   "source": [
    "users = reviews.groupby(['user_id']).rating.count()\n",
    "len(users)"
   ]
  },
  {
   "cell_type": "code",
   "execution_count": 10,
   "id": "8893e4f9",
   "metadata": {},
   "outputs": [
    {
     "data": {
      "text/plain": [
       "user_id\n",
       "AE24MJNUNU6742TQKIEUDUYFI2VA    105\n",
       "AE27QAUZVFLTO45RXMRTPP3YE5XA    114\n",
       "AE2AZ2MNROPF33U6SS53VI22OXJA    106\n",
       "AE2GYIOEW7WONM6D7PL5ERSXPNAA    156\n",
       "AE2IPGKCTT6QVJ55FT45ABL4HDQQ    124\n",
       "                               ... \n",
       "AHZIG7YH6F3P3DFUPL3GRIRMITEA    212\n",
       "AHZQRSEKU5QA6LDGVRFJ4TLCNISA    102\n",
       "AHZTPSUD3LFQ6YNNPEUUTX2QVPFQ    123\n",
       "AHZVNDBSVL6BWGT2446JDYEDQUJQ    196\n",
       "AHZXUVZPQKX64ENVFKBNIKW3DF6A    207\n",
       "Name: rating, Length: 1351, dtype: int64"
      ]
     },
     "execution_count": 10,
     "metadata": {},
     "output_type": "execute_result"
    }
   ],
   "source": [
    "# This is an algorithm parameter\n",
    "min_reviews = 100\n",
    "users = users[users > min_reviews] \n",
    "users"
   ]
  },
  {
   "cell_type": "code",
   "execution_count": 11,
   "id": "1d851762",
   "metadata": {},
   "outputs": [],
   "source": [
    "reviews = reviews[reviews.user_id.isin(set(users.index))]"
   ]
  },
  {
   "cell_type": "code",
   "execution_count": 12,
   "id": "997a14cf",
   "metadata": {},
   "outputs": [
    {
     "data": {
      "text/html": [
       "<div>\n",
       "<style scoped>\n",
       "    .dataframe tbody tr th:only-of-type {\n",
       "        vertical-align: middle;\n",
       "    }\n",
       "\n",
       "    .dataframe tbody tr th {\n",
       "        vertical-align: top;\n",
       "    }\n",
       "\n",
       "    .dataframe thead th {\n",
       "        text-align: right;\n",
       "    }\n",
       "</style>\n",
       "<table border=\"1\" class=\"dataframe\">\n",
       "  <thead>\n",
       "    <tr style=\"text-align: right;\">\n",
       "      <th></th>\n",
       "      <th>rating</th>\n",
       "      <th>parent_asin</th>\n",
       "      <th>user_id</th>\n",
       "      <th>timestamp</th>\n",
       "    </tr>\n",
       "  </thead>\n",
       "  <tbody>\n",
       "    <tr>\n",
       "      <th>485</th>\n",
       "      <td>5</td>\n",
       "      <td>B06X9ZNT4P</td>\n",
       "      <td>AFZUK3MTBIBEDQOPAK3OATUOUKLA</td>\n",
       "      <td>2023-02-27 17:59:30.124</td>\n",
       "    </tr>\n",
       "    <tr>\n",
       "      <th>486</th>\n",
       "      <td>5</td>\n",
       "      <td>B08KSG2JMV</td>\n",
       "      <td>AFZUK3MTBIBEDQOPAK3OATUOUKLA</td>\n",
       "      <td>2023-01-13 23:52:49.320</td>\n",
       "    </tr>\n",
       "    <tr>\n",
       "      <th>487</th>\n",
       "      <td>5</td>\n",
       "      <td>B07H65KP63</td>\n",
       "      <td>AFZUK3MTBIBEDQOPAK3OATUOUKLA</td>\n",
       "      <td>2023-01-09 18:29:43.584</td>\n",
       "    </tr>\n",
       "    <tr>\n",
       "      <th>488</th>\n",
       "      <td>4</td>\n",
       "      <td>B08TBDBQ1C</td>\n",
       "      <td>AFZUK3MTBIBEDQOPAK3OATUOUKLA</td>\n",
       "      <td>2023-01-09 17:56:48.981</td>\n",
       "    </tr>\n",
       "    <tr>\n",
       "      <th>489</th>\n",
       "      <td>5</td>\n",
       "      <td>B0BC87S9SY</td>\n",
       "      <td>AFZUK3MTBIBEDQOPAK3OATUOUKLA</td>\n",
       "      <td>2023-01-01 00:38:53.148</td>\n",
       "    </tr>\n",
       "    <tr>\n",
       "      <th>...</th>\n",
       "      <td>...</td>\n",
       "      <td>...</td>\n",
       "      <td>...</td>\n",
       "      <td>...</td>\n",
       "    </tr>\n",
       "    <tr>\n",
       "      <th>9997257</th>\n",
       "      <td>1</td>\n",
       "      <td>B01M7VOJFW</td>\n",
       "      <td>AE2PW46GBDEGQWODRAH5MG2KNT7A</td>\n",
       "      <td>2012-08-21 21:54:53.000</td>\n",
       "    </tr>\n",
       "    <tr>\n",
       "      <th>9997258</th>\n",
       "      <td>4</td>\n",
       "      <td>B0084QSDBA</td>\n",
       "      <td>AE2PW46GBDEGQWODRAH5MG2KNT7A</td>\n",
       "      <td>2012-08-21 21:27:55.000</td>\n",
       "    </tr>\n",
       "    <tr>\n",
       "      <th>9997259</th>\n",
       "      <td>3</td>\n",
       "      <td>B07BSJCMGS</td>\n",
       "      <td>AE2PW46GBDEGQWODRAH5MG2KNT7A</td>\n",
       "      <td>2012-08-21 21:15:47.000</td>\n",
       "    </tr>\n",
       "    <tr>\n",
       "      <th>9997260</th>\n",
       "      <td>5</td>\n",
       "      <td>B08HKGXGML</td>\n",
       "      <td>AE2PW46GBDEGQWODRAH5MG2KNT7A</td>\n",
       "      <td>2012-08-17 12:21:37.000</td>\n",
       "    </tr>\n",
       "    <tr>\n",
       "      <th>9997261</th>\n",
       "      <td>5</td>\n",
       "      <td>B0017LZIRQ</td>\n",
       "      <td>AE2PW46GBDEGQWODRAH5MG2KNT7A</td>\n",
       "      <td>2010-08-29 17:33:52.000</td>\n",
       "    </tr>\n",
       "  </tbody>\n",
       "</table>\n",
       "<p>199750 rows × 4 columns</p>\n",
       "</div>"
      ],
      "text/plain": [
       "         rating parent_asin                       user_id  \\\n",
       "485           5  B06X9ZNT4P  AFZUK3MTBIBEDQOPAK3OATUOUKLA   \n",
       "486           5  B08KSG2JMV  AFZUK3MTBIBEDQOPAK3OATUOUKLA   \n",
       "487           5  B07H65KP63  AFZUK3MTBIBEDQOPAK3OATUOUKLA   \n",
       "488           4  B08TBDBQ1C  AFZUK3MTBIBEDQOPAK3OATUOUKLA   \n",
       "489           5  B0BC87S9SY  AFZUK3MTBIBEDQOPAK3OATUOUKLA   \n",
       "...         ...         ...                           ...   \n",
       "9997257       1  B01M7VOJFW  AE2PW46GBDEGQWODRAH5MG2KNT7A   \n",
       "9997258       4  B0084QSDBA  AE2PW46GBDEGQWODRAH5MG2KNT7A   \n",
       "9997259       3  B07BSJCMGS  AE2PW46GBDEGQWODRAH5MG2KNT7A   \n",
       "9997260       5  B08HKGXGML  AE2PW46GBDEGQWODRAH5MG2KNT7A   \n",
       "9997261       5  B0017LZIRQ  AE2PW46GBDEGQWODRAH5MG2KNT7A   \n",
       "\n",
       "                      timestamp  \n",
       "485     2023-02-27 17:59:30.124  \n",
       "486     2023-01-13 23:52:49.320  \n",
       "487     2023-01-09 18:29:43.584  \n",
       "488     2023-01-09 17:56:48.981  \n",
       "489     2023-01-01 00:38:53.148  \n",
       "...                         ...  \n",
       "9997257 2012-08-21 21:54:53.000  \n",
       "9997258 2012-08-21 21:27:55.000  \n",
       "9997259 2012-08-21 21:15:47.000  \n",
       "9997260 2012-08-17 12:21:37.000  \n",
       "9997261 2010-08-29 17:33:52.000  \n",
       "\n",
       "[199750 rows x 4 columns]"
      ]
     },
     "execution_count": 12,
     "metadata": {},
     "output_type": "execute_result"
    }
   ],
   "source": [
    "reviews"
   ]
  },
  {
   "cell_type": "markdown",
   "id": "ee2ac7fd",
   "metadata": {},
   "source": [
    "We now have thresholded lists of reviews and items. Assemble the user matrix, which requires both. "
   ]
  },
  {
   "cell_type": "code",
   "execution_count": 13,
   "id": "9063bc36",
   "metadata": {},
   "outputs": [
    {
     "data": {
      "text/plain": [
       "57558004"
      ]
     },
     "execution_count": 13,
     "metadata": {},
     "output_type": "execute_result"
    }
   ],
   "source": [
    "matrix_size = len(users) * len(items)\n",
    "matrix_size"
   ]
  },
  {
   "cell_type": "code",
   "execution_count": 14,
   "id": "a22e7c03",
   "metadata": {},
   "outputs": [
    {
     "data": {
      "text/html": [
       "<div>\n",
       "<style scoped>\n",
       "    .dataframe tbody tr th:only-of-type {\n",
       "        vertical-align: middle;\n",
       "    }\n",
       "\n",
       "    .dataframe tbody tr th {\n",
       "        vertical-align: top;\n",
       "    }\n",
       "\n",
       "    .dataframe thead th {\n",
       "        text-align: right;\n",
       "    }\n",
       "</style>\n",
       "<table border=\"1\" class=\"dataframe\">\n",
       "  <thead>\n",
       "    <tr style=\"text-align: right;\">\n",
       "      <th></th>\n",
       "      <th>user_id</th>\n",
       "      <th>rating</th>\n",
       "    </tr>\n",
       "  </thead>\n",
       "  <tbody>\n",
       "    <tr>\n",
       "      <th>0</th>\n",
       "      <td>AE24MJNUNU6742TQKIEUDUYFI2VA</td>\n",
       "      <td>105</td>\n",
       "    </tr>\n",
       "    <tr>\n",
       "      <th>1</th>\n",
       "      <td>AE27QAUZVFLTO45RXMRTPP3YE5XA</td>\n",
       "      <td>114</td>\n",
       "    </tr>\n",
       "    <tr>\n",
       "      <th>2</th>\n",
       "      <td>AE2AZ2MNROPF33U6SS53VI22OXJA</td>\n",
       "      <td>106</td>\n",
       "    </tr>\n",
       "    <tr>\n",
       "      <th>3</th>\n",
       "      <td>AE2GYIOEW7WONM6D7PL5ERSXPNAA</td>\n",
       "      <td>156</td>\n",
       "    </tr>\n",
       "    <tr>\n",
       "      <th>4</th>\n",
       "      <td>AE2IPGKCTT6QVJ55FT45ABL4HDQQ</td>\n",
       "      <td>124</td>\n",
       "    </tr>\n",
       "    <tr>\n",
       "      <th>...</th>\n",
       "      <td>...</td>\n",
       "      <td>...</td>\n",
       "    </tr>\n",
       "    <tr>\n",
       "      <th>1346</th>\n",
       "      <td>AHZIG7YH6F3P3DFUPL3GRIRMITEA</td>\n",
       "      <td>212</td>\n",
       "    </tr>\n",
       "    <tr>\n",
       "      <th>1347</th>\n",
       "      <td>AHZQRSEKU5QA6LDGVRFJ4TLCNISA</td>\n",
       "      <td>102</td>\n",
       "    </tr>\n",
       "    <tr>\n",
       "      <th>1348</th>\n",
       "      <td>AHZTPSUD3LFQ6YNNPEUUTX2QVPFQ</td>\n",
       "      <td>123</td>\n",
       "    </tr>\n",
       "    <tr>\n",
       "      <th>1349</th>\n",
       "      <td>AHZVNDBSVL6BWGT2446JDYEDQUJQ</td>\n",
       "      <td>196</td>\n",
       "    </tr>\n",
       "    <tr>\n",
       "      <th>1350</th>\n",
       "      <td>AHZXUVZPQKX64ENVFKBNIKW3DF6A</td>\n",
       "      <td>207</td>\n",
       "    </tr>\n",
       "  </tbody>\n",
       "</table>\n",
       "<p>1351 rows × 2 columns</p>\n",
       "</div>"
      ],
      "text/plain": [
       "                           user_id  rating\n",
       "0     AE24MJNUNU6742TQKIEUDUYFI2VA     105\n",
       "1     AE27QAUZVFLTO45RXMRTPP3YE5XA     114\n",
       "2     AE2AZ2MNROPF33U6SS53VI22OXJA     106\n",
       "3     AE2GYIOEW7WONM6D7PL5ERSXPNAA     156\n",
       "4     AE2IPGKCTT6QVJ55FT45ABL4HDQQ     124\n",
       "...                            ...     ...\n",
       "1346  AHZIG7YH6F3P3DFUPL3GRIRMITEA     212\n",
       "1347  AHZQRSEKU5QA6LDGVRFJ4TLCNISA     102\n",
       "1348  AHZTPSUD3LFQ6YNNPEUUTX2QVPFQ     123\n",
       "1349  AHZVNDBSVL6BWGT2446JDYEDQUJQ     196\n",
       "1350  AHZXUVZPQKX64ENVFKBNIKW3DF6A     207\n",
       "\n",
       "[1351 rows x 2 columns]"
      ]
     },
     "execution_count": 14,
     "metadata": {},
     "output_type": "execute_result"
    }
   ],
   "source": [
    "u = pd.DataFrame(users).reset_index()\n",
    "u"
   ]
  },
  {
   "cell_type": "code",
   "execution_count": 1,
   "id": "b24adbe0",
   "metadata": {},
   "outputs": [],
   "source": [
    "from recommenders.datasets.sparse import AffinityMatrix"
   ]
  },
  {
   "cell_type": "code",
   "execution_count": 2,
   "id": "2a2fb20f",
   "metadata": {},
   "outputs": [],
   "source": [
    "import numpy as np \n",
    "import pandas as pd "
   ]
  },
  {
   "cell_type": "code",
   "execution_count": 17,
   "id": "01b5e232",
   "metadata": {},
   "outputs": [
    {
     "data": {
      "text/html": [
       "<div>\n",
       "<style scoped>\n",
       "    .dataframe tbody tr th:only-of-type {\n",
       "        vertical-align: middle;\n",
       "    }\n",
       "\n",
       "    .dataframe tbody tr th {\n",
       "        vertical-align: top;\n",
       "    }\n",
       "\n",
       "    .dataframe thead th {\n",
       "        text-align: right;\n",
       "    }\n",
       "</style>\n",
       "<table border=\"1\" class=\"dataframe\">\n",
       "  <thead>\n",
       "    <tr style=\"text-align: right;\">\n",
       "      <th></th>\n",
       "      <th>title</th>\n",
       "      <th>average_rating</th>\n",
       "      <th>rating_number</th>\n",
       "      <th>description</th>\n",
       "      <th>price</th>\n",
       "      <th>images</th>\n",
       "      <th>parent_asin</th>\n",
       "    </tr>\n",
       "  </thead>\n",
       "  <tbody>\n",
       "    <tr>\n",
       "      <th>12</th>\n",
       "      <td>NANW Bands Compatible with Fitbit Versa/Versa ...</td>\n",
       "      <td>4.6</td>\n",
       "      <td>4249</td>\n",
       "      <td>[]</td>\n",
       "      <td>None</td>\n",
       "      <td>[{'hi_res': 'https://m.media-amazon.com/images...</td>\n",
       "      <td>B07PXWYLQX</td>\n",
       "    </tr>\n",
       "    <tr>\n",
       "      <th>37</th>\n",
       "      <td>Wenlaty Case Compatible with iPad 9th /8th /7t...</td>\n",
       "      <td>4.7</td>\n",
       "      <td>1915</td>\n",
       "      <td>[]</td>\n",
       "      <td>19.99</td>\n",
       "      <td>[{'hi_res': 'https://m.media-amazon.com/images...</td>\n",
       "      <td>B09M7TH3YC</td>\n",
       "    </tr>\n",
       "    <tr>\n",
       "      <th>46</th>\n",
       "      <td>PNY 1TB PRO Elite Class 10 U3 V30 microSDXC Fl...</td>\n",
       "      <td>4.7</td>\n",
       "      <td>3380</td>\n",
       "      <td>[PNY PRO Elite Class 10 U3 V30 microSD Cards o...</td>\n",
       "      <td>109.99</td>\n",
       "      <td>[{'hi_res': 'https://m.media-amazon.com/images...</td>\n",
       "      <td>B0BSQL7M51</td>\n",
       "    </tr>\n",
       "    <tr>\n",
       "      <th>61</th>\n",
       "      <td>iCasso Compatible with MacBook Pro 13 Inch Cas...</td>\n",
       "      <td>4.4</td>\n",
       "      <td>3503</td>\n",
       "      <td>[]</td>\n",
       "      <td>27.99</td>\n",
       "      <td>[{'hi_res': 'https://m.media-amazon.com/images...</td>\n",
       "      <td>B08GFTPQ5B</td>\n",
       "    </tr>\n",
       "    <tr>\n",
       "      <th>66</th>\n",
       "      <td>SUPCASE UB Pro Series Case for iPad Pro 12.9 i...</td>\n",
       "      <td>4.5</td>\n",
       "      <td>4050</td>\n",
       "      <td>[]</td>\n",
       "      <td>27.99</td>\n",
       "      <td>[{'hi_res': 'https://m.media-amazon.com/images...</td>\n",
       "      <td>B086W46TYP</td>\n",
       "    </tr>\n",
       "    <tr>\n",
       "      <th>...</th>\n",
       "      <td>...</td>\n",
       "      <td>...</td>\n",
       "      <td>...</td>\n",
       "      <td>...</td>\n",
       "      <td>...</td>\n",
       "      <td>...</td>\n",
       "      <td>...</td>\n",
       "    </tr>\n",
       "    <tr>\n",
       "      <th>1608289</th>\n",
       "      <td>Sony MDR-XB50AP in-Ear Extra Bass Headphones w...</td>\n",
       "      <td>4.4</td>\n",
       "      <td>5753</td>\n",
       "      <td>[This pair of extra bass in-ear headphones com...</td>\n",
       "      <td>None</td>\n",
       "      <td>[{'hi_res': 'https://m.media-amazon.com/images...</td>\n",
       "      <td>B014R2W52W</td>\n",
       "    </tr>\n",
       "    <tr>\n",
       "      <th>1608365</th>\n",
       "      <td>[Apple MFi Certified] iPhone Headphone Adapter...</td>\n",
       "      <td>4.3</td>\n",
       "      <td>22650</td>\n",
       "      <td>[]</td>\n",
       "      <td>12.99</td>\n",
       "      <td>[{'hi_res': 'https://m.media-amazon.com/images...</td>\n",
       "      <td>B0C9CBLTRF</td>\n",
       "    </tr>\n",
       "    <tr>\n",
       "      <th>1608595</th>\n",
       "      <td>Hampton Frames Dispenser Box with 250 Photogra...</td>\n",
       "      <td>4.4</td>\n",
       "      <td>4309</td>\n",
       "      <td>[Product Description, Photo corners are self a...</td>\n",
       "      <td>3.99</td>\n",
       "      <td>[{'hi_res': 'https://m.media-amazon.com/images...</td>\n",
       "      <td>B01M70M7WY</td>\n",
       "    </tr>\n",
       "    <tr>\n",
       "      <th>1609122</th>\n",
       "      <td>Airpod Case AIRSPO Airpods Case Cover for Appl...</td>\n",
       "      <td>4.8</td>\n",
       "      <td>1192</td>\n",
       "      <td>[Airpod Case AIRSPO Airpods Case Cover for App...</td>\n",
       "      <td>None</td>\n",
       "      <td>[{'hi_res': 'https://m.media-amazon.com/images...</td>\n",
       "      <td>B098L5RPFS</td>\n",
       "    </tr>\n",
       "    <tr>\n",
       "      <th>1609321</th>\n",
       "      <td>MacBook Pro 15 Sleeve, Snugg - Purple Leather ...</td>\n",
       "      <td>4.1</td>\n",
       "      <td>1002</td>\n",
       "      <td>[]</td>\n",
       "      <td>None</td>\n",
       "      <td>[{'hi_res': 'https://m.media-amazon.com/images...</td>\n",
       "      <td>B00V3EOPX0</td>\n",
       "    </tr>\n",
       "  </tbody>\n",
       "</table>\n",
       "<p>42604 rows × 7 columns</p>\n",
       "</div>"
      ],
      "text/plain": [
       "                                                     title  average_rating  \\\n",
       "12       NANW Bands Compatible with Fitbit Versa/Versa ...             4.6   \n",
       "37       Wenlaty Case Compatible with iPad 9th /8th /7t...             4.7   \n",
       "46       PNY 1TB PRO Elite Class 10 U3 V30 microSDXC Fl...             4.7   \n",
       "61       iCasso Compatible with MacBook Pro 13 Inch Cas...             4.4   \n",
       "66       SUPCASE UB Pro Series Case for iPad Pro 12.9 i...             4.5   \n",
       "...                                                    ...             ...   \n",
       "1608289  Sony MDR-XB50AP in-Ear Extra Bass Headphones w...             4.4   \n",
       "1608365  [Apple MFi Certified] iPhone Headphone Adapter...             4.3   \n",
       "1608595  Hampton Frames Dispenser Box with 250 Photogra...             4.4   \n",
       "1609122  Airpod Case AIRSPO Airpods Case Cover for Appl...             4.8   \n",
       "1609321  MacBook Pro 15 Sleeve, Snugg - Purple Leather ...             4.1   \n",
       "\n",
       "         rating_number                                        description  \\\n",
       "12                4249                                                 []   \n",
       "37                1915                                                 []   \n",
       "46                3380  [PNY PRO Elite Class 10 U3 V30 microSD Cards o...   \n",
       "61                3503                                                 []   \n",
       "66                4050                                                 []   \n",
       "...                ...                                                ...   \n",
       "1608289           5753  [This pair of extra bass in-ear headphones com...   \n",
       "1608365          22650                                                 []   \n",
       "1608595           4309  [Product Description, Photo corners are self a...   \n",
       "1609122           1192  [Airpod Case AIRSPO Airpods Case Cover for App...   \n",
       "1609321           1002                                                 []   \n",
       "\n",
       "          price                                             images parent_asin  \n",
       "12         None  [{'hi_res': 'https://m.media-amazon.com/images...  B07PXWYLQX  \n",
       "37        19.99  [{'hi_res': 'https://m.media-amazon.com/images...  B09M7TH3YC  \n",
       "46       109.99  [{'hi_res': 'https://m.media-amazon.com/images...  B0BSQL7M51  \n",
       "61        27.99  [{'hi_res': 'https://m.media-amazon.com/images...  B08GFTPQ5B  \n",
       "66        27.99  [{'hi_res': 'https://m.media-amazon.com/images...  B086W46TYP  \n",
       "...         ...                                                ...         ...  \n",
       "1608289    None  [{'hi_res': 'https://m.media-amazon.com/images...  B014R2W52W  \n",
       "1608365   12.99  [{'hi_res': 'https://m.media-amazon.com/images...  B0C9CBLTRF  \n",
       "1608595    3.99  [{'hi_res': 'https://m.media-amazon.com/images...  B01M70M7WY  \n",
       "1609122    None  [{'hi_res': 'https://m.media-amazon.com/images...  B098L5RPFS  \n",
       "1609321    None  [{'hi_res': 'https://m.media-amazon.com/images...  B00V3EOPX0  \n",
       "\n",
       "[42604 rows x 7 columns]"
      ]
     },
     "execution_count": 17,
     "metadata": {},
     "output_type": "execute_result"
    }
   ],
   "source": [
    "items"
   ]
  },
  {
   "cell_type": "code",
   "execution_count": 18,
   "id": "00edf334",
   "metadata": {},
   "outputs": [],
   "source": [
    "#ui_matrix = AffinityMatrix(df=users, items_list=items)\n",
    "ui_matrix = AffinityMatrix(df=users)"
   ]
  },
  {
   "cell_type": "code",
   "execution_count": 19,
   "id": "bf1c2061",
   "metadata": {},
   "outputs": [
    {
     "ename": "TypeError",
     "evalue": "Series.sort_values() got an unexpected keyword argument 'by'",
     "output_type": "error",
     "traceback": [
      "\u001b[31m---------------------------------------------------------------------------\u001b[39m",
      "\u001b[31mTypeError\u001b[39m                                 Traceback (most recent call last)",
      "\u001b[36mCell\u001b[39m\u001b[36m \u001b[39m\u001b[32mIn[19]\u001b[39m\u001b[32m, line 1\u001b[39m\n\u001b[32m----> \u001b[39m\u001b[32m1\u001b[39m x, _, _ = \u001b[43mui_matrix\u001b[49m\u001b[43m.\u001b[49m\u001b[43mgen_affinity_matrix\u001b[49m\u001b[43m(\u001b[49m\u001b[43m)\u001b[49m\n",
      "\u001b[36mFile \u001b[39m\u001b[32m~/projects/school/deepcart/venv/lib/python3.12/site-packages/recommenders/datasets/sparse.py:126\u001b[39m, in \u001b[36mAffinityMatrix.gen_affinity_matrix\u001b[39m\u001b[34m(self)\u001b[39m\n\u001b[32m    110\u001b[39m \u001b[38;5;250m\u001b[39m\u001b[33;03m\"\"\"Generate the user/item affinity matrix.\u001b[39;00m\n\u001b[32m    111\u001b[39m \n\u001b[32m    112\u001b[39m \u001b[33;03mAs a first step, two new columns are added to the input DF, containing the index maps\u001b[39;00m\n\u001b[32m   (...)\u001b[39m\u001b[32m    121\u001b[39m \u001b[33;03m    Unrated movies are assigned a value of 0.\u001b[39;00m\n\u001b[32m    122\u001b[39m \u001b[33;03m\"\"\"\u001b[39;00m\n\u001b[32m    124\u001b[39m log.info(\u001b[33m\"\u001b[39m\u001b[33mGenerating the user/item affinity matrix...\u001b[39m\u001b[33m\"\u001b[39m)\n\u001b[32m--> \u001b[39m\u001b[32m126\u001b[39m \u001b[38;5;28;43mself\u001b[39;49m\u001b[43m.\u001b[49m\u001b[43m_gen_index\u001b[49m\u001b[43m(\u001b[49m\u001b[43m)\u001b[49m\n\u001b[32m    128\u001b[39m ratings = \u001b[38;5;28mself\u001b[39m.df_[\u001b[38;5;28mself\u001b[39m.col_rating]  \u001b[38;5;66;03m# ratings\u001b[39;00m\n\u001b[32m    129\u001b[39m itm_id = \u001b[38;5;28mself\u001b[39m.df_[\u001b[33m\"\u001b[39m\u001b[33mhashedItems\u001b[39m\u001b[33m\"\u001b[39m]  \u001b[38;5;66;03m# itm_id serving as columns\u001b[39;00m\n",
      "\u001b[36mFile \u001b[39m\u001b[32m~/projects/school/deepcart/venv/lib/python3.12/site-packages/recommenders/datasets/sparse.py:74\u001b[39m, in \u001b[36mAffinityMatrix._gen_index\u001b[39m\u001b[34m(self)\u001b[39m\n\u001b[32m     59\u001b[39m \u001b[38;5;250m\u001b[39m\u001b[33;03m\"\"\"\u001b[39;00m\n\u001b[32m     60\u001b[39m \u001b[33;03mGenerate the user/item index:\u001b[39;00m\n\u001b[32m     61\u001b[39m \u001b[33;03mmap_users, map_items: dictionaries mapping the original user/item index to matrix indices\u001b[39;00m\n\u001b[32m   (...)\u001b[39m\u001b[32m     71\u001b[39m \u001b[33;03ma pretrained model.\u001b[39;00m\n\u001b[32m     72\u001b[39m \u001b[33;03m\"\"\"\u001b[39;00m\n\u001b[32m     73\u001b[39m \u001b[38;5;66;03m# sort entries by user index\u001b[39;00m\n\u001b[32m---> \u001b[39m\u001b[32m74\u001b[39m \u001b[38;5;28mself\u001b[39m.df_ = \u001b[38;5;28;43mself\u001b[39;49m\u001b[43m.\u001b[49m\u001b[43mdf\u001b[49m\u001b[43m.\u001b[49m\u001b[43msort_values\u001b[49m\u001b[43m(\u001b[49m\u001b[43mby\u001b[49m\u001b[43m=\u001b[49m\u001b[43m[\u001b[49m\u001b[38;5;28;43mself\u001b[39;49m\u001b[43m.\u001b[49m\u001b[43mcol_user\u001b[49m\u001b[43m]\u001b[49m\u001b[43m)\u001b[49m\n\u001b[32m     76\u001b[39m \u001b[38;5;66;03m# find unique user and item index\u001b[39;00m\n\u001b[32m     77\u001b[39m unique_users = \u001b[38;5;28mself\u001b[39m.df_[\u001b[38;5;28mself\u001b[39m.col_user].unique()\n",
      "\u001b[31mTypeError\u001b[39m: Series.sort_values() got an unexpected keyword argument 'by'"
     ]
    }
   ],
   "source": [
    "x, _, _ = ui_matrix.gen_affinity_matrix()"
   ]
  },
  {
   "cell_type": "markdown",
   "id": "05fca12b",
   "metadata": {},
   "source": [
    "## Model Design "
   ]
  },
  {
   "cell_type": "markdown",
   "id": "1790e376",
   "metadata": {},
   "source": [
    "Managing text-based reviews at this scale could be a challenge, and I'd like to steer clear of LLMs for this effort. We could do an embedding on the review and use that for similarity, but we have pretty rich item data. Perhaps let's ignore the collaborative aspect here and build a shopping interface that: \n",
    "- surfaces the most popular items, and encourages you to add items to your shopping cart for a big discount/promo\n",
    "- based on clicks and cart items, improves the recommendations and surfaces new products\n",
    "\n",
    "We can use an autoencoder to accept a sparse matrix of users and items, learn to reproduce that matrix, and in so doing support prediction on missing values. However, this matrix is of size users x items, which here is 1.8e7 x 1.6e6 = 28,125,000,000 KB (best-case, higher if stored as np floats) ~= 26 TB !! WTF. \n",
    "- In the standard VAE example (https://github.com/recommenders-team/recommenders/blob/main/examples/02_model_collaborative_filtering/standard_vae_deep_dive.ipynb) the clicks are turned into a histogram for each user ... so we have n_user vector of length n_items... then I guess each of these is a training sample. The VAE presumably learns, given a sparse user vector, to predict every rating. This takes the complexity down and gives us a training set we can iterate over. \n",
    "\n",
    "Let's avoid any distributional pressure (present in VAE, SVAE, disentangled VAE) and go for a basic autoencoder using the strategy laid out above, i.e."
   ]
  },
  {
   "cell_type": "markdown",
   "id": "b50313df",
   "metadata": {},
   "source": [
    "## Autoencoder Prototype"
   ]
  },
  {
   "cell_type": "code",
   "execution_count": null,
   "id": "40e3b0da",
   "metadata": {},
   "outputs": [],
   "source": [
    "import torch \n",
    "import pandas as pd \n",
    "import torch\n",
    "from tqdm import tqdm\n",
    "import os\n",
    "import math \n",
    "import torch.nn as nn\n",
    "import torch.nn.functional as F\n",
    "import torch.optim as optim\n",
    "import wandb"
   ]
  },
  {
   "cell_type": "code",
   "execution_count": null,
   "id": "9d96acb4",
   "metadata": {},
   "outputs": [],
   "source": [
    "class Autoencoder(nn.Module):\n",
    "    \"\"\"\n",
    "    Autoencoder\n",
    "\n",
    "    NOTE: with cues from https://www.geeksforgeeks.org/deep-learning/implementing-an-autoencoder-in-pytorch/\n",
    "    \"\"\"\n",
    "\n",
    "    def __init__(self, dims=1000):\n",
    "        \"\"\"\n",
    "        Initialize a new object \n",
    "        \"\"\"\n",
    "        super().__init__()\n",
    "\n",
    "        self.encoder = nn.Sequential(\n",
    "            nn.Linear(dims, 500),\n",
    "            nn.Linear(500, 75),\n",
    "        )\n",
    "        self.decoder = nn.Sequential(\n",
    "            nn.Linear(75, 500),\n",
    "            nn.Linear(500, dims),\n",
    "        )\n",
    "\n",
    "    def forward(self, x):\n",
    "        \"\"\"\n",
    "        Implement our forward pass \n",
    "        \"\"\"\n",
    "        h = self.encoder(x) \n",
    "        r = self.decoder(h)\n",
    "\n",
    "        return r"
   ]
  },
  {
   "cell_type": "code",
   "execution_count": null,
   "id": "9366399c",
   "metadata": {},
   "outputs": [],
   "source": [
    "class DeepCartDataset(torch.utils.data.Dataset): \n",
    "    \"\"\"\n",
    "    Custom pytorch-compatible dataset. Adapted from \n",
    "    https://pytorch.org/tutorials/beginner/basics/data_tutorial.html#creating-a-custom-dataset-for-your-files\n",
    "    \"\"\"\n",
    "    def __init__(self, annotations_file, img_dir, transform=None, target_transform=None): \n",
    "\n",
    "        self.img_labels = pd.read_csv(annotations_file)\n",
    "\n",
    "        #TODO: implement\n",
    "\n",
    "    def __len__(self): \n",
    "        return len(self.img_labels) \n",
    "    \n",
    "    def __getitem__(self, idx): \n",
    "        #TODO: implement\n",
    "        pass"
   ]
  },
  {
   "cell_type": "code",
   "execution_count": 1,
   "id": "80a1265d",
   "metadata": {},
   "outputs": [],
   "source": [
    "def get_data_loader(batch_size=5, shuffle=True): \n",
    "    \"\"\"\n",
    "    Retrieve a pytorch-style dataloader \n",
    "    \"\"\"\n",
    "\n",
    "    #TODO: implement\n",
    "    #transform = transforms.Compose([\n",
    "    #     transforms.ConvertImageDtype(torch.float),\n",
    "    #     transforms.Normalize(mean=[0.5], std=[0.5])\n",
    "    #])\n",
    "\n",
    "    #data = DeepCartDataset(transform=transform)\n",
    "    #loader = torch.utils.data.DataLoader(data, batch_size=batch_size, shuffle=shuffle)\n",
    "    \n",
    "    #return loader\n",
    "    pass"
   ]
  },
  {
   "cell_type": "code",
   "execution_count": 2,
   "id": "29b65652",
   "metadata": {},
   "outputs": [],
   "source": [
    "def train(loader, model, loss_interval=20, epochs=2, lr=0.01, momentum=0.9):\n",
    "    \"\"\"\n",
    "    Train the model with the provided dataset\n",
    "\n",
    "    NOTE: this is a similar training loop as we used for our vision model in the \n",
    "    the vision project, forward pass\n",
    "    \"\"\"\n",
    "    device = \"cuda\" if torch.cuda.is_available() else \"cpu\"\n",
    "    \n",
    "    train_loss = []\n",
    "\n",
    "    tqdm.write(f\"Starting training run...\")    \n",
    "    # TODO: configure WandB\n",
    "    # see https://docs.wandb.ai/guides/integrations/pytorch/\n",
    "    config = {}\n",
    "    run = wandb.init(config=config) \n",
    "\n",
    "    model.train()\n",
    "    model = model.to(device)\n",
    "    \n",
    "    loss_fn = nn.CrossEntropyLoss()\n",
    "\n",
    "    optimizer = optim.SGD(model.parameters(), lr=lr, momentum=momentum)\n",
    "\n",
    "    for epoch in range(epochs):\n",
    "\n",
    "        running_loss = 0.0\n",
    "        for i, data in enumerate(loader):\n",
    "\n",
    "            # get the inputs; data is a list of [inputs, labels]\n",
    "            inputs, labels = data\n",
    "            inputs = inputs.to(device)\n",
    "            labels = labels.to(device)\n",
    "            \n",
    "            # zero the parameter gradients\n",
    "            optimizer.zero_grad()\n",
    "\n",
    "            # forward + backward + optimize\n",
    "            outputs = model(inputs)\n",
    "\n",
    "            loss = loss_fn(outputs, labels)\n",
    "            loss.backward()\n",
    "            optimizer.step()\n",
    "\n",
    "            # collect metrics\n",
    "            running_loss += loss.item()\n",
    "\n",
    "            if (i % loss_interval) == (loss_interval - 1): \n",
    "                train_loss.append(running_loss / loss_interval)\n",
    "                tqdm.write(f\"[{epoch + 1}, {i + 1:5d}] loss: {running_loss / loss_interval:.3f}\")\n",
    "                running_loss = 0 \n",
    "    \n",
    "    tqdm.write(\"Training complete!\") \n",
    "\n",
    "    return train_loss "
   ]
  },
  {
   "cell_type": "code",
   "execution_count": null,
   "id": "98a0ce4e",
   "metadata": {},
   "outputs": [],
   "source": []
  }
 ],
 "metadata": {
  "kernelspec": {
   "display_name": "venv",
   "language": "python",
   "name": "python3"
  },
  "language_info": {
   "codemirror_mode": {
    "name": "ipython",
    "version": 3
   },
   "file_extension": ".py",
   "mimetype": "text/x-python",
   "name": "python",
   "nbconvert_exporter": "python",
   "pygments_lexer": "ipython3",
   "version": "3.12.3"
  }
 },
 "nbformat": 4,
 "nbformat_minor": 5
}
