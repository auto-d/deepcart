{
 "cells": [
  {
   "cell_type": "markdown",
   "id": "9ea086d2",
   "metadata": {},
   "source": [
    "# Amazon electronics dataset exploration"
   ]
  },
  {
   "cell_type": "markdown",
   "id": "9bfe36f0",
   "metadata": {},
   "source": [
    "## 2018 Amazon Review Data"
   ]
  },
  {
   "cell_type": "markdown",
   "id": "5f3461d2",
   "metadata": {},
   "source": [
    "A subset of the Amazon Review Data (2018), the electronics category data is roughly 20M engagements from Amazon users.  \n",
    "\n",
    "*Source*: Justifying recommendations using distantly-labeled reviews and fined-grained aspects\n",
    "Jianmo Ni, Jiacheng Li, Julian McAuley\n",
    "Empirical Methods in Natural Language Processing (EMNLP), 2019, https://nijianmo.github.io/amazon/index.html"
   ]
  },
  {
   "cell_type": "code",
   "execution_count": 34,
   "id": "080e6438",
   "metadata": {},
   "outputs": [
    {
     "name": "stdout",
     "output_type": "stream",
     "text": [
      "Electronics.csv\n"
     ]
    }
   ],
   "source": [
    "!ls ../data/2018"
   ]
  },
  {
   "cell_type": "code",
   "execution_count": 30,
   "id": "0e68b5cc",
   "metadata": {},
   "outputs": [],
   "source": [
    "import pandas as pd\n",
    "df = pd.read_csv('../data/2018/Electronics.csv', nrows=10000, names=[\"item\", \"user\", \"rating\", \"timestamp\"])"
   ]
  },
  {
   "cell_type": "markdown",
   "id": "3ea0dedc",
   "metadata": {},
   "source": [
    "Ratings only: These datasets include no metadata or reviews, but only (item,user,rating,timestamp) tuples. Thus they are suitable for use with mymedialite (or similar) packages."
   ]
  },
  {
   "cell_type": "code",
   "execution_count": 31,
   "id": "f569df19",
   "metadata": {},
   "outputs": [
    {
     "data": {
      "text/html": [
       "<div>\n",
       "<style scoped>\n",
       "    .dataframe tbody tr th:only-of-type {\n",
       "        vertical-align: middle;\n",
       "    }\n",
       "\n",
       "    .dataframe tbody tr th {\n",
       "        vertical-align: top;\n",
       "    }\n",
       "\n",
       "    .dataframe thead th {\n",
       "        text-align: right;\n",
       "    }\n",
       "</style>\n",
       "<table border=\"1\" class=\"dataframe\">\n",
       "  <thead>\n",
       "    <tr style=\"text-align: right;\">\n",
       "      <th></th>\n",
       "      <th>item</th>\n",
       "      <th>user</th>\n",
       "      <th>rating</th>\n",
       "      <th>timestamp</th>\n",
       "    </tr>\n",
       "  </thead>\n",
       "  <tbody>\n",
       "    <tr>\n",
       "      <th>0</th>\n",
       "      <td>0060009810</td>\n",
       "      <td>A1N070NS9CJQ2I</td>\n",
       "      <td>5.0</td>\n",
       "      <td>1026864000</td>\n",
       "    </tr>\n",
       "    <tr>\n",
       "      <th>1</th>\n",
       "      <td>0060009810</td>\n",
       "      <td>A3P0KRKOBQK1KN</td>\n",
       "      <td>5.0</td>\n",
       "      <td>1025913600</td>\n",
       "    </tr>\n",
       "    <tr>\n",
       "      <th>2</th>\n",
       "      <td>0060009810</td>\n",
       "      <td>A192HO2ICJ75VU</td>\n",
       "      <td>5.0</td>\n",
       "      <td>1025654400</td>\n",
       "    </tr>\n",
       "    <tr>\n",
       "      <th>3</th>\n",
       "      <td>0060009810</td>\n",
       "      <td>A2T278FKFL3BLT</td>\n",
       "      <td>4.0</td>\n",
       "      <td>1025395200</td>\n",
       "    </tr>\n",
       "    <tr>\n",
       "      <th>4</th>\n",
       "      <td>0060009810</td>\n",
       "      <td>A2ZUXVTW8RXBXW</td>\n",
       "      <td>5.0</td>\n",
       "      <td>1025222400</td>\n",
       "    </tr>\n",
       "  </tbody>\n",
       "</table>\n",
       "</div>"
      ],
      "text/plain": [
       "         item            user  rating   timestamp\n",
       "0  0060009810  A1N070NS9CJQ2I     5.0  1026864000\n",
       "1  0060009810  A3P0KRKOBQK1KN     5.0  1025913600\n",
       "2  0060009810  A192HO2ICJ75VU     5.0  1025654400\n",
       "3  0060009810  A2T278FKFL3BLT     4.0  1025395200\n",
       "4  0060009810  A2ZUXVTW8RXBXW     5.0  1025222400"
      ]
     },
     "execution_count": 31,
     "metadata": {},
     "output_type": "execute_result"
    }
   ],
   "source": [
    "df.head()"
   ]
  },
  {
   "cell_type": "code",
   "execution_count": 32,
   "id": "6127ba20",
   "metadata": {},
   "outputs": [
    {
     "data": {
      "text/plain": [
       "10000"
      ]
     },
     "execution_count": 32,
     "metadata": {},
     "output_type": "execute_result"
    }
   ],
   "source": [
    "len(df)"
   ]
  },
  {
   "cell_type": "markdown",
   "id": "f848cfe3",
   "metadata": {},
   "source": [
    "Hmm... are the four columns sufficient for our system? Can we infer a purchase based on the presence of a rating? Do we assume a user with no rating for a product failed to purchase? Yeesh... that doesn't seem supportable. I guess the prediction here is not whether they bought it but whether they were motivated to source a review. Here the review becomes the reward, not the sale ... go off and read the paper: https://cseweb.ucsd.edu/~jmcauley/pdfs/emnlp19a.pdf"
   ]
  },
  {
   "cell_type": "code",
   "execution_count": 17,
   "id": "94334a12",
   "metadata": {},
   "outputs": [
    {
     "data": {
      "text/html": [
       "<div>\n",
       "<style scoped>\n",
       "    .dataframe tbody tr th:only-of-type {\n",
       "        vertical-align: middle;\n",
       "    }\n",
       "\n",
       "    .dataframe tbody tr th {\n",
       "        vertical-align: top;\n",
       "    }\n",
       "\n",
       "    .dataframe thead th {\n",
       "        text-align: right;\n",
       "    }\n",
       "</style>\n",
       "<table border=\"1\" class=\"dataframe\">\n",
       "  <thead>\n",
       "    <tr style=\"text-align: right;\">\n",
       "      <th></th>\n",
       "      <th>rating</th>\n",
       "      <th>timestamp</th>\n",
       "    </tr>\n",
       "  </thead>\n",
       "  <tbody>\n",
       "    <tr>\n",
       "      <th>count</th>\n",
       "      <td>2.099435e+07</td>\n",
       "      <td>2.099435e+07</td>\n",
       "    </tr>\n",
       "    <tr>\n",
       "      <th>mean</th>\n",
       "      <td>4.073685e+00</td>\n",
       "      <td>1.425967e+09</td>\n",
       "    </tr>\n",
       "    <tr>\n",
       "      <th>std</th>\n",
       "      <td>1.385792e+00</td>\n",
       "      <td>7.769201e+07</td>\n",
       "    </tr>\n",
       "    <tr>\n",
       "      <th>min</th>\n",
       "      <td>1.000000e+00</td>\n",
       "      <td>8.811936e+08</td>\n",
       "    </tr>\n",
       "    <tr>\n",
       "      <th>25%</th>\n",
       "      <td>4.000000e+00</td>\n",
       "      <td>1.394064e+09</td>\n",
       "    </tr>\n",
       "    <tr>\n",
       "      <th>50%</th>\n",
       "      <td>5.000000e+00</td>\n",
       "      <td>1.440634e+09</td>\n",
       "    </tr>\n",
       "    <tr>\n",
       "      <th>75%</th>\n",
       "      <td>5.000000e+00</td>\n",
       "      <td>1.478736e+09</td>\n",
       "    </tr>\n",
       "    <tr>\n",
       "      <th>max</th>\n",
       "      <td>5.000000e+00</td>\n",
       "      <td>1.538698e+09</td>\n",
       "    </tr>\n",
       "  </tbody>\n",
       "</table>\n",
       "</div>"
      ],
      "text/plain": [
       "             rating     timestamp\n",
       "count  2.099435e+07  2.099435e+07\n",
       "mean   4.073685e+00  1.425967e+09\n",
       "std    1.385792e+00  7.769201e+07\n",
       "min    1.000000e+00  8.811936e+08\n",
       "25%    4.000000e+00  1.394064e+09\n",
       "50%    5.000000e+00  1.440634e+09\n",
       "75%    5.000000e+00  1.478736e+09\n",
       "max    5.000000e+00  1.538698e+09"
      ]
     },
     "execution_count": 17,
     "metadata": {},
     "output_type": "execute_result"
    }
   ],
   "source": [
    "df.describe()"
   ]
  },
  {
   "cell_type": "code",
   "execution_count": 16,
   "id": "2c3c02f6",
   "metadata": {},
   "outputs": [
    {
     "data": {
      "text/plain": [
       "item\n",
       "B010OYASRG    28539\n",
       "B00L0YLRUW    20873\n",
       "B00DIF2BO2    17045\n",
       "B006GWO5WK    16130\n",
       "B003L1ZYYW    16056\n",
       "              ...  \n",
       "B00GXO0W5K        1\n",
       "B00GXOIMF2        1\n",
       "B00A8ZGSOE        1\n",
       "B003ZTYGMG        1\n",
       "B01HJF4DUG        1\n",
       "Name: count, Length: 756489, dtype: int64"
      ]
     },
     "execution_count": 16,
     "metadata": {},
     "output_type": "execute_result"
    }
   ],
   "source": [
    "df.item.value_counts()"
   ]
  },
  {
   "cell_type": "code",
   "execution_count": null,
   "id": "f2a95b26",
   "metadata": {},
   "outputs": [],
   "source": []
  },
  {
   "cell_type": "markdown",
   "id": "9c026314",
   "metadata": {},
   "source": [
    "## 2023 Amazon Reviews Data"
   ]
  },
  {
   "cell_type": "markdown",
   "id": "863ccb77",
   "metadata": {},
   "source": [
    "### Preprocessing"
   ]
  },
  {
   "cell_type": "code",
   "execution_count": 1,
   "id": "9cb8aa88",
   "metadata": {},
   "outputs": [
    {
     "name": "stdout",
     "output_type": "stream",
     "text": [
      "total 35G\n",
      "-rw-rw-r-- 1 grim grim  22G Jul 19 10:34 Electronics.jsonl\n",
      "-rw-rw-r-- 1 grim grim 4.5G Jul 19 13:44 Electronics_max.jsonl\n",
      "-rw-rw-r-- 1 grim grim 1.1G Jul 19 13:27 Electronics_min.jsonl\n",
      "-rw-rw-r-- 1 grim grim 4.9G Jul 19 10:34 meta_Electronics.jsonl\n",
      "-rw-rw-r-- 1 grim grim 2.8G Jul 19 13:32 meta_Electronics_min.jsonl\n",
      "-rw-rw-r-- 1 grim grim  65M Jul 19 13:11 test.jsonl\n",
      "-rw-rw-r-- 1 grim grim 1.1M Jul 19 13:00 test_min.jsonl\n",
      "-rw-rw-r-- 1 grim grim 2.0K Jul 19 13:11 tiny.jsonl\n",
      "-rw-rw-r-- 1 grim grim  109 Jul 19 13:12 tiny_min.jsonl\n"
     ]
    }
   ],
   "source": [
    "!ls -lh ../data/2023"
   ]
  },
  {
   "cell_type": "markdown",
   "id": "f123f848",
   "metadata": {},
   "source": [
    "2023 publication, see https://amazon-reviews-2023.github.io/"
   ]
  },
  {
   "cell_type": "code",
   "execution_count": 2,
   "id": "44c2ffc6",
   "metadata": {},
   "outputs": [],
   "source": [
    "import json \n",
    "import pandas as pd"
   ]
  },
  {
   "cell_type": "code",
   "execution_count": 4,
   "id": "1256a579",
   "metadata": {},
   "outputs": [],
   "source": [
    "reviews = pd.read_json('../data/2023/Electronics.jsonl', lines=True, nrows=100, )"
   ]
  },
  {
   "cell_type": "code",
   "execution_count": 5,
   "id": "867d4e49",
   "metadata": {},
   "outputs": [
    {
     "data": {
      "text/html": [
       "<div>\n",
       "<style scoped>\n",
       "    .dataframe tbody tr th:only-of-type {\n",
       "        vertical-align: middle;\n",
       "    }\n",
       "\n",
       "    .dataframe tbody tr th {\n",
       "        vertical-align: top;\n",
       "    }\n",
       "\n",
       "    .dataframe thead th {\n",
       "        text-align: right;\n",
       "    }\n",
       "</style>\n",
       "<table border=\"1\" class=\"dataframe\">\n",
       "  <thead>\n",
       "    <tr style=\"text-align: right;\">\n",
       "      <th></th>\n",
       "      <th>rating</th>\n",
       "      <th>title</th>\n",
       "      <th>text</th>\n",
       "      <th>images</th>\n",
       "      <th>asin</th>\n",
       "      <th>parent_asin</th>\n",
       "      <th>user_id</th>\n",
       "      <th>timestamp</th>\n",
       "      <th>helpful_vote</th>\n",
       "      <th>verified_purchase</th>\n",
       "    </tr>\n",
       "  </thead>\n",
       "  <tbody>\n",
       "    <tr>\n",
       "      <th>0</th>\n",
       "      <td>3</td>\n",
       "      <td>Smells like gasoline! Going back!</td>\n",
       "      <td>First &amp; most offensive: they reek of gasoline ...</td>\n",
       "      <td>[{'small_image_url': 'https://m.media-amazon.c...</td>\n",
       "      <td>B083NRGZMM</td>\n",
       "      <td>B083NRGZMM</td>\n",
       "      <td>AFKZENTNBQ7A7V7UXW5JJI6UGRYQ</td>\n",
       "      <td>2022-07-18 22:58:37.948</td>\n",
       "      <td>0</td>\n",
       "      <td>True</td>\n",
       "    </tr>\n",
       "    <tr>\n",
       "      <th>1</th>\n",
       "      <td>1</td>\n",
       "      <td>Didn’t work at all lenses loose/broken.</td>\n",
       "      <td>These didn’t work. Idk if they were damaged in...</td>\n",
       "      <td>[]</td>\n",
       "      <td>B07N69T6TM</td>\n",
       "      <td>B07N69T6TM</td>\n",
       "      <td>AFKZENTNBQ7A7V7UXW5JJI6UGRYQ</td>\n",
       "      <td>2020-06-20 18:42:29.731</td>\n",
       "      <td>0</td>\n",
       "      <td>True</td>\n",
       "    </tr>\n",
       "    <tr>\n",
       "      <th>2</th>\n",
       "      <td>5</td>\n",
       "      <td>Excellent!</td>\n",
       "      <td>I love these. They even come with a carry case...</td>\n",
       "      <td>[]</td>\n",
       "      <td>B01G8JO5F2</td>\n",
       "      <td>B01G8JO5F2</td>\n",
       "      <td>AFKZENTNBQ7A7V7UXW5JJI6UGRYQ</td>\n",
       "      <td>2018-04-07 09:23:37.534</td>\n",
       "      <td>0</td>\n",
       "      <td>True</td>\n",
       "    </tr>\n",
       "    <tr>\n",
       "      <th>3</th>\n",
       "      <td>5</td>\n",
       "      <td>Great laptop backpack!</td>\n",
       "      <td>I was searching for a sturdy backpack for scho...</td>\n",
       "      <td>[]</td>\n",
       "      <td>B001OC5JKY</td>\n",
       "      <td>B001OC5JKY</td>\n",
       "      <td>AGGZ357AO26RQZVRLGU4D4N52DZQ</td>\n",
       "      <td>2010-11-20 18:41:35.000</td>\n",
       "      <td>18</td>\n",
       "      <td>True</td>\n",
       "    </tr>\n",
       "    <tr>\n",
       "      <th>4</th>\n",
       "      <td>5</td>\n",
       "      <td>Best Headphones in the Fifties price range!</td>\n",
       "      <td>I've bought these headphones three times becau...</td>\n",
       "      <td>[]</td>\n",
       "      <td>B013J7WUGC</td>\n",
       "      <td>B07CJYMRWM</td>\n",
       "      <td>AG2L7H23R5LLKDKLBEF2Q3L2MVDA</td>\n",
       "      <td>2023-02-17 02:39:41.238</td>\n",
       "      <td>0</td>\n",
       "      <td>True</td>\n",
       "    </tr>\n",
       "  </tbody>\n",
       "</table>\n",
       "</div>"
      ],
      "text/plain": [
       "   rating                                        title  \\\n",
       "0       3            Smells like gasoline! Going back!   \n",
       "1       1      Didn’t work at all lenses loose/broken.   \n",
       "2       5                                   Excellent!   \n",
       "3       5                       Great laptop backpack!   \n",
       "4       5  Best Headphones in the Fifties price range!   \n",
       "\n",
       "                                                text  \\\n",
       "0  First & most offensive: they reek of gasoline ...   \n",
       "1  These didn’t work. Idk if they were damaged in...   \n",
       "2  I love these. They even come with a carry case...   \n",
       "3  I was searching for a sturdy backpack for scho...   \n",
       "4  I've bought these headphones three times becau...   \n",
       "\n",
       "                                              images        asin parent_asin  \\\n",
       "0  [{'small_image_url': 'https://m.media-amazon.c...  B083NRGZMM  B083NRGZMM   \n",
       "1                                                 []  B07N69T6TM  B07N69T6TM   \n",
       "2                                                 []  B01G8JO5F2  B01G8JO5F2   \n",
       "3                                                 []  B001OC5JKY  B001OC5JKY   \n",
       "4                                                 []  B013J7WUGC  B07CJYMRWM   \n",
       "\n",
       "                        user_id               timestamp  helpful_vote  \\\n",
       "0  AFKZENTNBQ7A7V7UXW5JJI6UGRYQ 2022-07-18 22:58:37.948             0   \n",
       "1  AFKZENTNBQ7A7V7UXW5JJI6UGRYQ 2020-06-20 18:42:29.731             0   \n",
       "2  AFKZENTNBQ7A7V7UXW5JJI6UGRYQ 2018-04-07 09:23:37.534             0   \n",
       "3  AGGZ357AO26RQZVRLGU4D4N52DZQ 2010-11-20 18:41:35.000            18   \n",
       "4  AG2L7H23R5LLKDKLBEF2Q3L2MVDA 2023-02-17 02:39:41.238             0   \n",
       "\n",
       "   verified_purchase  \n",
       "0               True  \n",
       "1               True  \n",
       "2               True  \n",
       "3               True  \n",
       "4               True  "
      ]
     },
     "execution_count": 5,
     "metadata": {},
     "output_type": "execute_result"
    }
   ],
   "source": [
    "reviews.head()"
   ]
  },
  {
   "cell_type": "code",
   "execution_count": null,
   "id": "445c1203",
   "metadata": {},
   "outputs": [],
   "source": [
    "# We need to reduce the size of this dataset or risk blowing our memory budget, filter down to essentials for our prediction task \n",
    "!cd ../data/2023 && jq -c '{rating, parent_asin, user_id, timestamp}' Electronics.jsonl > Electronics_min.jsonl"
   ]
  },
  {
   "cell_type": "code",
   "execution_count": 3,
   "id": "46bdce07",
   "metadata": {},
   "outputs": [],
   "source": [
    "reviews = pd.read_json('../data/2023/Electronics_min.jsonl', lines=True)"
   ]
  },
  {
   "cell_type": "code",
   "execution_count": 4,
   "id": "e732bd7b",
   "metadata": {},
   "outputs": [],
   "source": [
    "reviews.to_parquet(\"../data/2023/Electronics_min.parquet\")"
   ]
  },
  {
   "cell_type": "code",
   "execution_count": 17,
   "id": "509ee691",
   "metadata": {},
   "outputs": [
    {
     "data": {
      "text/plain": [
       "rating                                    3\n",
       "parent_asin                      B083NRGZMM\n",
       "user_id        AFKZENTNBQ7A7V7UXW5JJI6UGRYQ\n",
       "timestamp        2022-07-18 22:58:37.948000\n",
       "Name: 0, dtype: object"
      ]
     },
     "execution_count": 17,
     "metadata": {},
     "output_type": "execute_result"
    }
   ],
   "source": [
    "reviews.iloc[0]"
   ]
  },
  {
   "cell_type": "code",
   "execution_count": 18,
   "id": "d80f7dda",
   "metadata": {},
   "outputs": [
    {
     "data": {
      "text/plain": [
       "2294450"
      ]
     },
     "execution_count": 18,
     "metadata": {},
     "output_type": "execute_result"
    }
   ],
   "source": [
    "len(reviews.user_id.unique())"
   ]
  },
  {
   "cell_type": "code",
   "execution_count": 19,
   "id": "dc4e4b63",
   "metadata": {},
   "outputs": [
    {
     "data": {
      "text/plain": [
       "array([[<Axes: title={'center': 'rating'}>,\n",
       "        <Axes: title={'center': 'timestamp'}>]], dtype=object)"
      ]
     },
     "execution_count": 19,
     "metadata": {},
     "output_type": "execute_result"
    },
    {
     "data": {
      "image/png": "[encoded data removed]",
      "text/plain": [
       "<Figure size 640x480 with 2 Axes>"
      ]
     },
     "metadata": {},
     "output_type": "display_data"
    }
   ],
   "source": [
    "reviews.hist()"
   ]
  },
  {
   "cell_type": "code",
   "execution_count": 20,
   "id": "e8ad4e83",
   "metadata": {},
   "outputs": [],
   "source": [
    "items = pd.read_json(\"../data/2023/meta_Electronics.jsonl\", lines=True, nrows=100) "
   ]
  },
  {
   "cell_type": "code",
   "execution_count": 21,
   "id": "844fb19e",
   "metadata": {},
   "outputs": [
    {
     "data": {
      "text/html": [
       "<div>\n",
       "<style scoped>\n",
       "    .dataframe tbody tr th:only-of-type {\n",
       "        vertical-align: middle;\n",
       "    }\n",
       "\n",
       "    .dataframe tbody tr th {\n",
       "        vertical-align: top;\n",
       "    }\n",
       "\n",
       "    .dataframe thead th {\n",
       "        text-align: right;\n",
       "    }\n",
       "</style>\n",
       "<table border=\"1\" class=\"dataframe\">\n",
       "  <thead>\n",
       "    <tr style=\"text-align: right;\">\n",
       "      <th></th>\n",
       "      <th>main_category</th>\n",
       "      <th>title</th>\n",
       "      <th>average_rating</th>\n",
       "      <th>rating_number</th>\n",
       "      <th>features</th>\n",
       "      <th>description</th>\n",
       "      <th>price</th>\n",
       "      <th>images</th>\n",
       "      <th>videos</th>\n",
       "      <th>store</th>\n",
       "      <th>categories</th>\n",
       "      <th>details</th>\n",
       "      <th>parent_asin</th>\n",
       "      <th>bought_together</th>\n",
       "    </tr>\n",
       "  </thead>\n",
       "  <tbody>\n",
       "    <tr>\n",
       "      <th>0</th>\n",
       "      <td>All Electronics</td>\n",
       "      <td>FS-1051 FATSHARK TELEPORTER V3 HEADSET</td>\n",
       "      <td>3.5</td>\n",
       "      <td>6</td>\n",
       "      <td>[]</td>\n",
       "      <td>[Teleporter V3 The “Teleporter V3” kit sets a ...</td>\n",
       "      <td>NaN</td>\n",
       "      <td>[{'thumb': 'https://m.media-amazon.com/images/...</td>\n",
       "      <td>[]</td>\n",
       "      <td>Fat Shark</td>\n",
       "      <td>[Electronics, Television &amp; Video, Video Glasses]</td>\n",
       "      <td>{'Date First Available': 'August 2, 2014', 'Ma...</td>\n",
       "      <td>B00MCW7G9M</td>\n",
       "      <td>NaN</td>\n",
       "    </tr>\n",
       "    <tr>\n",
       "      <th>1</th>\n",
       "      <td>All Electronics</td>\n",
       "      <td>Ce-H22B12-S1 4Kx2K Hdmi 4Port</td>\n",
       "      <td>5.0</td>\n",
       "      <td>1</td>\n",
       "      <td>[UPC: 662774021904, Weight: 0.600 lbs]</td>\n",
       "      <td>[HDMI In - HDMI Out]</td>\n",
       "      <td>NaN</td>\n",
       "      <td>[{'thumb': 'https://m.media-amazon.com/images/...</td>\n",
       "      <td>[]</td>\n",
       "      <td>SIIG</td>\n",
       "      <td>[Electronics, Television &amp; Video, Accessories,...</td>\n",
       "      <td>{'Product Dimensions': '0.83 x 4.17 x 2.05 inc...</td>\n",
       "      <td>B00YT6XQSE</td>\n",
       "      <td>NaN</td>\n",
       "    </tr>\n",
       "    <tr>\n",
       "      <th>2</th>\n",
       "      <td>Computers</td>\n",
       "      <td>Digi-Tatoo Decal Skin Compatible With MacBook ...</td>\n",
       "      <td>4.5</td>\n",
       "      <td>246</td>\n",
       "      <td>[WARNING: Please IDENTIFY MODEL NUMBER on the ...</td>\n",
       "      <td>[]</td>\n",
       "      <td>19.99</td>\n",
       "      <td>[{'thumb': 'https://m.media-amazon.com/images/...</td>\n",
       "      <td>[{'title': 'AL 2Sides Video', 'url': 'https://...</td>\n",
       "      <td>Digi-Tatoo</td>\n",
       "      <td>[Electronics, Computers &amp; Accessories, Laptop ...</td>\n",
       "      <td>{'Brand': 'Digi-Tatoo', 'Color': 'Fresh Marble...</td>\n",
       "      <td>B07SM135LS</td>\n",
       "      <td>NaN</td>\n",
       "    </tr>\n",
       "    <tr>\n",
       "      <th>3</th>\n",
       "      <td>AMAZON FASHION</td>\n",
       "      <td>NotoCity Compatible with Vivoactive 4 band 22m...</td>\n",
       "      <td>4.5</td>\n",
       "      <td>233</td>\n",
       "      <td>[☛NotoCity 22mm band is designed for Vivoactiv...</td>\n",
       "      <td>[]</td>\n",
       "      <td>9.99</td>\n",
       "      <td>[{'thumb': 'https://m.media-amazon.com/images/...</td>\n",
       "      <td>[]</td>\n",
       "      <td>NotoCity</td>\n",
       "      <td>[Electronics, Wearable Technology, Clips, Arm ...</td>\n",
       "      <td>{'Date First Available': 'May 29, 2020', 'Manu...</td>\n",
       "      <td>B089CNGZCW</td>\n",
       "      <td>NaN</td>\n",
       "    </tr>\n",
       "    <tr>\n",
       "      <th>4</th>\n",
       "      <td>Cell Phones &amp; Accessories</td>\n",
       "      <td>Motorola Droid X Essentials Combo Pack</td>\n",
       "      <td>3.8</td>\n",
       "      <td>64</td>\n",
       "      <td>[New Droid X Essentials Combo Pack, Exclusive ...</td>\n",
       "      <td>[all Genuine High Quality Motorola Made Access...</td>\n",
       "      <td>14.99</td>\n",
       "      <td>[{'thumb': 'https://m.media-amazon.com/images/...</td>\n",
       "      <td>[]</td>\n",
       "      <td>Verizon</td>\n",
       "      <td>[Electronics, Computers &amp; Accessories, Compute...</td>\n",
       "      <td>{'Product Dimensions': '11.6 x 6.9 x 3.1 inche...</td>\n",
       "      <td>B004E2Z88O</td>\n",
       "      <td>NaN</td>\n",
       "    </tr>\n",
       "  </tbody>\n",
       "</table>\n",
       "</div>"
      ],
      "text/plain": [
       "               main_category  \\\n",
       "0            All Electronics   \n",
       "1            All Electronics   \n",
       "2                  Computers   \n",
       "3             AMAZON FASHION   \n",
       "4  Cell Phones & Accessories   \n",
       "\n",
       "                                               title  average_rating  \\\n",
       "0             FS-1051 FATSHARK TELEPORTER V3 HEADSET             3.5   \n",
       "1                      Ce-H22B12-S1 4Kx2K Hdmi 4Port             5.0   \n",
       "2  Digi-Tatoo Decal Skin Compatible With MacBook ...             4.5   \n",
       "3  NotoCity Compatible with Vivoactive 4 band 22m...             4.5   \n",
       "4             Motorola Droid X Essentials Combo Pack             3.8   \n",
       "\n",
       "   rating_number                                           features  \\\n",
       "0              6                                                 []   \n",
       "1              1             [UPC: 662774021904, Weight: 0.600 lbs]   \n",
       "2            246  [WARNING: Please IDENTIFY MODEL NUMBER on the ...   \n",
       "3            233  [☛NotoCity 22mm band is designed for Vivoactiv...   \n",
       "4             64  [New Droid X Essentials Combo Pack, Exclusive ...   \n",
       "\n",
       "                                         description  price  \\\n",
       "0  [Teleporter V3 The “Teleporter V3” kit sets a ...    NaN   \n",
       "1                               [HDMI In - HDMI Out]    NaN   \n",
       "2                                                 []  19.99   \n",
       "3                                                 []   9.99   \n",
       "4  [all Genuine High Quality Motorola Made Access...  14.99   \n",
       "\n",
       "                                              images  \\\n",
       "0  [{'thumb': 'https://m.media-amazon.com/images/...   \n",
       "1  [{'thumb': 'https://m.media-amazon.com/images/...   \n",
       "2  [{'thumb': 'https://m.media-amazon.com/images/...   \n",
       "3  [{'thumb': 'https://m.media-amazon.com/images/...   \n",
       "4  [{'thumb': 'https://m.media-amazon.com/images/...   \n",
       "\n",
       "                                              videos       store  \\\n",
       "0                                                 []   Fat Shark   \n",
       "1                                                 []        SIIG   \n",
       "2  [{'title': 'AL 2Sides Video', 'url': 'https://...  Digi-Tatoo   \n",
       "3                                                 []    NotoCity   \n",
       "4                                                 []     Verizon   \n",
       "\n",
       "                                          categories  \\\n",
       "0   [Electronics, Television & Video, Video Glasses]   \n",
       "1  [Electronics, Television & Video, Accessories,...   \n",
       "2  [Electronics, Computers & Accessories, Laptop ...   \n",
       "3  [Electronics, Wearable Technology, Clips, Arm ...   \n",
       "4  [Electronics, Computers & Accessories, Compute...   \n",
       "\n",
       "                                             details parent_asin  \\\n",
       "0  {'Date First Available': 'August 2, 2014', 'Ma...  B00MCW7G9M   \n",
       "1  {'Product Dimensions': '0.83 x 4.17 x 2.05 inc...  B00YT6XQSE   \n",
       "2  {'Brand': 'Digi-Tatoo', 'Color': 'Fresh Marble...  B07SM135LS   \n",
       "3  {'Date First Available': 'May 29, 2020', 'Manu...  B089CNGZCW   \n",
       "4  {'Product Dimensions': '11.6 x 6.9 x 3.1 inche...  B004E2Z88O   \n",
       "\n",
       "   bought_together  \n",
       "0              NaN  \n",
       "1              NaN  \n",
       "2              NaN  \n",
       "3              NaN  \n",
       "4              NaN  "
      ]
     },
     "execution_count": 21,
     "metadata": {},
     "output_type": "execute_result"
    }
   ],
   "source": [
    "items.head()"
   ]
  },
  {
   "cell_type": "code",
   "execution_count": 25,
   "id": "109d178e",
   "metadata": {},
   "outputs": [],
   "source": [
    "# Filter down to essential fields\n",
    "!cd ../data/2023 && jq -c '{title, average_rating, description, price, images, rating_number, parent_asin}' meta_Electronics.jsonl > meta_Electronics_min.jsonl"
   ]
  },
  {
   "cell_type": "code",
   "execution_count": 1,
   "id": "c703a578",
   "metadata": {},
   "outputs": [],
   "source": [
    "import pandas as pd"
   ]
  },
  {
   "cell_type": "code",
   "execution_count": 2,
   "id": "b2f5bc6a",
   "metadata": {},
   "outputs": [],
   "source": [
    "# Note this for whatever reason burns about 30G of RAM during the load, even though the json is only 2.8G uncompressed, we should get this into a parquet file stat\n",
    "items = pd.read_json(\"../data/2023/meta_Electronics.jsonl\", lines=True)"
   ]
  },
  {
   "cell_type": "code",
   "execution_count": null,
   "id": "52d5e983",
   "metadata": {},
   "outputs": [
    {
     "name": "stdout",
     "output_type": "stream",
     "text": [
      "\u001b[31mSignature:\u001b[39m\n",
      "items.drop(\n",
      "    labels: \u001b[33m'IndexLabel | None'\u001b[39m = \u001b[38;5;28;01mNone\u001b[39;00m,\n",
      "    *,\n",
      "    axis: \u001b[33m'Axis'\u001b[39m = \u001b[32m0\u001b[39m,\n",
      "    index: \u001b[33m'IndexLabel | None'\u001b[39m = \u001b[38;5;28;01mNone\u001b[39;00m,\n",
      "    columns: \u001b[33m'IndexLabel | None'\u001b[39m = \u001b[38;5;28;01mNone\u001b[39;00m,\n",
      "    level: \u001b[33m'Level | None'\u001b[39m = \u001b[38;5;28;01mNone\u001b[39;00m,\n",
      "    inplace: \u001b[33m'bool'\u001b[39m = \u001b[38;5;28;01mFalse\u001b[39;00m,\n",
      "    errors: \u001b[33m'IgnoreRaise'\u001b[39m = \u001b[33m'raise'\u001b[39m,\n",
      ") -> \u001b[33m'DataFrame | None'\u001b[39m\n",
      "\u001b[31mDocstring:\u001b[39m\n",
      "Drop specified labels from rows or columns.\n",
      "\n",
      "Remove rows or columns by specifying label names and corresponding\n",
      "axis, or by directly specifying index or column names. When using a\n",
      "multi-index, labels on different levels can be removed by specifying\n",
      "the level. See the :ref:`user guide <advanced.shown_levels>`\n",
      "for more information about the now unused levels.\n",
      "\n",
      "Parameters\n",
      "----------\n",
      "labels : single label or list-like\n",
      "    Index or column labels to drop. A tuple will be used as a single\n",
      "    label and not treated as a list-like.\n",
      "axis : {0 or 'index', 1 or 'columns'}, default 0\n",
      "    Whether to drop labels from the index (0 or 'index') or\n",
      "    columns (1 or 'columns').\n",
      "index : single label or list-like\n",
      "    Alternative to specifying axis (``labels, axis=0``\n",
      "    is equivalent to ``index=labels``).\n",
      "columns : single label or list-like\n",
      "    Alternative to specifying axis (``labels, axis=1``\n",
      "    is equivalent to ``columns=labels``).\n",
      "level : int or level name, optional\n",
      "    For MultiIndex, level from which the labels will be removed.\n",
      "inplace : bool, default False\n",
      "    If False, return a copy. Otherwise, do operation\n",
      "    in place and return None.\n",
      "errors : {'ignore', 'raise'}, default 'raise'\n",
      "    If 'ignore', suppress error and only existing labels are\n",
      "    dropped.\n",
      "\n",
      "Returns\n",
      "-------\n",
      "DataFrame or None\n",
      "    Returns DataFrame or None DataFrame with the specified\n",
      "    index or column labels removed or None if inplace=True.\n",
      "\n",
      "Raises\n",
      "------\n",
      "KeyError\n",
      "    If any of the labels is not found in the selected axis.\n",
      "\n",
      "See Also\n",
      "--------\n",
      "DataFrame.loc : Label-location based indexer for selection by label.\n",
      "DataFrame.dropna : Return DataFrame with labels on given axis omitted\n",
      "    where (all or any) data are missing.\n",
      "DataFrame.drop_duplicates : Return DataFrame with duplicate rows\n",
      "    removed, optionally only considering certain columns.\n",
      "Series.drop : Return Series with specified index labels removed.\n",
      "\n",
      "Examples\n",
      "--------\n",
      ">>> df = pd.DataFrame(np.arange(12).reshape(3, 4),\n",
      "...                   columns=['A', 'B', 'C', 'D'])\n",
      ">>> df\n",
      "   A  B   C   D\n",
      "0  0  1   2   3\n",
      "1  4  5   6   7\n",
      "2  8  9  10  11\n",
      "\n",
      "Drop columns\n",
      "\n",
      ">>> df.drop(['B', 'C'], axis=1)\n",
      "   A   D\n",
      "0  0   3\n",
      "1  4   7\n",
      "2  8  11\n",
      "\n",
      ">>> df.drop(columns=['B', 'C'])\n",
      "   A   D\n",
      "0  0   3\n",
      "1  4   7\n",
      "2  8  11\n",
      "\n",
      "Drop a row by index\n",
      "\n",
      ">>> df.drop([0, 1])\n",
      "   A  B   C   D\n",
      "2  8  9  10  11\n",
      "\n",
      "Drop columns and/or rows of MultiIndex DataFrame\n",
      "\n",
      ">>> midx = pd.MultiIndex(levels=[['llama', 'cow', 'falcon'],\n",
      "...                              ['speed', 'weight', 'length']],\n",
      "...                      codes=[[0, 0, 0, 1, 1, 1, 2, 2, 2],\n",
      "...                             [0, 1, 2, 0, 1, 2, 0, 1, 2]])\n",
      ">>> df = pd.DataFrame(index=midx, columns=['big', 'small'],\n",
      "...                   data=[[45, 30], [200, 100], [1.5, 1], [30, 20],\n",
      "...                         [250, 150], [1.5, 0.8], [320, 250],\n",
      "...                         [1, 0.8], [0.3, 0.2]])\n",
      ">>> df\n",
      "                big     small\n",
      "llama   speed   45.0    30.0\n",
      "        weight  200.0   100.0\n",
      "        length  1.5     1.0\n",
      "cow     speed   30.0    20.0\n",
      "        weight  250.0   150.0\n",
      "        length  1.5     0.8\n",
      "falcon  speed   320.0   250.0\n",
      "        weight  1.0     0.8\n",
      "        length  0.3     0.2\n",
      "\n",
      "Drop a specific index combination from the MultiIndex\n",
      "DataFrame, i.e., drop the combination ``'falcon'`` and\n",
      "``'weight'``, which deletes only the corresponding row\n",
      "\n",
      ">>> df.drop(index=('falcon', 'weight'))\n",
      "                big     small\n",
      "llama   speed   45.0    30.0\n",
      "        weight  200.0   100.0\n",
      "        length  1.5     1.0\n",
      "cow     speed   30.0    20.0\n",
      "        weight  250.0   150.0\n",
      "        length  1.5     0.8\n",
      "falcon  speed   320.0   250.0\n",
      "        length  0.3     0.2\n",
      "\n",
      ">>> df.drop(index='cow', columns='small')\n",
      "                big\n",
      "llama   speed   45.0\n",
      "        weight  200.0\n",
      "        length  1.5\n",
      "falcon  speed   320.0\n",
      "        weight  1.0\n",
      "        length  0.3\n",
      "\n",
      ">>> df.drop(index='length', level=1)\n",
      "                big     small\n",
      "llama   speed   45.0    30.0\n",
      "        weight  200.0   100.0\n",
      "cow     speed   30.0    20.0\n",
      "        weight  250.0   150.0\n",
      "falcon  speed   320.0   250.0\n",
      "        weight  1.0     0.8\n",
      "\u001b[31mFile:\u001b[39m      ~/projects/school/deepcart/venv/lib/python3.12/site-packages/pandas/core/frame.py\n",
      "\u001b[31mType:\u001b[39m      method"
     ]
    }
   ],
   "source": [
    "items.drop(['main_category', 'features', 'videos', 'store', 'categories', 'details', 'bought_together', 'subtitle', 'author'], axis=1, inplace=True)"
   ]
  },
  {
   "cell_type": "code",
   "execution_count": 20,
   "id": "a4d36c79",
   "metadata": {},
   "outputs": [
    {
     "data": {
      "text/html": [
       "<div>\n",
       "<style scoped>\n",
       "    .dataframe tbody tr th:only-of-type {\n",
       "        vertical-align: middle;\n",
       "    }\n",
       "\n",
       "    .dataframe tbody tr th {\n",
       "        vertical-align: top;\n",
       "    }\n",
       "\n",
       "    .dataframe thead th {\n",
       "        text-align: right;\n",
       "    }\n",
       "</style>\n",
       "<table border=\"1\" class=\"dataframe\">\n",
       "  <thead>\n",
       "    <tr style=\"text-align: right;\">\n",
       "      <th></th>\n",
       "      <th>title</th>\n",
       "      <th>average_rating</th>\n",
       "      <th>rating_number</th>\n",
       "      <th>description</th>\n",
       "      <th>price</th>\n",
       "      <th>images</th>\n",
       "      <th>parent_asin</th>\n",
       "    </tr>\n",
       "  </thead>\n",
       "  <tbody>\n",
       "    <tr>\n",
       "      <th>0</th>\n",
       "      <td>FS-1051 FATSHARK TELEPORTER V3 HEADSET</td>\n",
       "      <td>3.5</td>\n",
       "      <td>6</td>\n",
       "      <td>[Teleporter V3 The “Teleporter V3” kit sets a ...</td>\n",
       "      <td>None</td>\n",
       "      <td>[{'thumb': 'https://m.media-amazon.com/images/...</td>\n",
       "      <td>B00MCW7G9M</td>\n",
       "    </tr>\n",
       "    <tr>\n",
       "      <th>1</th>\n",
       "      <td>Ce-H22B12-S1 4Kx2K Hdmi 4Port</td>\n",
       "      <td>5.0</td>\n",
       "      <td>1</td>\n",
       "      <td>[HDMI In - HDMI Out]</td>\n",
       "      <td>None</td>\n",
       "      <td>[{'thumb': 'https://m.media-amazon.com/images/...</td>\n",
       "      <td>B00YT6XQSE</td>\n",
       "    </tr>\n",
       "    <tr>\n",
       "      <th>2</th>\n",
       "      <td>Digi-Tatoo Decal Skin Compatible With MacBook ...</td>\n",
       "      <td>4.5</td>\n",
       "      <td>246</td>\n",
       "      <td>[]</td>\n",
       "      <td>19.99</td>\n",
       "      <td>[{'thumb': 'https://m.media-amazon.com/images/...</td>\n",
       "      <td>B07SM135LS</td>\n",
       "    </tr>\n",
       "    <tr>\n",
       "      <th>3</th>\n",
       "      <td>NotoCity Compatible with Vivoactive 4 band 22m...</td>\n",
       "      <td>4.5</td>\n",
       "      <td>233</td>\n",
       "      <td>[]</td>\n",
       "      <td>9.99</td>\n",
       "      <td>[{'thumb': 'https://m.media-amazon.com/images/...</td>\n",
       "      <td>B089CNGZCW</td>\n",
       "    </tr>\n",
       "    <tr>\n",
       "      <th>4</th>\n",
       "      <td>Motorola Droid X Essentials Combo Pack</td>\n",
       "      <td>3.8</td>\n",
       "      <td>64</td>\n",
       "      <td>[all Genuine High Quality Motorola Made Access...</td>\n",
       "      <td>14.99</td>\n",
       "      <td>[{'thumb': 'https://m.media-amazon.com/images/...</td>\n",
       "      <td>B004E2Z88O</td>\n",
       "    </tr>\n",
       "  </tbody>\n",
       "</table>\n",
       "</div>"
      ],
      "text/plain": [
       "                                               title  average_rating  \\\n",
       "0             FS-1051 FATSHARK TELEPORTER V3 HEADSET             3.5   \n",
       "1                      Ce-H22B12-S1 4Kx2K Hdmi 4Port             5.0   \n",
       "2  Digi-Tatoo Decal Skin Compatible With MacBook ...             4.5   \n",
       "3  NotoCity Compatible with Vivoactive 4 band 22m...             4.5   \n",
       "4             Motorola Droid X Essentials Combo Pack             3.8   \n",
       "\n",
       "   rating_number                                        description  price  \\\n",
       "0              6  [Teleporter V3 The “Teleporter V3” kit sets a ...   None   \n",
       "1              1                               [HDMI In - HDMI Out]   None   \n",
       "2            246                                                 []  19.99   \n",
       "3            233                                                 []   9.99   \n",
       "4             64  [all Genuine High Quality Motorola Made Access...  14.99   \n",
       "\n",
       "                                              images parent_asin  \n",
       "0  [{'thumb': 'https://m.media-amazon.com/images/...  B00MCW7G9M  \n",
       "1  [{'thumb': 'https://m.media-amazon.com/images/...  B00YT6XQSE  \n",
       "2  [{'thumb': 'https://m.media-amazon.com/images/...  B07SM135LS  \n",
       "3  [{'thumb': 'https://m.media-amazon.com/images/...  B089CNGZCW  \n",
       "4  [{'thumb': 'https://m.media-amazon.com/images/...  B004E2Z88O  "
      ]
     },
     "execution_count": 20,
     "metadata": {},
     "output_type": "execute_result"
    }
   ],
   "source": [
    "items.head()"
   ]
  },
  {
   "cell_type": "code",
   "execution_count": 22,
   "id": "5b19f1d6",
   "metadata": {},
   "outputs": [],
   "source": [
    "items.price = items.price.astype(str)"
   ]
  },
  {
   "cell_type": "code",
   "execution_count": 23,
   "id": "a714bd38",
   "metadata": {},
   "outputs": [],
   "source": [
    "items.to_parquet(\"../data/2023/meta_Electronics.parquet\")"
   ]
  },
  {
   "cell_type": "code",
   "execution_count": 24,
   "id": "b25d28d5",
   "metadata": {},
   "outputs": [
    {
     "data": {
      "text/plain": [
       "1610012"
      ]
     },
     "execution_count": 24,
     "metadata": {},
     "output_type": "execute_result"
    }
   ],
   "source": [
    "len(items)"
   ]
  },
  {
   "cell_type": "code",
   "execution_count": 25,
   "id": "040dd5a2",
   "metadata": {},
   "outputs": [
    {
     "data": {
      "text/plain": [
       "array([[<Axes: title={'center': 'average_rating'}>,\n",
       "        <Axes: title={'center': 'rating_number'}>]], dtype=object)"
      ]
     },
     "execution_count": 25,
     "metadata": {},
     "output_type": "execute_result"
    },
    {
     "data": {
      "image/png": "[encoded data removed]",
      "text/plain": [
       "<Figure size 640x480 with 2 Axes>"
      ]
     },
     "metadata": {},
     "output_type": "display_data"
    }
   ],
   "source": [
    "items.hist()"
   ]
  },
  {
   "cell_type": "code",
   "execution_count": 17,
   "id": "58ec85e7",
   "metadata": {},
   "outputs": [
    {
     "data": {
      "text/plain": [
       "main_category                                        All Electronics\n",
       "title                         FS-1051 FATSHARK TELEPORTER V3 HEADSET\n",
       "average_rating                                                   3.5\n",
       "rating_number                                                      6\n",
       "features                                                          []\n",
       "description        [Teleporter V3 The “Teleporter V3” kit sets a ...\n",
       "price                                                           None\n",
       "images             [{'thumb': 'https://m.media-amazon.com/images/...\n",
       "videos                                                            []\n",
       "store                                                      Fat Shark\n",
       "categories          [Electronics, Television & Video, Video Glasses]\n",
       "details            {'Date First Available': 'August 2, 2014', 'Ma...\n",
       "parent_asin                                               B00MCW7G9M\n",
       "bought_together                                                  NaN\n",
       "subtitle                                                         NaN\n",
       "author                                                           NaN\n",
       "Name: 0, dtype: object"
      ]
     },
     "execution_count": 17,
     "metadata": {},
     "output_type": "execute_result"
    }
   ],
   "source": [
    "items.iloc[0]"
   ]
  },
  {
   "cell_type": "code",
   "execution_count": 18,
   "id": "7c4e502b",
   "metadata": {},
   "outputs": [
    {
     "data": {
      "text/html": [
       "<div>\n",
       "<style scoped>\n",
       "    .dataframe tbody tr th:only-of-type {\n",
       "        vertical-align: middle;\n",
       "    }\n",
       "\n",
       "    .dataframe tbody tr th {\n",
       "        vertical-align: top;\n",
       "    }\n",
       "\n",
       "    .dataframe thead th {\n",
       "        text-align: right;\n",
       "    }\n",
       "</style>\n",
       "<table border=\"1\" class=\"dataframe\">\n",
       "  <thead>\n",
       "    <tr style=\"text-align: right;\">\n",
       "      <th></th>\n",
       "      <th>main_category</th>\n",
       "      <th>title</th>\n",
       "      <th>average_rating</th>\n",
       "      <th>rating_number</th>\n",
       "      <th>features</th>\n",
       "      <th>description</th>\n",
       "      <th>price</th>\n",
       "      <th>images</th>\n",
       "      <th>videos</th>\n",
       "      <th>store</th>\n",
       "      <th>categories</th>\n",
       "      <th>details</th>\n",
       "      <th>parent_asin</th>\n",
       "      <th>bought_together</th>\n",
       "      <th>subtitle</th>\n",
       "      <th>author</th>\n",
       "    </tr>\n",
       "  </thead>\n",
       "  <tbody>\n",
       "    <tr>\n",
       "      <th>1068151</th>\n",
       "      <td>Amazon Home</td>\n",
       "      <td>Fancii Small Personal Desk USB Fan, Portable M...</td>\n",
       "      <td>4.0</td>\n",
       "      <td>11448</td>\n",
       "      <td>[Twin turbo Cyclone-Blade technology provides ...</td>\n",
       "      <td>[]</td>\n",
       "      <td>15.99</td>\n",
       "      <td>[{'thumb': 'https://m.media-amazon.com/images/...</td>\n",
       "      <td>[{'title': 'Good air, loud rattle', 'url': 'ht...</td>\n",
       "      <td>Fancii</td>\n",
       "      <td>[Electronics, Computers &amp; Accessories, Compute...</td>\n",
       "      <td>{'Brand': 'Fancii', 'Color': 'Black', 'Electri...</td>\n",
       "      <td>B07CML419K</td>\n",
       "      <td>NaN</td>\n",
       "      <td>NaN</td>\n",
       "      <td>NaN</td>\n",
       "    </tr>\n",
       "  </tbody>\n",
       "</table>\n",
       "</div>"
      ],
      "text/plain": [
       "        main_category                                              title  \\\n",
       "1068151   Amazon Home  Fancii Small Personal Desk USB Fan, Portable M...   \n",
       "\n",
       "         average_rating  rating_number  \\\n",
       "1068151             4.0          11448   \n",
       "\n",
       "                                                  features description  price  \\\n",
       "1068151  [Twin turbo Cyclone-Blade technology provides ...          []  15.99   \n",
       "\n",
       "                                                    images  \\\n",
       "1068151  [{'thumb': 'https://m.media-amazon.com/images/...   \n",
       "\n",
       "                                                    videos   store  \\\n",
       "1068151  [{'title': 'Good air, loud rattle', 'url': 'ht...  Fancii   \n",
       "\n",
       "                                                categories  \\\n",
       "1068151  [Electronics, Computers & Accessories, Compute...   \n",
       "\n",
       "                                                   details parent_asin  \\\n",
       "1068151  {'Brand': 'Fancii', 'Color': 'Black', 'Electri...  B07CML419K   \n",
       "\n",
       "         bought_together subtitle author  \n",
       "1068151              NaN      NaN    NaN  "
      ]
     },
     "execution_count": 18,
     "metadata": {},
     "output_type": "execute_result"
    }
   ],
   "source": [
    "# Per the dataset documentation: Note: Products with different colors, styles, sizes usually belong to the same parent ID. \n",
    "# The “asin” in previous Amazon datasets is actually parent ID. Please use parent ID to find product meta.\n",
    "item = reviews.iloc[5].parent_asin\n",
    "items[items.parent_asin == item]"
   ]
  },
  {
   "cell_type": "code",
   "execution_count": 19,
   "id": "beab1229",
   "metadata": {},
   "outputs": [
    {
     "data": {
      "text/html": [
       "<div>\n",
       "<style scoped>\n",
       "    .dataframe tbody tr th:only-of-type {\n",
       "        vertical-align: middle;\n",
       "    }\n",
       "\n",
       "    .dataframe tbody tr th {\n",
       "        vertical-align: top;\n",
       "    }\n",
       "\n",
       "    .dataframe thead th {\n",
       "        text-align: right;\n",
       "    }\n",
       "</style>\n",
       "<table border=\"1\" class=\"dataframe\">\n",
       "  <thead>\n",
       "    <tr style=\"text-align: right;\">\n",
       "      <th></th>\n",
       "      <th>rating</th>\n",
       "      <th>title</th>\n",
       "      <th>text</th>\n",
       "      <th>images</th>\n",
       "      <th>asin</th>\n",
       "      <th>parent_asin</th>\n",
       "      <th>user_id</th>\n",
       "      <th>timestamp</th>\n",
       "      <th>helpful_vote</th>\n",
       "      <th>verified_purchase</th>\n",
       "    </tr>\n",
       "  </thead>\n",
       "  <tbody>\n",
       "  </tbody>\n",
       "</table>\n",
       "</div>"
      ],
      "text/plain": [
       "Empty DataFrame\n",
       "Columns: [rating, title, text, images, asin, parent_asin, user_id, timestamp, helpful_vote, verified_purchase]\n",
       "Index: []"
      ]
     },
     "execution_count": 19,
     "metadata": {},
     "output_type": "execute_result"
    }
   ],
   "source": [
    "reviews[reviews.parent_asin == items.iloc[1].parent_asin]"
   ]
  },
  {
   "cell_type": "markdown",
   "id": "0fed92af",
   "metadata": {},
   "source": [
    "I can't load the entirety of the reviews in one shot... but I can fit every item in memory. So every review will be grounded to an item, but many reviews will be hidden. I don't think this matters for this project. If I want to fit more reviews, I can simply preprocess the data to rejct unneeded fields and (notably text fields) and dramatically reduce memory requirements. I can alternatively load only the critical columns, yes? "
   ]
  },
  {
   "cell_type": "markdown",
   "id": "e3248e82",
   "metadata": {},
   "source": [
    "### EDA"
   ]
  },
  {
   "cell_type": "code",
   "execution_count": 1,
   "id": "0ccab951",
   "metadata": {},
   "outputs": [
    {
     "name": "stdout",
     "output_type": "stream",
     "text": [
      "env: TF_USE_LEGACY_KERAS=True\n"
     ]
    },
    {
     "data": {
      "text/plain": [
       "{'CHROME_DESKTOP': 'code.desktop',\n",
       " 'CLUTTER_DISABLE_MIPMAPPED_TEXT': '1',\n",
       " 'CONDA_DEFAULT_ENV': 'base',\n",
       " 'CONDA_EXE': '/home/grim/miniconda3/bin/conda',\n",
       " 'CONDA_PREFIX': '/home/grim/miniconda3',\n",
       " 'CONDA_PROMPT_MODIFIER': '(base) ',\n",
       " 'CONDA_PYTHON_EXE': '/home/grim/miniconda3/bin/python',\n",
       " 'CONDA_SHLVL': '1',\n",
       " 'DBUS_SESSION_BUS_ADDRESS': 'unix:path=/run/user/1000/bus',\n",
       " 'DEBUGINFOD_URLS': 'https://debuginfod.ubuntu.com ',\n",
       " 'DESKTOP_SESSION': 'ubuntu',\n",
       " 'DISPLAY': ':1',\n",
       " 'GDK_BACKEND': 'x11',\n",
       " 'GDMSESSION': 'ubuntu',\n",
       " 'GIO_LAUNCHED_DESKTOP_FILE': '/usr/share/applications/code.desktop',\n",
       " 'GIO_LAUNCHED_DESKTOP_FILE_PID': '3487366',\n",
       " 'GJS_DEBUG_OUTPUT': 'stderr',\n",
       " 'GJS_DEBUG_TOPICS': 'JS ERROR;JS LOG',\n",
       " 'GNOME_DESKTOP_SESSION_ID': 'this-is-deprecated',\n",
       " 'GNOME_SHELL_SESSION_MODE': 'ubuntu',\n",
       " 'GPG_AGENT_INFO': '/run/user/1000/gnupg/S.gpg-agent:0:1',\n",
       " 'GSM_SKIP_SSH_AGENT_WORKAROUND': 'true',\n",
       " 'GTK_MODULES': 'gail:atk-bridge',\n",
       " 'HOME': '/home/grim',\n",
       " 'INVOCATION_ID': '803a37d0dfe64a10838df0bf669030a8',\n",
       " 'JOURNAL_STREAM': '9:31927575',\n",
       " 'LANG': 'en_US.UTF-8',\n",
       " 'LESSCLOSE': '/usr/bin/lesspipe %s %s',\n",
       " 'LESSOPEN': '| /usr/bin/lesspipe %s',\n",
       " 'LOGNAME': 'grim',\n",
       " 'MANAGERPID': '2329',\n",
       " 'MEMORY_PRESSURE_WATCH': '/sys/fs/cgroup/user.slice/user-1000.slice/user@1000.service/session.slice/org.gnome.Shell@x11.service/memory.pressure',\n",
       " 'MEMORY_PRESSURE_WRITE': 'c29tZSAyMDAwMDAgMjAwMDAwMAA=',\n",
       " 'ORIGINAL_XDG_CURRENT_DESKTOP': 'ubuntu:GNOME',\n",
       " 'PATH': '/home/grim/projects/school/deepcart/venv/bin:/home/grim/.local/bin:/home/grim/.cargo/bin//home/grim/miniconda3/bin:/home/grim/miniconda3/condabin:/home/grim/.local/bin:/home/grim/.cargo/bin:/home/grim/.local/bin:/usr/local/sbin:/usr/local/bin:/usr/sbin:/usr/bin:/sbin:/bin:/usr/games:/usr/local/games:/snap/bin:/snap/bin',\n",
       " 'PWD': '/home/grim',\n",
       " 'QT_ACCESSIBILITY': '1',\n",
       " 'QT_IM_MODULE': 'ibus',\n",
       " 'SESSION_MANAGER': 'local/grims-monolith:@/tmp/.ICE-unix/3486450,unix/grims-monolith:/tmp/.ICE-unix/3486450',\n",
       " 'SHELL': '/bin/bash',\n",
       " 'SHLVL': '0',\n",
       " 'SSH_AUTH_SOCK': '/run/user/1000/keyring/ssh',\n",
       " 'SYSTEMD_EXEC_PID': '3486483',\n",
       " 'USER': 'grim',\n",
       " 'USERNAME': 'grim',\n",
       " 'VSCODE_CODE_CACHE_PATH': '/home/grim/.config/Code/CachedData/2901c5ac6db8a986a5666c3af51ff804d05af0d4',\n",
       " 'VSCODE_CRASH_REPORTER_PROCESS_TYPE': 'extensionHost',\n",
       " 'VSCODE_CWD': '/home/grim',\n",
       " 'VSCODE_ESM_ENTRYPOINT': 'vs/workbench/api/node/extensionHostProcess',\n",
       " 'VSCODE_HANDLES_UNCAUGHT_ERRORS': 'true',\n",
       " 'VSCODE_IPC_HOOK': '/run/user/1000/vscode-8a105e90-1.10-main.sock',\n",
       " 'VSCODE_NLS_CONFIG': '{\"userLocale\":\"en-us\",\"osLocale\":\"en-us\",\"resolvedLanguage\":\"en\",\"defaultMessagesFile\":\"/usr/share/code/resources/app/out/nls.messages.json\",\"locale\":\"en-us\",\"availableLanguages\":{}}',\n",
       " 'VSCODE_PID': '3487366',\n",
       " 'WINDOWPATH': '2',\n",
       " 'XAUTHORITY': '/run/user/1000/gdm/Xauthority',\n",
       " 'XDG_CONFIG_DIRS': '/etc/xdg/xdg-ubuntu:/etc/xdg',\n",
       " 'XDG_CURRENT_DESKTOP': 'Unity',\n",
       " 'XDG_DATA_DIRS': '/usr/share/ubuntu:/usr/share/gnome:/usr/local/share/:/usr/share/:/var/lib/snapd/desktop',\n",
       " 'XDG_MENU_PREFIX': 'gnome-',\n",
       " 'XDG_RUNTIME_DIR': '/run/user/1000',\n",
       " 'XDG_SESSION_CLASS': 'user',\n",
       " 'XDG_SESSION_DESKTOP': 'ubuntu',\n",
       " 'XDG_SESSION_TYPE': 'x11',\n",
       " 'XMODIFIERS': '@im=ibus',\n",
       " '_': '/home/grim/projects/school/deepcart/venv/bin/python',\n",
       " 'ELECTRON_RUN_AS_NODE': '1',\n",
       " 'VSCODE_L10N_BUNDLE_LOCATION': '',\n",
       " 'APPLICATION_INSIGHTS_NO_STATSBEAT': 'true',\n",
       " 'APPLICATION_INSIGHTS_NO_DIAGNOSTIC_CHANNEL': '1',\n",
       " 'APPLICATIONINSIGHTS_CONFIGURATION_CONTENT': '{}',\n",
       " 'PYTHONUNBUFFERED': '1',\n",
       " 'VIRTUAL_ENV': '/home/grim/projects/school/deepcart/venv',\n",
       " 'PYTHONIOENCODING': 'utf-8',\n",
       " 'VIRTUAL_ENV_PROMPT': '(venv) ',\n",
       " 'PS1': '(venv) ',\n",
       " 'PYDEVD_IPYTHON_COMPATIBLE_DEBUGGING': '1',\n",
       " 'PYTHON_FROZEN_MODULES': 'on',\n",
       " 'PYDEVD_USE_FRAME_EVAL': 'NO',\n",
       " 'TERM': 'xterm-color',\n",
       " 'CLICOLOR': '1',\n",
       " 'FORCE_COLOR': '1',\n",
       " 'CLICOLOR_FORCE': '1',\n",
       " 'PAGER': 'cat',\n",
       " 'GIT_PAGER': 'cat',\n",
       " 'MPLBACKEND': 'module://matplotlib_inline.backend_inline',\n",
       " 'TF_USE_LEGACY_KERAS': 'True'}"
      ]
     },
     "execution_count": 1,
     "metadata": {},
     "output_type": "execute_result"
    }
   ],
   "source": [
    "%set_env TF_USE_LEGACY_KERAS=True\n",
    "%env"
   ]
  },
  {
   "cell_type": "code",
   "execution_count": 2,
   "id": "62a28736",
   "metadata": {},
   "outputs": [
    {
     "name": "stderr",
     "output_type": "stream",
     "text": [
      "2025-07-19 23:19:00.968361: I tensorflow/core/util/port.cc:153] oneDNN custom operations are on. You may see slightly different numerical results due to floating-point round-off errors from different computation orders. To turn them off, set the environment variable `TF_ENABLE_ONEDNN_OPTS=0`.\n",
      "2025-07-19 23:19:00.975373: E external/local_xla/xla/stream_executor/cuda/cuda_fft.cc:467] Unable to register cuFFT factory: Attempting to register factory for plugin cuFFT when one has already been registered\n",
      "WARNING: All log messages before absl::InitializeLog() is called are written to STDERR\n",
      "E0000 00:00:1752981540.983326 1420605 cuda_dnn.cc:8579] Unable to register cuDNN factory: Attempting to register factory for plugin cuDNN when one has already been registered\n",
      "E0000 00:00:1752981540.985636 1420605 cuda_blas.cc:1407] Unable to register cuBLAS factory: Attempting to register factory for plugin cuBLAS when one has already been registered\n",
      "W0000 00:00:1752981540.991867 1420605 computation_placer.cc:177] computation placer already registered. Please check linkage and avoid linking the same target more than once.\n",
      "W0000 00:00:1752981540.991875 1420605 computation_placer.cc:177] computation placer already registered. Please check linkage and avoid linking the same target more than once.\n",
      "W0000 00:00:1752981540.991876 1420605 computation_placer.cc:177] computation placer already registered. Please check linkage and avoid linking the same target more than once.\n",
      "W0000 00:00:1752981540.991877 1420605 computation_placer.cc:177] computation placer already registered. Please check linkage and avoid linking the same target more than once.\n",
      "2025-07-19 23:19:00.994134: I tensorflow/core/platform/cpu_feature_guard.cc:210] This TensorFlow binary is optimized to use available CPU instructions in performance-critical operations.\n",
      "To enable the following instructions: AVX2 AVX_VNNI FMA, in other operations, rebuild TensorFlow with the appropriate compiler flags.\n"
     ]
    }
   ],
   "source": [
    "import pandas as pd\n",
    "import tf_keras as keras "
   ]
  },
  {
   "cell_type": "code",
   "execution_count": 139,
   "id": "600ddc93",
   "metadata": {},
   "outputs": [],
   "source": [
    "reviews = pd.read_parquet(\"../data/2023/Electronics_min.parquet\")\n",
    "items = pd.read_parquet(\"../data/2023/meta_Electronics.parquet\")"
   ]
  },
  {
   "cell_type": "code",
   "execution_count": 140,
   "id": "197f84c5",
   "metadata": {},
   "outputs": [
    {
     "data": {
      "text/html": [
       "<div>\n",
       "<style scoped>\n",
       "    .dataframe tbody tr th:only-of-type {\n",
       "        vertical-align: middle;\n",
       "    }\n",
       "\n",
       "    .dataframe tbody tr th {\n",
       "        vertical-align: top;\n",
       "    }\n",
       "\n",
       "    .dataframe thead th {\n",
       "        text-align: right;\n",
       "    }\n",
       "</style>\n",
       "<table border=\"1\" class=\"dataframe\">\n",
       "  <thead>\n",
       "    <tr style=\"text-align: right;\">\n",
       "      <th></th>\n",
       "      <th>rating</th>\n",
       "      <th>parent_asin</th>\n",
       "      <th>user_id</th>\n",
       "      <th>timestamp</th>\n",
       "    </tr>\n",
       "  </thead>\n",
       "  <tbody>\n",
       "    <tr>\n",
       "      <th>0</th>\n",
       "      <td>3</td>\n",
       "      <td>B083NRGZMM</td>\n",
       "      <td>AFKZENTNBQ7A7V7UXW5JJI6UGRYQ</td>\n",
       "      <td>2022-07-18 22:58:37.948</td>\n",
       "    </tr>\n",
       "    <tr>\n",
       "      <th>1</th>\n",
       "      <td>1</td>\n",
       "      <td>B07N69T6TM</td>\n",
       "      <td>AFKZENTNBQ7A7V7UXW5JJI6UGRYQ</td>\n",
       "      <td>2020-06-20 18:42:29.731</td>\n",
       "    </tr>\n",
       "    <tr>\n",
       "      <th>2</th>\n",
       "      <td>5</td>\n",
       "      <td>B01G8JO5F2</td>\n",
       "      <td>AFKZENTNBQ7A7V7UXW5JJI6UGRYQ</td>\n",
       "      <td>2018-04-07 09:23:37.534</td>\n",
       "    </tr>\n",
       "    <tr>\n",
       "      <th>3</th>\n",
       "      <td>5</td>\n",
       "      <td>B001OC5JKY</td>\n",
       "      <td>AGGZ357AO26RQZVRLGU4D4N52DZQ</td>\n",
       "      <td>2010-11-20 18:41:35.000</td>\n",
       "    </tr>\n",
       "    <tr>\n",
       "      <th>4</th>\n",
       "      <td>5</td>\n",
       "      <td>B07CJYMRWM</td>\n",
       "      <td>AG2L7H23R5LLKDKLBEF2Q3L2MVDA</td>\n",
       "      <td>2023-02-17 02:39:41.238</td>\n",
       "    </tr>\n",
       "    <tr>\n",
       "      <th>...</th>\n",
       "      <td>...</td>\n",
       "      <td>...</td>\n",
       "      <td>...</td>\n",
       "      <td>...</td>\n",
       "    </tr>\n",
       "    <tr>\n",
       "      <th>9999995</th>\n",
       "      <td>4</td>\n",
       "      <td>B0BR6FBPD9</td>\n",
       "      <td>AHG2SVUXNKVWEHVTVRZHIDRCWFQA</td>\n",
       "      <td>2021-07-07 17:10:50.418</td>\n",
       "    </tr>\n",
       "    <tr>\n",
       "      <th>9999996</th>\n",
       "      <td>5</td>\n",
       "      <td>B07DVRGM9M</td>\n",
       "      <td>AHG2SVUXNKVWEHVTVRZHIDRCWFQA</td>\n",
       "      <td>2018-07-19 14:04:49.157</td>\n",
       "    </tr>\n",
       "    <tr>\n",
       "      <th>9999997</th>\n",
       "      <td>5</td>\n",
       "      <td>B0B3TJMN8P</td>\n",
       "      <td>AGT6T3SMU577AW4KZOWCX7VIY3IQ</td>\n",
       "      <td>2022-08-26 16:29:27.240</td>\n",
       "    </tr>\n",
       "    <tr>\n",
       "      <th>9999998</th>\n",
       "      <td>5</td>\n",
       "      <td>B0B3158RQ2</td>\n",
       "      <td>AFY2KJ5YAVB77AAACLXEAHT4CHWQ</td>\n",
       "      <td>2022-12-06 20:21:24.745</td>\n",
       "    </tr>\n",
       "    <tr>\n",
       "      <th>9999999</th>\n",
       "      <td>5</td>\n",
       "      <td>B091KQ3D6C</td>\n",
       "      <td>AFY2KJ5YAVB77AAACLXEAHT4CHWQ</td>\n",
       "      <td>2022-02-03 20:14:50.149</td>\n",
       "    </tr>\n",
       "  </tbody>\n",
       "</table>\n",
       "<p>10000000 rows × 4 columns</p>\n",
       "</div>"
      ],
      "text/plain": [
       "         rating parent_asin                       user_id  \\\n",
       "0             3  B083NRGZMM  AFKZENTNBQ7A7V7UXW5JJI6UGRYQ   \n",
       "1             1  B07N69T6TM  AFKZENTNBQ7A7V7UXW5JJI6UGRYQ   \n",
       "2             5  B01G8JO5F2  AFKZENTNBQ7A7V7UXW5JJI6UGRYQ   \n",
       "3             5  B001OC5JKY  AGGZ357AO26RQZVRLGU4D4N52DZQ   \n",
       "4             5  B07CJYMRWM  AG2L7H23R5LLKDKLBEF2Q3L2MVDA   \n",
       "...         ...         ...                           ...   \n",
       "9999995       4  B0BR6FBPD9  AHG2SVUXNKVWEHVTVRZHIDRCWFQA   \n",
       "9999996       5  B07DVRGM9M  AHG2SVUXNKVWEHVTVRZHIDRCWFQA   \n",
       "9999997       5  B0B3TJMN8P  AGT6T3SMU577AW4KZOWCX7VIY3IQ   \n",
       "9999998       5  B0B3158RQ2  AFY2KJ5YAVB77AAACLXEAHT4CHWQ   \n",
       "9999999       5  B091KQ3D6C  AFY2KJ5YAVB77AAACLXEAHT4CHWQ   \n",
       "\n",
       "                      timestamp  \n",
       "0       2022-07-18 22:58:37.948  \n",
       "1       2020-06-20 18:42:29.731  \n",
       "2       2018-04-07 09:23:37.534  \n",
       "3       2010-11-20 18:41:35.000  \n",
       "4       2023-02-17 02:39:41.238  \n",
       "...                         ...  \n",
       "9999995 2021-07-07 17:10:50.418  \n",
       "9999996 2018-07-19 14:04:49.157  \n",
       "9999997 2022-08-26 16:29:27.240  \n",
       "9999998 2022-12-06 20:21:24.745  \n",
       "9999999 2022-02-03 20:14:50.149  \n",
       "\n",
       "[10000000 rows x 4 columns]"
      ]
     },
     "execution_count": 140,
     "metadata": {},
     "output_type": "execute_result"
    }
   ],
   "source": [
    "reviews"
   ]
  },
  {
   "cell_type": "code",
   "execution_count": 141,
   "id": "aae3cf83",
   "metadata": {},
   "outputs": [
    {
     "data": {
      "text/html": [
       "<div>\n",
       "<style scoped>\n",
       "    .dataframe tbody tr th:only-of-type {\n",
       "        vertical-align: middle;\n",
       "    }\n",
       "\n",
       "    .dataframe tbody tr th {\n",
       "        vertical-align: top;\n",
       "    }\n",
       "\n",
       "    .dataframe thead th {\n",
       "        text-align: right;\n",
       "    }\n",
       "</style>\n",
       "<table border=\"1\" class=\"dataframe\">\n",
       "  <thead>\n",
       "    <tr style=\"text-align: right;\">\n",
       "      <th></th>\n",
       "      <th>title</th>\n",
       "      <th>average_rating</th>\n",
       "      <th>rating_number</th>\n",
       "      <th>description</th>\n",
       "      <th>price</th>\n",
       "      <th>images</th>\n",
       "      <th>parent_asin</th>\n",
       "    </tr>\n",
       "  </thead>\n",
       "  <tbody>\n",
       "    <tr>\n",
       "      <th>0</th>\n",
       "      <td>FS-1051 FATSHARK TELEPORTER V3 HEADSET</td>\n",
       "      <td>3.5</td>\n",
       "      <td>6</td>\n",
       "      <td>[Teleporter V3 The “Teleporter V3” kit sets a ...</td>\n",
       "      <td>None</td>\n",
       "      <td>[{'hi_res': None, 'large': 'https://m.media-am...</td>\n",
       "      <td>B00MCW7G9M</td>\n",
       "    </tr>\n",
       "    <tr>\n",
       "      <th>1</th>\n",
       "      <td>Ce-H22B12-S1 4Kx2K Hdmi 4Port</td>\n",
       "      <td>5.0</td>\n",
       "      <td>1</td>\n",
       "      <td>[HDMI In - HDMI Out]</td>\n",
       "      <td>None</td>\n",
       "      <td>[{'hi_res': 'https://m.media-amazon.com/images...</td>\n",
       "      <td>B00YT6XQSE</td>\n",
       "    </tr>\n",
       "    <tr>\n",
       "      <th>2</th>\n",
       "      <td>Digi-Tatoo Decal Skin Compatible With MacBook ...</td>\n",
       "      <td>4.5</td>\n",
       "      <td>246</td>\n",
       "      <td>[]</td>\n",
       "      <td>19.99</td>\n",
       "      <td>[{'hi_res': 'https://m.media-amazon.com/images...</td>\n",
       "      <td>B07SM135LS</td>\n",
       "    </tr>\n",
       "    <tr>\n",
       "      <th>3</th>\n",
       "      <td>NotoCity Compatible with Vivoactive 4 band 22m...</td>\n",
       "      <td>4.5</td>\n",
       "      <td>233</td>\n",
       "      <td>[]</td>\n",
       "      <td>9.99</td>\n",
       "      <td>[{'hi_res': 'https://m.media-amazon.com/images...</td>\n",
       "      <td>B089CNGZCW</td>\n",
       "    </tr>\n",
       "    <tr>\n",
       "      <th>4</th>\n",
       "      <td>Motorola Droid X Essentials Combo Pack</td>\n",
       "      <td>3.8</td>\n",
       "      <td>64</td>\n",
       "      <td>[all Genuine High Quality Motorola Made Access...</td>\n",
       "      <td>14.99</td>\n",
       "      <td>[{'hi_res': None, 'large': 'https://m.media-am...</td>\n",
       "      <td>B004E2Z88O</td>\n",
       "    </tr>\n",
       "    <tr>\n",
       "      <th>...</th>\n",
       "      <td>...</td>\n",
       "      <td>...</td>\n",
       "      <td>...</td>\n",
       "      <td>...</td>\n",
       "      <td>...</td>\n",
       "      <td>...</td>\n",
       "      <td>...</td>\n",
       "    </tr>\n",
       "    <tr>\n",
       "      <th>1610007</th>\n",
       "      <td>Wintec FileMate Pro USB Flash Drive, 3FMUSB32G...</td>\n",
       "      <td>5.0</td>\n",
       "      <td>1</td>\n",
       "      <td>[--New in retail packaging --Fast USB 2.0 data...</td>\n",
       "      <td>None</td>\n",
       "      <td>[{'hi_res': 'https://m.media-amazon.com/images...</td>\n",
       "      <td>B003NUIU9M</td>\n",
       "    </tr>\n",
       "    <tr>\n",
       "      <th>1610008</th>\n",
       "      <td>Tsugar Noise Reduction Wireless Headphones Blu...</td>\n",
       "      <td>1.0</td>\n",
       "      <td>2</td>\n",
       "      <td>[Description: 100% brand new high quality 1.Hi...</td>\n",
       "      <td>None</td>\n",
       "      <td>[{'hi_res': None, 'large': 'https://m.media-am...</td>\n",
       "      <td>B0BHVY33TL</td>\n",
       "    </tr>\n",
       "    <tr>\n",
       "      <th>1610009</th>\n",
       "      <td>Hardshell Case for MacBook Pro (16-inch, 2021)...</td>\n",
       "      <td>4.6</td>\n",
       "      <td>11</td>\n",
       "      <td>[]</td>\n",
       "      <td>None</td>\n",
       "      <td>[{'hi_res': 'https://m.media-amazon.com/images...</td>\n",
       "      <td>B09SQGRFFH</td>\n",
       "    </tr>\n",
       "    <tr>\n",
       "      <th>1610010</th>\n",
       "      <td>FYY 12-13.3\" Laptop Sleeve Case Bag, PU Leathe...</td>\n",
       "      <td>4.0</td>\n",
       "      <td>35</td>\n",
       "      <td>[]</td>\n",
       "      <td>None</td>\n",
       "      <td>[{'hi_res': 'https://m.media-amazon.com/images...</td>\n",
       "      <td>B091JWCSG5</td>\n",
       "    </tr>\n",
       "    <tr>\n",
       "      <th>1610011</th>\n",
       "      <td>4MP Full Time Color Night Vision POE IP Camera...</td>\n",
       "      <td>4.1</td>\n",
       "      <td>10</td>\n",
       "      <td>[Camera, Image Sensor: 1/1.8\" Progressive Scan...</td>\n",
       "      <td>119.0</td>\n",
       "      <td>[{'hi_res': 'https://m.media-amazon.com/images...</td>\n",
       "      <td>B08K7KC4GR</td>\n",
       "    </tr>\n",
       "  </tbody>\n",
       "</table>\n",
       "<p>1610012 rows × 7 columns</p>\n",
       "</div>"
      ],
      "text/plain": [
       "                                                     title  average_rating  \\\n",
       "0                   FS-1051 FATSHARK TELEPORTER V3 HEADSET             3.5   \n",
       "1                            Ce-H22B12-S1 4Kx2K Hdmi 4Port             5.0   \n",
       "2        Digi-Tatoo Decal Skin Compatible With MacBook ...             4.5   \n",
       "3        NotoCity Compatible with Vivoactive 4 band 22m...             4.5   \n",
       "4                   Motorola Droid X Essentials Combo Pack             3.8   \n",
       "...                                                    ...             ...   \n",
       "1610007  Wintec FileMate Pro USB Flash Drive, 3FMUSB32G...             5.0   \n",
       "1610008  Tsugar Noise Reduction Wireless Headphones Blu...             1.0   \n",
       "1610009  Hardshell Case for MacBook Pro (16-inch, 2021)...             4.6   \n",
       "1610010  FYY 12-13.3\" Laptop Sleeve Case Bag, PU Leathe...             4.0   \n",
       "1610011  4MP Full Time Color Night Vision POE IP Camera...             4.1   \n",
       "\n",
       "         rating_number                                        description  \\\n",
       "0                    6  [Teleporter V3 The “Teleporter V3” kit sets a ...   \n",
       "1                    1                               [HDMI In - HDMI Out]   \n",
       "2                  246                                                 []   \n",
       "3                  233                                                 []   \n",
       "4                   64  [all Genuine High Quality Motorola Made Access...   \n",
       "...                ...                                                ...   \n",
       "1610007              1  [--New in retail packaging --Fast USB 2.0 data...   \n",
       "1610008              2  [Description: 100% brand new high quality 1.Hi...   \n",
       "1610009             11                                                 []   \n",
       "1610010             35                                                 []   \n",
       "1610011             10  [Camera, Image Sensor: 1/1.8\" Progressive Scan...   \n",
       "\n",
       "         price                                             images parent_asin  \n",
       "0         None  [{'hi_res': None, 'large': 'https://m.media-am...  B00MCW7G9M  \n",
       "1         None  [{'hi_res': 'https://m.media-amazon.com/images...  B00YT6XQSE  \n",
       "2        19.99  [{'hi_res': 'https://m.media-amazon.com/images...  B07SM135LS  \n",
       "3         9.99  [{'hi_res': 'https://m.media-amazon.com/images...  B089CNGZCW  \n",
       "4        14.99  [{'hi_res': None, 'large': 'https://m.media-am...  B004E2Z88O  \n",
       "...        ...                                                ...         ...  \n",
       "1610007   None  [{'hi_res': 'https://m.media-amazon.com/images...  B003NUIU9M  \n",
       "1610008   None  [{'hi_res': None, 'large': 'https://m.media-am...  B0BHVY33TL  \n",
       "1610009   None  [{'hi_res': 'https://m.media-amazon.com/images...  B09SQGRFFH  \n",
       "1610010   None  [{'hi_res': 'https://m.media-amazon.com/images...  B091JWCSG5  \n",
       "1610011  119.0  [{'hi_res': 'https://m.media-amazon.com/images...  B08K7KC4GR  \n",
       "\n",
       "[1610012 rows x 7 columns]"
      ]
     },
     "execution_count": 141,
     "metadata": {},
     "output_type": "execute_result"
    }
   ],
   "source": [
    "items"
   ]
  },
  {
   "cell_type": "markdown",
   "id": "51cf7b17",
   "metadata": {},
   "source": [
    "We need to build a compact user-centric representation of preference, collapse review data into a sparse matrix of user -> item preferences. There are some heuristics that need to be applied in the process: \n",
    "1. users with few interactions are a very weak signal -- without associations with multiple products, we are not teaching the model about positive associations\n",
    "2. products with few interactions are also a very weak signal -- we are looking to connect users and items that have tiny interaction graphs are not going to improve our macro-level predictions"
   ]
  },
  {
   "cell_type": "code",
   "execution_count": 142,
   "id": "2da447ae",
   "metadata": {},
   "outputs": [
    {
     "data": {
      "text/plain": [
       "42604"
      ]
     },
     "execution_count": 142,
     "metadata": {},
     "output_type": "execute_result"
    }
   ],
   "source": [
    "# TODO: This should be a configuration option hyper parameter, we can relax this if training isn't suepr computationally expensive\n",
    "min_ratings = 1000\n",
    "items = items[items.rating_number > min_ratings]\n",
    "len(items) "
   ]
  },
  {
   "cell_type": "code",
   "execution_count": 143,
   "id": "2d8a71be",
   "metadata": {},
   "outputs": [
    {
     "name": "stderr",
     "output_type": "stream",
     "text": [
      "/tmp/ipykernel_1420605/1979523271.py:6: SettingWithCopyWarning: \n",
      "A value is trying to be set on a copy of a slice from a DataFrame\n",
      "\n",
      "See the caveats in the documentation: https://pandas.pydata.org/pandas-docs/stable/user_guide/indexing.html#returning-a-view-versus-a-copy\n",
      "  reviews.rename(columns={'parent_asin':'item_id'}, inplace=True)\n"
     ]
    }
   ],
   "source": [
    "# The above item filtering serves to reduce the computational complexity as well as \n",
    "# reduce sparsity, before we filter reviews make sure we remove those associated with \n",
    "# dropped items\n",
    "all_items = set(items.parent_asin)\n",
    "reviews = reviews[reviews.parent_asin.isin(all_items)]\n",
    "reviews.rename(columns={'parent_asin':'item_id'}, inplace=True)"
   ]
  },
  {
   "cell_type": "code",
   "execution_count": 146,
   "id": "3c132b2d",
   "metadata": {},
   "outputs": [],
   "source": [
    "users = reviews.groupby(['user_id']).rating.count()\n",
    "users = pd.DataFrame(users).reset_index()\n",
    "users.rename(columns={'rating':'ratings'}, inplace=True)"
   ]
  },
  {
   "cell_type": "code",
   "execution_count": 148,
   "id": "8893e4f9",
   "metadata": {},
   "outputs": [
    {
     "data": {
      "text/html": [
       "<div>\n",
       "<style scoped>\n",
       "    .dataframe tbody tr th:only-of-type {\n",
       "        vertical-align: middle;\n",
       "    }\n",
       "\n",
       "    .dataframe tbody tr th {\n",
       "        vertical-align: top;\n",
       "    }\n",
       "\n",
       "    .dataframe thead th {\n",
       "        text-align: right;\n",
       "    }\n",
       "</style>\n",
       "<table border=\"1\" class=\"dataframe\">\n",
       "  <thead>\n",
       "    <tr style=\"text-align: right;\">\n",
       "      <th></th>\n",
       "      <th>user_id</th>\n",
       "      <th>ratings</th>\n",
       "    </tr>\n",
       "  </thead>\n",
       "  <tbody>\n",
       "    <tr>\n",
       "      <th>35</th>\n",
       "      <td>AE224LWIR4ZDJLRKORFHMJGABP6Q</td>\n",
       "      <td>12</td>\n",
       "    </tr>\n",
       "    <tr>\n",
       "      <th>41</th>\n",
       "      <td>AE2254CLKQFGLVCWHFRAMSW4CNZQ</td>\n",
       "      <td>19</td>\n",
       "    </tr>\n",
       "    <tr>\n",
       "      <th>45</th>\n",
       "      <td>AE225JSR3YVYTIDQSVM4P5OIPOCQ</td>\n",
       "      <td>15</td>\n",
       "    </tr>\n",
       "    <tr>\n",
       "      <th>119</th>\n",
       "      <td>AE22D3CEKC473IRRXO6GV3FFVKWA</td>\n",
       "      <td>14</td>\n",
       "    </tr>\n",
       "    <tr>\n",
       "      <th>132</th>\n",
       "      <td>AE22E3XNIF5TITEAJXHT55LD5QUQ</td>\n",
       "      <td>16</td>\n",
       "    </tr>\n",
       "    <tr>\n",
       "      <th>...</th>\n",
       "      <td>...</td>\n",
       "      <td>...</td>\n",
       "    </tr>\n",
       "    <tr>\n",
       "      <th>1717145</th>\n",
       "      <td>AHZZPHHIFD2ZYJ2PIC2C7ALO6TIA</td>\n",
       "      <td>14</td>\n",
       "    </tr>\n",
       "    <tr>\n",
       "      <th>1717221</th>\n",
       "      <td>AHZZVAZOOI2VLLRPY44BRT66RAVA</td>\n",
       "      <td>17</td>\n",
       "    </tr>\n",
       "    <tr>\n",
       "      <th>1717243</th>\n",
       "      <td>AHZZWWMHREWAUMXKST4AJRUAEYOQ</td>\n",
       "      <td>11</td>\n",
       "    </tr>\n",
       "    <tr>\n",
       "      <th>1717247</th>\n",
       "      <td>AHZZXDXLVY3NXHX6H3RV65N7AOOA</td>\n",
       "      <td>21</td>\n",
       "    </tr>\n",
       "    <tr>\n",
       "      <th>1717285</th>\n",
       "      <td>AHZZZY2XVWEUJUTYPGGL4WXH6CSA</td>\n",
       "      <td>11</td>\n",
       "    </tr>\n",
       "  </tbody>\n",
       "</table>\n",
       "<p>57078 rows × 2 columns</p>\n",
       "</div>"
      ],
      "text/plain": [
       "                              user_id  ratings\n",
       "35       AE224LWIR4ZDJLRKORFHMJGABP6Q       12\n",
       "41       AE2254CLKQFGLVCWHFRAMSW4CNZQ       19\n",
       "45       AE225JSR3YVYTIDQSVM4P5OIPOCQ       15\n",
       "119      AE22D3CEKC473IRRXO6GV3FFVKWA       14\n",
       "132      AE22E3XNIF5TITEAJXHT55LD5QUQ       16\n",
       "...                               ...      ...\n",
       "1717145  AHZZPHHIFD2ZYJ2PIC2C7ALO6TIA       14\n",
       "1717221  AHZZVAZOOI2VLLRPY44BRT66RAVA       17\n",
       "1717243  AHZZWWMHREWAUMXKST4AJRUAEYOQ       11\n",
       "1717247  AHZZXDXLVY3NXHX6H3RV65N7AOOA       21\n",
       "1717285  AHZZZY2XVWEUJUTYPGGL4WXH6CSA       11\n",
       "\n",
       "[57078 rows x 2 columns]"
      ]
     },
     "execution_count": 148,
     "metadata": {},
     "output_type": "execute_result"
    }
   ],
   "source": [
    "# This is a configuration parameter, as above ... relax if we don't have issues with compute\n",
    "min_reviews = 10\n",
    "users = users[users.ratings > min_reviews] \n",
    "users"
   ]
  },
  {
   "cell_type": "markdown",
   "id": "815e9d67",
   "metadata": {},
   "source": [
    "❗in the notebook, ratings are thresholded ... do we need to follow suit? what are the ramifications if we don't? OH... in the notebook, a click is an interaction, there's no middle ground. the network is going to operate on 0s or 1s. by leaving low reviews in our matrix, the network would learn to recommend things users have interacted with, but not necessarily positively. our case is the same, a review is an interaction. we're aiming to recommend, and we should not want to recommend low reviews. so filter... "
   ]
  },
  {
   "cell_type": "code",
   "execution_count": 151,
   "id": "9bf7c699",
   "metadata": {},
   "outputs": [],
   "source": [
    "#TODO: decide if we need to keep the low reviews around \n",
    "reviews = reviews[reviews.rating >= 3]"
   ]
  },
  {
   "cell_type": "code",
   "execution_count": 152,
   "id": "1d851762",
   "metadata": {},
   "outputs": [],
   "source": [
    "# Discard reviews by users outside our core group \n",
    "reviews = reviews[reviews.user_id.isin(set(users.user_id))]"
   ]
  },
  {
   "cell_type": "code",
   "execution_count": 153,
   "id": "055ff99f",
   "metadata": {},
   "outputs": [
    {
     "data": {
      "text/html": [
       "<div>\n",
       "<style scoped>\n",
       "    .dataframe tbody tr th:only-of-type {\n",
       "        vertical-align: middle;\n",
       "    }\n",
       "\n",
       "    .dataframe tbody tr th {\n",
       "        vertical-align: top;\n",
       "    }\n",
       "\n",
       "    .dataframe thead th {\n",
       "        text-align: right;\n",
       "    }\n",
       "</style>\n",
       "<table border=\"1\" class=\"dataframe\">\n",
       "  <thead>\n",
       "    <tr style=\"text-align: right;\">\n",
       "      <th></th>\n",
       "      <th>rating</th>\n",
       "      <th>item_id</th>\n",
       "      <th>user_id</th>\n",
       "      <th>timestamp</th>\n",
       "    </tr>\n",
       "  </thead>\n",
       "  <tbody>\n",
       "    <tr>\n",
       "      <th>80</th>\n",
       "      <td>4</td>\n",
       "      <td>B07Q585X37</td>\n",
       "      <td>AEFKF6R2GUSK2AWPSWRR4ZO36JVQ</td>\n",
       "      <td>2020-12-03 06:19:44.165</td>\n",
       "    </tr>\n",
       "    <tr>\n",
       "      <th>81</th>\n",
       "      <td>4</td>\n",
       "      <td>B07P97SHQP</td>\n",
       "      <td>AEFKF6R2GUSK2AWPSWRR4ZO36JVQ</td>\n",
       "      <td>2020-12-03 06:17:22.921</td>\n",
       "    </tr>\n",
       "    <tr>\n",
       "      <th>82</th>\n",
       "      <td>5</td>\n",
       "      <td>B07B3TX6MF</td>\n",
       "      <td>AEFKF6R2GUSK2AWPSWRR4ZO36JVQ</td>\n",
       "      <td>2020-12-03 06:15:20.998</td>\n",
       "    </tr>\n",
       "    <tr>\n",
       "      <th>85</th>\n",
       "      <td>4</td>\n",
       "      <td>B07F71KFMQ</td>\n",
       "      <td>AEFKF6R2GUSK2AWPSWRR4ZO36JVQ</td>\n",
       "      <td>2019-10-16 06:50:36.737</td>\n",
       "    </tr>\n",
       "    <tr>\n",
       "      <th>87</th>\n",
       "      <td>4</td>\n",
       "      <td>B07P7KG4TJ</td>\n",
       "      <td>AEFKF6R2GUSK2AWPSWRR4ZO36JVQ</td>\n",
       "      <td>2019-10-16 06:43:25.557</td>\n",
       "    </tr>\n",
       "    <tr>\n",
       "      <th>...</th>\n",
       "      <td>...</td>\n",
       "      <td>...</td>\n",
       "      <td>...</td>\n",
       "      <td>...</td>\n",
       "    </tr>\n",
       "    <tr>\n",
       "      <th>9999530</th>\n",
       "      <td>5</td>\n",
       "      <td>B07TTNBC62</td>\n",
       "      <td>AF7SGANS57DTNVLTAJBPKG2VU52A</td>\n",
       "      <td>2019-12-16 22:44:01.368</td>\n",
       "    </tr>\n",
       "    <tr>\n",
       "      <th>9999531</th>\n",
       "      <td>5</td>\n",
       "      <td>B01LVVG5XS</td>\n",
       "      <td>AF7SGANS57DTNVLTAJBPKG2VU52A</td>\n",
       "      <td>2019-06-06 23:30:01.780</td>\n",
       "    </tr>\n",
       "    <tr>\n",
       "      <th>9999533</th>\n",
       "      <td>5</td>\n",
       "      <td>B07GPGVYGX</td>\n",
       "      <td>AF7SGANS57DTNVLTAJBPKG2VU52A</td>\n",
       "      <td>2019-04-20 18:13:32.864</td>\n",
       "    </tr>\n",
       "    <tr>\n",
       "      <th>9999534</th>\n",
       "      <td>5</td>\n",
       "      <td>B0792K2BK6</td>\n",
       "      <td>AF7SGANS57DTNVLTAJBPKG2VU52A</td>\n",
       "      <td>2019-02-05 04:54:59.478</td>\n",
       "    </tr>\n",
       "    <tr>\n",
       "      <th>9999535</th>\n",
       "      <td>5</td>\n",
       "      <td>B07F4P3JH7</td>\n",
       "      <td>AF7SGANS57DTNVLTAJBPKG2VU52A</td>\n",
       "      <td>2018-11-17 20:32:30.084</td>\n",
       "    </tr>\n",
       "  </tbody>\n",
       "</table>\n",
       "<p>991469 rows × 4 columns</p>\n",
       "</div>"
      ],
      "text/plain": [
       "         rating     item_id                       user_id  \\\n",
       "80            4  B07Q585X37  AEFKF6R2GUSK2AWPSWRR4ZO36JVQ   \n",
       "81            4  B07P97SHQP  AEFKF6R2GUSK2AWPSWRR4ZO36JVQ   \n",
       "82            5  B07B3TX6MF  AEFKF6R2GUSK2AWPSWRR4ZO36JVQ   \n",
       "85            4  B07F71KFMQ  AEFKF6R2GUSK2AWPSWRR4ZO36JVQ   \n",
       "87            4  B07P7KG4TJ  AEFKF6R2GUSK2AWPSWRR4ZO36JVQ   \n",
       "...         ...         ...                           ...   \n",
       "9999530       5  B07TTNBC62  AF7SGANS57DTNVLTAJBPKG2VU52A   \n",
       "9999531       5  B01LVVG5XS  AF7SGANS57DTNVLTAJBPKG2VU52A   \n",
       "9999533       5  B07GPGVYGX  AF7SGANS57DTNVLTAJBPKG2VU52A   \n",
       "9999534       5  B0792K2BK6  AF7SGANS57DTNVLTAJBPKG2VU52A   \n",
       "9999535       5  B07F4P3JH7  AF7SGANS57DTNVLTAJBPKG2VU52A   \n",
       "\n",
       "                      timestamp  \n",
       "80      2020-12-03 06:19:44.165  \n",
       "81      2020-12-03 06:17:22.921  \n",
       "82      2020-12-03 06:15:20.998  \n",
       "85      2019-10-16 06:50:36.737  \n",
       "87      2019-10-16 06:43:25.557  \n",
       "...                         ...  \n",
       "9999530 2019-12-16 22:44:01.368  \n",
       "9999531 2019-06-06 23:30:01.780  \n",
       "9999533 2019-04-20 18:13:32.864  \n",
       "9999534 2019-02-05 04:54:59.478  \n",
       "9999535 2018-11-17 20:32:30.084  \n",
       "\n",
       "[991469 rows x 4 columns]"
      ]
     },
     "execution_count": 153,
     "metadata": {},
     "output_type": "execute_result"
    }
   ],
   "source": [
    "reviews"
   ]
  },
  {
   "cell_type": "code",
   "execution_count": 154,
   "id": "9063bc36",
   "metadata": {},
   "outputs": [
    {
     "data": {
      "text/plain": [
       "2431751112"
      ]
     },
     "execution_count": 154,
     "metadata": {},
     "output_type": "execute_result"
    }
   ],
   "source": [
    "matrix_size = len(users) * len(items)\n",
    "matrix_size"
   ]
  },
  {
   "cell_type": "code",
   "execution_count": 155,
   "id": "b24adbe0",
   "metadata": {},
   "outputs": [],
   "source": [
    "from recommenders.datasets.sparse import AffinityMatrix"
   ]
  },
  {
   "cell_type": "code",
   "execution_count": 156,
   "id": "2a2fb20f",
   "metadata": {},
   "outputs": [],
   "source": [
    "import numpy as np \n",
    "import pandas as pd "
   ]
  },
  {
   "cell_type": "code",
   "execution_count": 157,
   "id": "59004367",
   "metadata": {},
   "outputs": [
    {
     "data": {
      "text/plain": [
       "Index(['rating', 'item_id', 'user_id', 'timestamp'], dtype='object')"
      ]
     },
     "execution_count": 157,
     "metadata": {},
     "output_type": "execute_result"
    }
   ],
   "source": [
    "reviews.columns"
   ]
  },
  {
   "cell_type": "code",
   "execution_count": 158,
   "id": "ed310c82",
   "metadata": {},
   "outputs": [
    {
     "data": {
      "text/html": [
       "<div>\n",
       "<style scoped>\n",
       "    .dataframe tbody tr th:only-of-type {\n",
       "        vertical-align: middle;\n",
       "    }\n",
       "\n",
       "    .dataframe tbody tr th {\n",
       "        vertical-align: top;\n",
       "    }\n",
       "\n",
       "    .dataframe thead th {\n",
       "        text-align: right;\n",
       "    }\n",
       "</style>\n",
       "<table border=\"1\" class=\"dataframe\">\n",
       "  <thead>\n",
       "    <tr style=\"text-align: right;\">\n",
       "      <th></th>\n",
       "      <th>rating</th>\n",
       "      <th>item_id</th>\n",
       "      <th>user_id</th>\n",
       "      <th>timestamp</th>\n",
       "    </tr>\n",
       "  </thead>\n",
       "  <tbody>\n",
       "    <tr>\n",
       "      <th>80</th>\n",
       "      <td>4</td>\n",
       "      <td>B07Q585X37</td>\n",
       "      <td>AEFKF6R2GUSK2AWPSWRR4ZO36JVQ</td>\n",
       "      <td>2020-12-03 06:19:44.165</td>\n",
       "    </tr>\n",
       "    <tr>\n",
       "      <th>81</th>\n",
       "      <td>4</td>\n",
       "      <td>B07P97SHQP</td>\n",
       "      <td>AEFKF6R2GUSK2AWPSWRR4ZO36JVQ</td>\n",
       "      <td>2020-12-03 06:17:22.921</td>\n",
       "    </tr>\n",
       "    <tr>\n",
       "      <th>82</th>\n",
       "      <td>5</td>\n",
       "      <td>B07B3TX6MF</td>\n",
       "      <td>AEFKF6R2GUSK2AWPSWRR4ZO36JVQ</td>\n",
       "      <td>2020-12-03 06:15:20.998</td>\n",
       "    </tr>\n",
       "    <tr>\n",
       "      <th>85</th>\n",
       "      <td>4</td>\n",
       "      <td>B07F71KFMQ</td>\n",
       "      <td>AEFKF6R2GUSK2AWPSWRR4ZO36JVQ</td>\n",
       "      <td>2019-10-16 06:50:36.737</td>\n",
       "    </tr>\n",
       "    <tr>\n",
       "      <th>87</th>\n",
       "      <td>4</td>\n",
       "      <td>B07P7KG4TJ</td>\n",
       "      <td>AEFKF6R2GUSK2AWPSWRR4ZO36JVQ</td>\n",
       "      <td>2019-10-16 06:43:25.557</td>\n",
       "    </tr>\n",
       "    <tr>\n",
       "      <th>...</th>\n",
       "      <td>...</td>\n",
       "      <td>...</td>\n",
       "      <td>...</td>\n",
       "      <td>...</td>\n",
       "    </tr>\n",
       "    <tr>\n",
       "      <th>9999530</th>\n",
       "      <td>5</td>\n",
       "      <td>B07TTNBC62</td>\n",
       "      <td>AF7SGANS57DTNVLTAJBPKG2VU52A</td>\n",
       "      <td>2019-12-16 22:44:01.368</td>\n",
       "    </tr>\n",
       "    <tr>\n",
       "      <th>9999531</th>\n",
       "      <td>5</td>\n",
       "      <td>B01LVVG5XS</td>\n",
       "      <td>AF7SGANS57DTNVLTAJBPKG2VU52A</td>\n",
       "      <td>2019-06-06 23:30:01.780</td>\n",
       "    </tr>\n",
       "    <tr>\n",
       "      <th>9999533</th>\n",
       "      <td>5</td>\n",
       "      <td>B07GPGVYGX</td>\n",
       "      <td>AF7SGANS57DTNVLTAJBPKG2VU52A</td>\n",
       "      <td>2019-04-20 18:13:32.864</td>\n",
       "    </tr>\n",
       "    <tr>\n",
       "      <th>9999534</th>\n",
       "      <td>5</td>\n",
       "      <td>B0792K2BK6</td>\n",
       "      <td>AF7SGANS57DTNVLTAJBPKG2VU52A</td>\n",
       "      <td>2019-02-05 04:54:59.478</td>\n",
       "    </tr>\n",
       "    <tr>\n",
       "      <th>9999535</th>\n",
       "      <td>5</td>\n",
       "      <td>B07F4P3JH7</td>\n",
       "      <td>AF7SGANS57DTNVLTAJBPKG2VU52A</td>\n",
       "      <td>2018-11-17 20:32:30.084</td>\n",
       "    </tr>\n",
       "  </tbody>\n",
       "</table>\n",
       "<p>991469 rows × 4 columns</p>\n",
       "</div>"
      ],
      "text/plain": [
       "         rating     item_id                       user_id  \\\n",
       "80            4  B07Q585X37  AEFKF6R2GUSK2AWPSWRR4ZO36JVQ   \n",
       "81            4  B07P97SHQP  AEFKF6R2GUSK2AWPSWRR4ZO36JVQ   \n",
       "82            5  B07B3TX6MF  AEFKF6R2GUSK2AWPSWRR4ZO36JVQ   \n",
       "85            4  B07F71KFMQ  AEFKF6R2GUSK2AWPSWRR4ZO36JVQ   \n",
       "87            4  B07P7KG4TJ  AEFKF6R2GUSK2AWPSWRR4ZO36JVQ   \n",
       "...         ...         ...                           ...   \n",
       "9999530       5  B07TTNBC62  AF7SGANS57DTNVLTAJBPKG2VU52A   \n",
       "9999531       5  B01LVVG5XS  AF7SGANS57DTNVLTAJBPKG2VU52A   \n",
       "9999533       5  B07GPGVYGX  AF7SGANS57DTNVLTAJBPKG2VU52A   \n",
       "9999534       5  B0792K2BK6  AF7SGANS57DTNVLTAJBPKG2VU52A   \n",
       "9999535       5  B07F4P3JH7  AF7SGANS57DTNVLTAJBPKG2VU52A   \n",
       "\n",
       "                      timestamp  \n",
       "80      2020-12-03 06:19:44.165  \n",
       "81      2020-12-03 06:17:22.921  \n",
       "82      2020-12-03 06:15:20.998  \n",
       "85      2019-10-16 06:50:36.737  \n",
       "87      2019-10-16 06:43:25.557  \n",
       "...                         ...  \n",
       "9999530 2019-12-16 22:44:01.368  \n",
       "9999531 2019-06-06 23:30:01.780  \n",
       "9999533 2019-04-20 18:13:32.864  \n",
       "9999534 2019-02-05 04:54:59.478  \n",
       "9999535 2018-11-17 20:32:30.084  \n",
       "\n",
       "[991469 rows x 4 columns]"
      ]
     },
     "execution_count": 158,
     "metadata": {},
     "output_type": "execute_result"
    }
   ],
   "source": [
    "reviews"
   ]
  },
  {
   "cell_type": "code",
   "execution_count": null,
   "id": "d962c10e",
   "metadata": {},
   "outputs": [],
   "source": [
    "from recommenders.datasets.python_splitters import python_stratified_split\n",
    "\n",
    "# Split, ensuring we have all items represented in each of these sets, i.e. \n",
    "# each item we want to predict needs to be present at training time\n",
    "\n",
    "train, test, val = python_stratified_split(\n",
    "    data=reviews,\n",
    "    ratio=[.9, .05, .05],\n",
    "    filter_by=\"item\", \n",
    "    col_user='user_id', \n",
    "    col_item='item_id') "
   ]
  },
  {
   "cell_type": "code",
   "execution_count": 161,
   "id": "183f7123",
   "metadata": {},
   "outputs": [
    {
     "name": "stdout",
     "output_type": "stream",
     "text": [
      "(892946, 4) (51668, 4) (46855, 4)\n"
     ]
    }
   ],
   "source": [
    "print(train.shape, test.shape, val.shape)"
   ]
  },
  {
   "cell_type": "code",
   "execution_count": null,
   "id": "47573521",
   "metadata": {},
   "outputs": [
    {
     "data": {
      "text/plain": [
       "array(['0062970704', '0345803507', '0525566651', ..., 'B0CH7XX85M',\n",
       "       'B0CH817Z21', 'B0CJ2FDZD9'], dtype=object)"
      ]
     },
     "execution_count": 163,
     "metadata": {},
     "output_type": "execute_result"
    }
   ],
   "source": []
  },
  {
   "cell_type": "code",
   "execution_count": null,
   "id": "00edf334",
   "metadata": {},
   "outputs": [],
   "source": [
    "#to use standard names across the analysis \n",
    "header = {\n",
    "        \"col_user\": \"user_id\",\n",
    "        \"col_item\": \"item_id\",\n",
    "        \"col_rating\": \"rating\",\n",
    "        # Unclear why this doesn't also eat a timestamp, but many of the functions that split temporally use, fortunately \n",
    "        # the column 'timestamp' (i.e. DEFAULT_TIMESTAMP_COL='timestamp') so I think we're fine. \n",
    "        # \"col_timestamp\" : \"timestamp\"\n",
    "    }\n",
    "\n",
    "ui_matrix = AffinityMatrix(df=reviews, **header)"
   ]
  },
  {
   "cell_type": "code",
   "execution_count": null,
   "id": "40e96fc5",
   "metadata": {},
   "outputs": [],
   "source": []
  },
  {
   "cell_type": "code",
   "execution_count": 21,
   "id": "bf1c2061",
   "metadata": {},
   "outputs": [],
   "source": [
    "# This generates a sparse array of user vectors, aka user-item matrix\n",
    "# X[0] is the first user in the list, with entries for all items known when the matrix was constructed in that row\n",
    "X, _, _ = ui_matrix.gen_affinity_matrix()"
   ]
  },
  {
   "cell_type": "code",
   "execution_count": 22,
   "id": "f6cc2147",
   "metadata": {},
   "outputs": [
    {
     "data": {
      "text/plain": [
       "(1351, 92292)"
      ]
     },
     "execution_count": 22,
     "metadata": {},
     "output_type": "execute_result"
    }
   ],
   "source": [
    "X.shape"
   ]
  },
  {
   "cell_type": "code",
   "execution_count": 36,
   "id": "69b4c959",
   "metadata": {},
   "outputs": [],
   "source": [
    "from recommenders.datasets.python_splitters import numpy_stratified_split\n",
    "\n",
    "X_train, X_test = numpy_stratified_split(X) "
   ]
  },
  {
   "cell_type": "code",
   "execution_count": 24,
   "id": "bdc7c7ec",
   "metadata": {},
   "outputs": [],
   "source": [
    "#TODO: decide whether we need to binarize here\n",
    "from recommenders.utils.python_utils import binarize\n",
    "Xb = binarize(X, 3)"
   ]
  },
  {
   "cell_type": "code",
   "execution_count": 30,
   "id": "c9749568",
   "metadata": {},
   "outputs": [
    {
     "data": {
      "text/plain": [
       "0.0013188998853219801"
      ]
     },
     "execution_count": 30,
     "metadata": {},
     "output_type": "execute_result"
    }
   ],
   "source": [
    "# TODO: Make sure this is reported during training/configuration\n",
    "sparsity = np.count_nonzero(Xb)/(Xb.shape[0]*Xb.shape[1])\n",
    "sparsity"
   ]
  },
  {
   "cell_type": "code",
   "execution_count": 33,
   "id": "7cec7cdf",
   "metadata": {},
   "outputs": [],
   "source": [
    "from recommenders.models.vae.standard_vae import StandardVAE"
   ]
  },
  {
   "cell_type": "code",
   "execution_count": 30,
   "id": "7e020196",
   "metadata": {},
   "outputs": [
    {
     "data": {
      "text/plain": [
       "(1351, 99429)"
      ]
     },
     "execution_count": 30,
     "metadata": {},
     "output_type": "execute_result"
    }
   ],
   "source": [
    "X_train.shape"
   ]
  },
  {
   "cell_type": "code",
   "execution_count": 31,
   "id": "55eb263b",
   "metadata": {},
   "outputs": [
    {
     "data": {
      "text/plain": [
       "(1351, 99429)"
      ]
     },
     "execution_count": 31,
     "metadata": {},
     "output_type": "execute_result"
    }
   ],
   "source": [
    "X_test.shape"
   ]
  },
  {
   "cell_type": "code",
   "execution_count": 58,
   "id": "128d628a",
   "metadata": {},
   "outputs": [
    {
     "data": {
      "text/plain": [
       "(1351, 92292)"
      ]
     },
     "execution_count": 58,
     "metadata": {},
     "output_type": "execute_result"
    }
   ],
   "source": [
    "X.shape"
   ]
  },
  {
   "cell_type": "code",
   "execution_count": 34,
   "id": "4a109158",
   "metadata": {},
   "outputs": [
    {
     "data": {
      "text/plain": [
       "'2.19.0'"
      ]
     },
     "execution_count": 34,
     "metadata": {},
     "output_type": "execute_result"
    }
   ],
   "source": [
    "keras.__version__ "
   ]
  },
  {
   "cell_type": "markdown",
   "id": "05fca12b",
   "metadata": {},
   "source": [
    "## Model Design "
   ]
  },
  {
   "cell_type": "code",
   "execution_count": 35,
   "id": "4ca71fe2",
   "metadata": {},
   "outputs": [
    {
     "name": "stderr",
     "output_type": "stream",
     "text": [
      "I0000 00:00:1752982001.723465 1420605 gpu_device.cc:2019] Created device /job:localhost/replica:0/task:0/device:GPU:0 with 17324 MB memory:  -> device: 0, name: NVIDIA RTX A5500, pci bus id: 0000:01:00.0, compute capability: 8.6\n"
     ]
    }
   ],
   "source": [
    "model = StandardVAE(\n",
    "    n_users = X.shape[0], \n",
    "    original_dim = X.shape[1],\n",
    "    intermediate_dim=250, \n",
    "    latent_dim=50, \n",
    "    n_epochs=1, \n",
    "    batch_size=1, \n",
    "    k=10, \n",
    "    verbose=1, \n",
    "    seed=4, \n",
    "    save_path=\"models/svae.hdf5\", \n",
    "    drop_encoder=0.5, \n",
    "    drop_decoder=0.5, \n",
    "    annealing=False, \n",
    "    beta=1.0) "
   ]
  },
  {
   "cell_type": "code",
   "execution_count": null,
   "id": "cde3ddd3",
   "metadata": {},
   "outputs": [
    {
     "ename": "TypeError",
     "evalue": "StandardVAE.fit() missing 4 required positional arguments: 'x_valid', 'x_val_tr', 'x_val_te', and 'mapper'",
     "output_type": "error",
     "traceback": [
      "\u001b[31m---------------------------------------------------------------------------\u001b[39m",
      "\u001b[31mTypeError\u001b[39m                                 Traceback (most recent call last)",
      "\u001b[36mCell\u001b[39m\u001b[36m \u001b[39m\u001b[32mIn[37]\u001b[39m\u001b[32m, line 1\u001b[39m\n\u001b[32m----> \u001b[39m\u001b[32m1\u001b[39m \u001b[43mmodel\u001b[49m\u001b[43m.\u001b[49m\u001b[43mfit\u001b[49m\u001b[43m(\u001b[49m\u001b[43mx_train\u001b[49m\u001b[43m=\u001b[49m\u001b[43mXb\u001b[49m\u001b[43m,\u001b[49m\u001b[43m \u001b[49m\n\u001b[32m      2\u001b[39m \u001b[43m          \u001b[49m\u001b[38;5;66;43;03m#x_valid=X_val, \u001b[39;49;00m\n\u001b[32m      3\u001b[39m \u001b[43m          \u001b[49m\u001b[43m)\u001b[49m\n",
      "\u001b[31mTypeError\u001b[39m: StandardVAE.fit() missing 4 required positional arguments: 'x_valid', 'x_val_tr', 'x_val_te', and 'mapper'"
     ]
    }
   ],
   "source": [
    "model.fit(x_train=Xb, \n",
    "          x_valid=X_val, \n",
    "          x_val_tr=\n",
    "          x_val_te=\n",
    "          mapper=ui_matrix\n",
    "          )"
   ]
  },
  {
   "cell_type": "markdown",
   "id": "1790e376",
   "metadata": {},
   "source": [
    "Managing text-based reviews at this scale could be a challenge, and I'd like to steer clear of LLMs for this effort. We could do an embedding on the review and use that for similarity, but we have pretty rich item data. Perhaps let's ignore the collaborative aspect here and build a shopping interface that: \n",
    "- surfaces the most popular items, and encourages you to add items to your shopping cart for a big discount/promo\n",
    "- based on clicks and cart items, improves the recommendations and surfaces new products\n",
    "\n",
    "We can use an autoencoder to accept a sparse matrix of users and items, learn to reproduce that matrix, and in so doing support prediction on missing values. However, this matrix is of size users x items, which here is 1.8e7 x 1.6e6 = 28,125,000,000 KB (best-case, higher if stored as np floats) ~= 26 TB !! WTF. \n",
    "- In the standard VAE example (https://github.com/recommenders-team/recommenders/blob/main/examples/02_model_collaborative_filtering/standard_vae_deep_dive.ipynb) the clicks are turned into a histogram for each user ... so we have n_user vector of length n_items... then I guess each of these is a training sample. The VAE presumably learns, given a sparse user vector, to predict every rating. This takes the complexity down and gives us a training set we can iterate over. \n",
    "\n",
    "Let's avoid any distributional pressure (present in VAE, SVAE, disentangled VAE) and go for a basic autoencoder using the strategy laid out above, i.e."
   ]
  },
  {
   "cell_type": "markdown",
   "id": "b50313df",
   "metadata": {},
   "source": [
    "## Autoencoder Prototype"
   ]
  },
  {
   "cell_type": "code",
   "execution_count": null,
   "id": "40e3b0da",
   "metadata": {},
   "outputs": [],
   "source": [
    "import torch \n",
    "import pandas as pd \n",
    "import torch\n",
    "from tqdm import tqdm\n",
    "import os\n",
    "import math \n",
    "import torch.nn as nn\n",
    "import torch.nn.functional as F\n",
    "import torch.optim as optim\n",
    "import wandb"
   ]
  },
  {
   "cell_type": "code",
   "execution_count": null,
   "id": "9d96acb4",
   "metadata": {},
   "outputs": [],
   "source": [
    "class Autoencoder(nn.Module):\n",
    "    \"\"\"\n",
    "    Autoencoder\n",
    "\n",
    "    NOTE: with cues from https://www.geeksforgeeks.org/deep-learning/implementing-an-autoencoder-in-pytorch/\n",
    "    \"\"\"\n",
    "\n",
    "    def __init__(self, dims=1000):\n",
    "        \"\"\"\n",
    "        Initialize a new object \n",
    "        \"\"\"\n",
    "        super().__init__()\n",
    "\n",
    "        self.encoder = nn.Sequential(\n",
    "            nn.Linear(dims, 500),\n",
    "            nn.Linear(500, 75),\n",
    "        )\n",
    "        self.decoder = nn.Sequential(\n",
    "            nn.Linear(75, 500),\n",
    "            nn.Linear(500, dims),\n",
    "        )\n",
    "\n",
    "    def forward(self, x):\n",
    "        \"\"\"\n",
    "        Implement our forward pass \n",
    "        \"\"\"\n",
    "        h = self.encoder(x) \n",
    "        r = self.decoder(h)\n",
    "\n",
    "        return r"
   ]
  },
  {
   "cell_type": "code",
   "execution_count": null,
   "id": "9366399c",
   "metadata": {},
   "outputs": [],
   "source": [
    "class DeepCartDataset(torch.utils.data.Dataset): \n",
    "    \"\"\"\n",
    "    Custom pytorch-compatible dataset. Adapted from \n",
    "    https://pytorch.org/tutorials/beginner/basics/data_tutorial.html#creating-a-custom-dataset-for-your-files\n",
    "    \"\"\"\n",
    "    def __init__(self, annotations_file, img_dir, transform=None, target_transform=None): \n",
    "\n",
    "        self.img_labels = pd.read_csv(annotations_file)\n",
    "\n",
    "        #TODO: implement\n",
    "\n",
    "    def __len__(self): \n",
    "        return len(self.img_labels) \n",
    "    \n",
    "    def __getitem__(self, idx): \n",
    "        #TODO: implement\n",
    "        pass"
   ]
  },
  {
   "cell_type": "code",
   "execution_count": 1,
   "id": "80a1265d",
   "metadata": {},
   "outputs": [],
   "source": [
    "def get_data_loader(batch_size=5, shuffle=True): \n",
    "    \"\"\"\n",
    "    Retrieve a pytorch-style dataloader \n",
    "    \"\"\"\n",
    "\n",
    "    #TODO: implement\n",
    "    #transform = transforms.Compose([\n",
    "    #     transforms.ConvertImageDtype(torch.float),\n",
    "    #     transforms.Normalize(mean=[0.5], std=[0.5])\n",
    "    #])\n",
    "\n",
    "    #data = DeepCartDataset(transform=transform)\n",
    "    #loader = torch.utils.data.DataLoader(data, batch_size=batch_size, shuffle=shuffle)\n",
    "    \n",
    "    #return loader\n",
    "    pass"
   ]
  },
  {
   "cell_type": "code",
   "execution_count": 2,
   "id": "29b65652",
   "metadata": {},
   "outputs": [],
   "source": [
    "def train(loader, model, loss_interval=20, epochs=2, lr=0.01, momentum=0.9):\n",
    "    \"\"\"\n",
    "    Train the model with the provided dataset\n",
    "\n",
    "    NOTE: this is a similar training loop as we used for our vision model in the \n",
    "    the vision project, forward pass\n",
    "    \"\"\"\n",
    "    device = \"cuda\" if torch.cuda.is_available() else \"cpu\"\n",
    "    \n",
    "    train_loss = []\n",
    "\n",
    "    tqdm.write(f\"Starting training run...\")    \n",
    "    # TODO: configure WandB\n",
    "    # see https://docs.wandb.ai/guides/integrations/pytorch/\n",
    "    config = {}\n",
    "    run = wandb.init(config=config) \n",
    "\n",
    "    model.train()\n",
    "    model = model.to(device)\n",
    "    \n",
    "    loss_fn = nn.CrossEntropyLoss()\n",
    "\n",
    "    optimizer = optim.SGD(model.parameters(), lr=lr, momentum=momentum)\n",
    "\n",
    "    for epoch in range(epochs):\n",
    "\n",
    "        running_loss = 0.0\n",
    "        for i, data in enumerate(loader):\n",
    "\n",
    "            # get the inputs; data is a list of [inputs, labels]\n",
    "            inputs, labels = data\n",
    "            inputs = inputs.to(device)\n",
    "            labels = labels.to(device)\n",
    "            \n",
    "            # zero the parameter gradients\n",
    "            optimizer.zero_grad()\n",
    "\n",
    "            # forward + backward + optimize\n",
    "            outputs = model(inputs)\n",
    "\n",
    "            loss = loss_fn(outputs, labels)\n",
    "            loss.backward()\n",
    "            optimizer.step()\n",
    "\n",
    "            # collect metrics\n",
    "            running_loss += loss.item()\n",
    "\n",
    "            if (i % loss_interval) == (loss_interval - 1): \n",
    "                train_loss.append(running_loss / loss_interval)\n",
    "                tqdm.write(f\"[{epoch + 1}, {i + 1:5d}] loss: {running_loss / loss_interval:.3f}\")\n",
    "                running_loss = 0 \n",
    "    \n",
    "    tqdm.write(\"Training complete!\") \n",
    "\n",
    "    return train_loss "
   ]
  },
  {
   "cell_type": "code",
   "execution_count": null,
   "id": "98a0ce4e",
   "metadata": {},
   "outputs": [],
   "source": []
  }
 ],
 "metadata": {
  "kernelspec": {
   "display_name": "venv",
   "language": "python",
   "name": "python3"
  },
  "language_info": {
   "codemirror_mode": {
    "name": "ipython",
    "version": 3
   },
   "file_extension": ".py",
   "mimetype": "text/x-python",
   "name": "python",
   "nbconvert_exporter": "python",
   "pygments_lexer": "ipython3",
   "version": "3.12.3"
  }
 },
 "nbformat": 4,
 "nbformat_minor": 5
}
